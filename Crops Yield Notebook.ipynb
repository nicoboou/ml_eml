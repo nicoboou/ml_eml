{
 "cells": [
  {
   "cell_type": "markdown",
   "id": "ec71e26c",
   "metadata": {},
   "source": [
    "# Table of Contents"
   ]
  },
  {
   "cell_type": "markdown",
   "id": "37e4492a",
   "metadata": {},
   "source": [
    "-  [About the dataset](#about)<br>\n",
    "-  [Load the data](#load_data)<br>"
   ]
  },
  {
   "cell_type": "markdown",
   "id": "686f2b91",
   "metadata": {},
   "source": [
    "# Imports"
   ]
  },
  {
   "cell_type": "code",
   "execution_count": null,
   "id": "80576778",
   "metadata": {},
   "outputs": [],
   "source": [
    "# for package auto reload\n",
    "%load_ext autoreload\n",
    "%autoreload 2\n",
    "\n",
    "# for better rendering of plots in jupyter notebook\n",
    "%matplotlib inline"
   ]
  },
  {
   "cell_type": "code",
   "execution_count": 3,
   "id": "a0596513",
   "metadata": {},
   "outputs": [],
   "source": [
    "# base modules\n",
    "import os\n",
    "import sys\n",
    "import copy\n",
    "import logging\n",
    "from collections import OrderedDict\n",
    "\n",
    "# for manipulating data\n",
    "import numpy as np\n",
    "import pandas as pd\n",
    "import math\n",
    "import dill\n",
    "\n",
    "# for Machine Learning\n",
    "from sklearn.ensemble import RandomForestRegressor, RandomForestClassifier, BaggingRegressor\n",
    "from sklearn.tree import DecisionTreeRegressor, DecisionTreeClassifier, plot_tree\n",
    "from sklearn import metrics\n",
    "from sklearn.preprocessing import LabelEncoder\n",
    "from sklearn.model_selection import cross_val_score, KFold, GridSearchCV\n",
    "from sklearn.calibration import CalibratedClassifierCV\n",
    "from sklearn.inspection import permutation_importance\n",
    "from scipy.cluster import hierarchy\n",
    "\n",
    "# for visualization\n",
    "from IPython.display import display\n",
    "from matplotlib import pyplot as plt\n",
    "import graphviz\n",
    "# plotly\n",
    "# seaborn\n",
    "# altair\n",
    "\n",
    "\n",
    "# Ignore useless warnings (see SciPy issue #5998)\n",
    "import warnings\n",
    "warnings.filterwarnings(action=\"ignore\", message=\"^internal gelsd\")"
   ]
  },
  {
   "cell_type": "code",
   "execution_count": 4,
   "id": "5a1ef925",
   "metadata": {},
   "outputs": [
    {
     "data": {
      "text/plain": [
       "'/Users/nicolas/Desktop/Etudes/3_emlyon/2021:2022/Machine_Learning'"
      ]
     },
     "execution_count": 4,
     "metadata": {},
     "output_type": "execute_result"
    }
   ],
   "source": [
    "# path to repo\n",
    "# path_to_repo = os.path.dirname(os.getcwd())\n",
    "path_to_repo = os.path.dirname(os.path.dirname(os.path.realpath('__file__')))\n",
    "path_to_repo"
   ]
  },
  {
   "cell_type": "markdown",
   "id": "a07ef49d",
   "metadata": {},
   "source": [
    "# Introduction: Crops Yield Project"
   ]
  },
  {
   "cell_type": "markdown",
   "id": "f43d104c",
   "metadata": {},
   "source": [
    "### Project Ideas"
   ]
  },
  {
   "cell_type": "markdown",
   "id": "3cf635b6",
   "metadata": {},
   "source": [
    "Several ideas might pop up looking at this dataset, for example:\n",
    "\n",
    "**Exploratory Data Analysis**\n",
    "- Vizualisation of certain crops yields' temporal evolution per country\n",
    "- Correlation between production & population\n",
    "\n",
    "**Machine Learning**\n",
    "- C02 emissions of crops using regression\n",
    "- Clustering on CO2 crop emissioners\n",
    "- Crop yields forecasting through time-series analysis using production & pop correlation"
   ]
  },
  {
   "cell_type": "markdown",
   "id": "09089171",
   "metadata": {},
   "source": [
    "# Datasets Overview"
   ]
  },
  {
   "cell_type": "markdown",
   "id": "9220cd0a",
   "metadata": {},
   "source": [
    "## 1. Agricultural Crop Production"
   ]
  },
  {
   "cell_type": "markdown",
   "id": "6365b91b",
   "metadata": {},
   "source": [
    "### Summary"
   ]
  },
  {
   "cell_type": "markdown",
   "id": "98e57b45",
   "metadata": {},
   "source": [
    "Crop statistics for 173 products in Africa, America, Asia, Europe and Oceania, collected from 1961 to 2019."
   ]
  },
  {
   "cell_type": "markdown",
   "id": "ffb52b2b",
   "metadata": {},
   "source": [
    "### Description"
   ]
  },
  {
   "cell_type": "markdown",
   "id": "a1ee39ce",
   "metadata": {},
   "source": [
    "Data from the Food and Agriculture Organization of the United Nations (FAO)\n",
    "\n",
    "Achieving food security for all is at the heart of FAO's efforts - ensuring that people have regular access to enough quality food to lead active and healthy lives. Our three main objectives are: the eradication of hunger, food insecurity and malnutrition; the eradication of poverty and the promotion of economic and social progress for all; and the sustainable management and use of natural resources, including land, water, air, climate and genetic resources, for the benefit of present and future generations.\n",
    "\n",
    "Primary crops, fibre crops. Crop statistics are recorded for 173 commodities, covering the following categories: Primary crops, Primary fibre crops, Cereals, Secondary cereals, Citrus, Fruit, Jute and related fibres, Oilcake equivalent, Primary oilseeds, Dry vegetables, Roots and tubers, Green fruits and vegetables and Melons. Data are expressed in terms of area harvested, quantity produced, yield and quantity of seed. The aim is to provide comprehensive coverage of production of all primary crops for all countries and regions of the world.\n",
    "\n",
    "Source : Organisation des Nations Unies pour l'alimentation et l'agriculture (FAO)"
   ]
  },
  {
   "cell_type": "markdown",
   "id": "42403b37",
   "metadata": {},
   "source": [
    "## 2. Gas emissions Statistics"
   ]
  },
  {
   "cell_type": "markdown",
   "id": "491d195c",
   "metadata": {},
   "source": [
    "### Summary"
   ]
  },
  {
   "cell_type": "markdown",
   "id": "f6f57098",
   "metadata": {},
   "source": [
    "The FAOSTAT domain Emissions Totals disseminates information estimates of CH4, N2O and CO2 emissions/removals and their aggregates in CO2eq in units of kilotonnes (kt, or 106 kg). "
   ]
  },
  {
   "cell_type": "markdown",
   "id": "eee9840f",
   "metadata": {},
   "source": [
    "### Description"
   ]
  },
  {
   "cell_type": "markdown",
   "id": "c65fa32f",
   "metadata": {},
   "source": [
    "The FAOSTAT domain Emissions Totals summarizes the greenhouse gas (GHG) emissions disseminated in the FAOSTAT Climate Change Emissions domains, generated from agriculture and forest land. They consist of methane (CH4), nitrous oxide (N2O) and carbon dioxide (CO2) emissions from crop and livestock activities, forest management and include land use and land use change processes. Data are computed at Tier 1 of the IPCC Guidelines for National greenhouse gas (GHG) Inventories (IPCC, 1996; 1997; 2000; 2002; 2006; 2014). Estimates are available by country, with global coverage for the period 1961–2019 with projections for 2030 and 2050 for some categories of emissions or 1990–2019 for others. The database is updated annually."
   ]
  },
  {
   "cell_type": "markdown",
   "id": "2a32a7ea",
   "metadata": {},
   "source": [
    "## 3. Population per country"
   ]
  },
  {
   "cell_type": "markdown",
   "id": "9e5844ee",
   "metadata": {},
   "source": [
    "The FAOSTAT Population module contains time series data on population, by sex and urban/rural. The series consist of both estimates and projections for different periods as available from the original sources, namely:\n",
    "1. Population data refers to the World Population Prospects: The 2019 Revision from the UN Population Division.\n",
    "2. Urban/rural population data refers to the World Urbanization Prospects: The 2018 Revision from the UN Population Division."
   ]
  },
  {
   "cell_type": "markdown",
   "id": "4220494e",
   "metadata": {},
   "source": [
    "# Data Preprocessing"
   ]
  },
  {
   "cell_type": "markdown",
   "id": "09ca5fce",
   "metadata": {},
   "source": [
    "### Get a glimpse of one of the main datasets"
   ]
  },
  {
   "cell_type": "code",
   "execution_count": 5,
   "id": "5fa1c755",
   "metadata": {},
   "outputs": [
    {
     "data": {
      "text/html": [
       "<div>\n",
       "<style scoped>\n",
       "    .dataframe tbody tr th:only-of-type {\n",
       "        vertical-align: middle;\n",
       "    }\n",
       "\n",
       "    .dataframe tbody tr th {\n",
       "        vertical-align: top;\n",
       "    }\n",
       "\n",
       "    .dataframe thead th {\n",
       "        text-align: right;\n",
       "    }\n",
       "</style>\n",
       "<table border=\"1\" class=\"dataframe\">\n",
       "  <thead>\n",
       "    <tr style=\"text-align: right;\">\n",
       "      <th></th>\n",
       "      <th>Area Code</th>\n",
       "      <th>Area</th>\n",
       "      <th>Item Code</th>\n",
       "      <th>Item</th>\n",
       "      <th>Element Code</th>\n",
       "      <th>Element</th>\n",
       "      <th>Unit</th>\n",
       "      <th>Y1961</th>\n",
       "      <th>Y1961F</th>\n",
       "      <th>Y1962</th>\n",
       "      <th>...</th>\n",
       "      <th>Y2015</th>\n",
       "      <th>Y2015F</th>\n",
       "      <th>Y2016</th>\n",
       "      <th>Y2016F</th>\n",
       "      <th>Y2017</th>\n",
       "      <th>Y2017F</th>\n",
       "      <th>Y2018</th>\n",
       "      <th>Y2018F</th>\n",
       "      <th>Y2019</th>\n",
       "      <th>Y2019F</th>\n",
       "    </tr>\n",
       "  </thead>\n",
       "  <tbody>\n",
       "    <tr>\n",
       "      <th>0</th>\n",
       "      <td>4</td>\n",
       "      <td>Algeria</td>\n",
       "      <td>221</td>\n",
       "      <td>Almonds, with shell</td>\n",
       "      <td>5312</td>\n",
       "      <td>Area harvested</td>\n",
       "      <td>ha</td>\n",
       "      <td>13300.0</td>\n",
       "      <td>F</td>\n",
       "      <td>13300.0</td>\n",
       "      <td>...</td>\n",
       "      <td>40403.0</td>\n",
       "      <td>NaN</td>\n",
       "      <td>49983.0</td>\n",
       "      <td>NaN</td>\n",
       "      <td>50100.0</td>\n",
       "      <td>NaN</td>\n",
       "      <td>43043.0</td>\n",
       "      <td>NaN</td>\n",
       "      <td>35380.0</td>\n",
       "      <td>NaN</td>\n",
       "    </tr>\n",
       "    <tr>\n",
       "      <th>1</th>\n",
       "      <td>4</td>\n",
       "      <td>Algeria</td>\n",
       "      <td>221</td>\n",
       "      <td>Almonds, with shell</td>\n",
       "      <td>5419</td>\n",
       "      <td>Yield</td>\n",
       "      <td>hg/ha</td>\n",
       "      <td>4511.0</td>\n",
       "      <td>Fc</td>\n",
       "      <td>4511.0</td>\n",
       "      <td>...</td>\n",
       "      <td>18930.0</td>\n",
       "      <td>Fc</td>\n",
       "      <td>13223.0</td>\n",
       "      <td>Fc</td>\n",
       "      <td>12362.0</td>\n",
       "      <td>Fc</td>\n",
       "      <td>13292.0</td>\n",
       "      <td>Fc</td>\n",
       "      <td>20467.0</td>\n",
       "      <td>Fc</td>\n",
       "    </tr>\n",
       "    <tr>\n",
       "      <th>2</th>\n",
       "      <td>4</td>\n",
       "      <td>Algeria</td>\n",
       "      <td>221</td>\n",
       "      <td>Almonds, with shell</td>\n",
       "      <td>5510</td>\n",
       "      <td>Production</td>\n",
       "      <td>tonnes</td>\n",
       "      <td>6000.0</td>\n",
       "      <td>NaN</td>\n",
       "      <td>6000.0</td>\n",
       "      <td>...</td>\n",
       "      <td>76482.0</td>\n",
       "      <td>NaN</td>\n",
       "      <td>66095.0</td>\n",
       "      <td>NaN</td>\n",
       "      <td>61934.0</td>\n",
       "      <td>NaN</td>\n",
       "      <td>57213.0</td>\n",
       "      <td>NaN</td>\n",
       "      <td>72412.0</td>\n",
       "      <td>NaN</td>\n",
       "    </tr>\n",
       "    <tr>\n",
       "      <th>3</th>\n",
       "      <td>4</td>\n",
       "      <td>Algeria</td>\n",
       "      <td>515</td>\n",
       "      <td>Apples</td>\n",
       "      <td>5312</td>\n",
       "      <td>Area harvested</td>\n",
       "      <td>ha</td>\n",
       "      <td>3400.0</td>\n",
       "      <td>F</td>\n",
       "      <td>3100.0</td>\n",
       "      <td>...</td>\n",
       "      <td>41011.0</td>\n",
       "      <td>NaN</td>\n",
       "      <td>46070.0</td>\n",
       "      <td>NaN</td>\n",
       "      <td>44620.0</td>\n",
       "      <td>NaN</td>\n",
       "      <td>39034.0</td>\n",
       "      <td>NaN</td>\n",
       "      <td>32989.0</td>\n",
       "      <td>NaN</td>\n",
       "    </tr>\n",
       "    <tr>\n",
       "      <th>4</th>\n",
       "      <td>4</td>\n",
       "      <td>Algeria</td>\n",
       "      <td>515</td>\n",
       "      <td>Apples</td>\n",
       "      <td>5419</td>\n",
       "      <td>Yield</td>\n",
       "      <td>hg/ha</td>\n",
       "      <td>45294.0</td>\n",
       "      <td>Fc</td>\n",
       "      <td>45161.0</td>\n",
       "      <td>...</td>\n",
       "      <td>110086.0</td>\n",
       "      <td>Fc</td>\n",
       "      <td>108716.0</td>\n",
       "      <td>Fc</td>\n",
       "      <td>110766.0</td>\n",
       "      <td>Fc</td>\n",
       "      <td>124970.0</td>\n",
       "      <td>Fc</td>\n",
       "      <td>169399.0</td>\n",
       "      <td>Fc</td>\n",
       "    </tr>\n",
       "    <tr>\n",
       "      <th>5</th>\n",
       "      <td>4</td>\n",
       "      <td>Algeria</td>\n",
       "      <td>515</td>\n",
       "      <td>Apples</td>\n",
       "      <td>5510</td>\n",
       "      <td>Production</td>\n",
       "      <td>tonnes</td>\n",
       "      <td>15400.0</td>\n",
       "      <td>NaN</td>\n",
       "      <td>14000.0</td>\n",
       "      <td>...</td>\n",
       "      <td>451472.0</td>\n",
       "      <td>NaN</td>\n",
       "      <td>500855.0</td>\n",
       "      <td>NaN</td>\n",
       "      <td>494239.0</td>\n",
       "      <td>NaN</td>\n",
       "      <td>487808.0</td>\n",
       "      <td>NaN</td>\n",
       "      <td>558830.0</td>\n",
       "      <td>NaN</td>\n",
       "    </tr>\n",
       "    <tr>\n",
       "      <th>6</th>\n",
       "      <td>4</td>\n",
       "      <td>Algeria</td>\n",
       "      <td>526</td>\n",
       "      <td>Apricots</td>\n",
       "      <td>5312</td>\n",
       "      <td>Area harvested</td>\n",
       "      <td>ha</td>\n",
       "      <td>4200.0</td>\n",
       "      <td>F</td>\n",
       "      <td>4600.0</td>\n",
       "      <td>...</td>\n",
       "      <td>38857.0</td>\n",
       "      <td>NaN</td>\n",
       "      <td>38239.0</td>\n",
       "      <td>NaN</td>\n",
       "      <td>44307.0</td>\n",
       "      <td>NaN</td>\n",
       "      <td>35500.0</td>\n",
       "      <td>NaN</td>\n",
       "      <td>30861.0</td>\n",
       "      <td>NaN</td>\n",
       "    </tr>\n",
       "    <tr>\n",
       "      <th>7</th>\n",
       "      <td>4</td>\n",
       "      <td>Algeria</td>\n",
       "      <td>526</td>\n",
       "      <td>Apricots</td>\n",
       "      <td>5419</td>\n",
       "      <td>Yield</td>\n",
       "      <td>hg/ha</td>\n",
       "      <td>30286.0</td>\n",
       "      <td>Fc</td>\n",
       "      <td>30000.0</td>\n",
       "      <td>...</td>\n",
       "      <td>75530.0</td>\n",
       "      <td>Fc</td>\n",
       "      <td>67149.0</td>\n",
       "      <td>Fc</td>\n",
       "      <td>57980.0</td>\n",
       "      <td>Fc</td>\n",
       "      <td>68237.0</td>\n",
       "      <td>Fc</td>\n",
       "      <td>67789.0</td>\n",
       "      <td>Fc</td>\n",
       "    </tr>\n",
       "    <tr>\n",
       "      <th>8</th>\n",
       "      <td>4</td>\n",
       "      <td>Algeria</td>\n",
       "      <td>526</td>\n",
       "      <td>Apricots</td>\n",
       "      <td>5510</td>\n",
       "      <td>Production</td>\n",
       "      <td>tonnes</td>\n",
       "      <td>12720.0</td>\n",
       "      <td>NaN</td>\n",
       "      <td>13800.0</td>\n",
       "      <td>...</td>\n",
       "      <td>293486.0</td>\n",
       "      <td>NaN</td>\n",
       "      <td>256771.0</td>\n",
       "      <td>NaN</td>\n",
       "      <td>256890.0</td>\n",
       "      <td>NaN</td>\n",
       "      <td>242243.0</td>\n",
       "      <td>NaN</td>\n",
       "      <td>209204.0</td>\n",
       "      <td>NaN</td>\n",
       "    </tr>\n",
       "    <tr>\n",
       "      <th>9</th>\n",
       "      <td>4</td>\n",
       "      <td>Algeria</td>\n",
       "      <td>366</td>\n",
       "      <td>Artichokes</td>\n",
       "      <td>5312</td>\n",
       "      <td>Area harvested</td>\n",
       "      <td>ha</td>\n",
       "      <td>5000.0</td>\n",
       "      <td>F</td>\n",
       "      <td>5000.0</td>\n",
       "      <td>...</td>\n",
       "      <td>4674.0</td>\n",
       "      <td>NaN</td>\n",
       "      <td>5174.0</td>\n",
       "      <td>NaN</td>\n",
       "      <td>5532.0</td>\n",
       "      <td>NaN</td>\n",
       "      <td>5784.0</td>\n",
       "      <td>NaN</td>\n",
       "      <td>5792.0</td>\n",
       "      <td>NaN</td>\n",
       "    </tr>\n",
       "  </tbody>\n",
       "</table>\n",
       "<p>10 rows × 125 columns</p>\n",
       "</div>"
      ],
      "text/plain": [
       "   Area Code     Area  Item Code                 Item  Element Code  \\\n",
       "0          4  Algeria        221  Almonds, with shell          5312   \n",
       "1          4  Algeria        221  Almonds, with shell          5419   \n",
       "2          4  Algeria        221  Almonds, with shell          5510   \n",
       "3          4  Algeria        515               Apples          5312   \n",
       "4          4  Algeria        515               Apples          5419   \n",
       "5          4  Algeria        515               Apples          5510   \n",
       "6          4  Algeria        526             Apricots          5312   \n",
       "7          4  Algeria        526             Apricots          5419   \n",
       "8          4  Algeria        526             Apricots          5510   \n",
       "9          4  Algeria        366           Artichokes          5312   \n",
       "\n",
       "          Element    Unit    Y1961 Y1961F    Y1962  ...     Y2015  Y2015F  \\\n",
       "0  Area harvested      ha  13300.0      F  13300.0  ...   40403.0     NaN   \n",
       "1           Yield   hg/ha   4511.0     Fc   4511.0  ...   18930.0      Fc   \n",
       "2      Production  tonnes   6000.0    NaN   6000.0  ...   76482.0     NaN   \n",
       "3  Area harvested      ha   3400.0      F   3100.0  ...   41011.0     NaN   \n",
       "4           Yield   hg/ha  45294.0     Fc  45161.0  ...  110086.0      Fc   \n",
       "5      Production  tonnes  15400.0    NaN  14000.0  ...  451472.0     NaN   \n",
       "6  Area harvested      ha   4200.0      F   4600.0  ...   38857.0     NaN   \n",
       "7           Yield   hg/ha  30286.0     Fc  30000.0  ...   75530.0      Fc   \n",
       "8      Production  tonnes  12720.0    NaN  13800.0  ...  293486.0     NaN   \n",
       "9  Area harvested      ha   5000.0      F   5000.0  ...    4674.0     NaN   \n",
       "\n",
       "      Y2016  Y2016F     Y2017  Y2017F     Y2018  Y2018F     Y2019  Y2019F  \n",
       "0   49983.0     NaN   50100.0     NaN   43043.0     NaN   35380.0     NaN  \n",
       "1   13223.0      Fc   12362.0      Fc   13292.0      Fc   20467.0      Fc  \n",
       "2   66095.0     NaN   61934.0     NaN   57213.0     NaN   72412.0     NaN  \n",
       "3   46070.0     NaN   44620.0     NaN   39034.0     NaN   32989.0     NaN  \n",
       "4  108716.0      Fc  110766.0      Fc  124970.0      Fc  169399.0      Fc  \n",
       "5  500855.0     NaN  494239.0     NaN  487808.0     NaN  558830.0     NaN  \n",
       "6   38239.0     NaN   44307.0     NaN   35500.0     NaN   30861.0     NaN  \n",
       "7   67149.0      Fc   57980.0      Fc   68237.0      Fc   67789.0      Fc  \n",
       "8  256771.0     NaN  256890.0     NaN  242243.0     NaN  209204.0     NaN  \n",
       "9    5174.0     NaN    5532.0     NaN    5784.0     NaN    5792.0     NaN  \n",
       "\n",
       "[10 rows x 125 columns]"
      ]
     },
     "execution_count": 5,
     "metadata": {},
     "output_type": "execute_result"
    }
   ],
   "source": [
    "# Loading Africa's dataset\n",
    "\n",
    "url = 'https://raw.githubusercontent.com/nicoboou/ml_eml/main/agriculture-crop-production/Production_Crops_E_Africa.csv?token=GHSAT0AAAAAABRXBUYTNUDPEVZTZBHGL3D6YR5RE5Q'\n",
    "crops_africa = pd.read_csv(url, sep=',',encoding='latin-1')\n",
    "crops_africa.head(10)"
   ]
  },
  {
   "cell_type": "code",
   "execution_count": 7,
   "id": "52dc24fe",
   "metadata": {},
   "outputs": [
    {
     "name": "stdout",
     "output_type": "stream",
     "text": [
      "<class 'pandas.core.frame.DataFrame'>\n",
      "RangeIndex: 9091 entries, 0 to 9090\n",
      "Columns: 125 entries, Area Code to Y2019F\n",
      "dtypes: float64(59), int64(3), object(63)\n",
      "memory usage: 8.7+ MB\n"
     ]
    }
   ],
   "source": [
    "crops_africa.info()"
   ]
  },
  {
   "cell_type": "code",
   "execution_count": 9,
   "id": "5b77e221",
   "metadata": {},
   "outputs": [
    {
     "data": {
      "text/plain": [
       "array(['Area harvested', 'Yield', 'Production'], dtype=object)"
      ]
     },
     "execution_count": 9,
     "metadata": {},
     "output_type": "execute_result"
    }
   ],
   "source": [
    "crops_africa[\"Element\"].unique()"
   ]
  },
  {
   "cell_type": "markdown",
   "id": "22d172d7",
   "metadata": {},
   "source": [
    "### Load all datasets"
   ]
  },
  {
   "cell_type": "code",
   "execution_count": null,
   "id": "9c351520",
   "metadata": {},
   "outputs": [],
   "source": [
    "def open_all_datasets_df(list_to_query):\n",
    "  df = pd.read_csv('https://raw.githubusercontent.com/Guillem121198/machine_learning/main/players_' + str(fifa_version) + '.csv', low_memory = False)\n",
    "  df['continent'] = \n",
    "  return df"
   ]
  },
  {
   "cell_type": "markdown",
   "id": "a7c44d65",
   "metadata": {},
   "source": [
    "# Exploratory Data Analysis"
   ]
  },
  {
   "cell_type": "code",
   "execution_count": null,
   "id": "ddbc0395",
   "metadata": {},
   "outputs": [],
   "source": []
  },
  {
   "cell_type": "markdown",
   "id": "4b0ec68a",
   "metadata": {},
   "source": [
    "### Vizualisation"
   ]
  },
  {
   "cell_type": "code",
   "execution_count": null,
   "id": "797674f6",
   "metadata": {},
   "outputs": [],
   "source": []
  },
  {
   "cell_type": "markdown",
   "id": "eb903372",
   "metadata": {},
   "source": [
    "# Machine Learning"
   ]
  },
  {
   "cell_type": "markdown",
   "id": "19d81462",
   "metadata": {},
   "source": [
    "## Supervised Learning"
   ]
  },
  {
   "cell_type": "markdown",
   "id": "a1d6ad86",
   "metadata": {},
   "source": [
    "### Regression"
   ]
  },
  {
   "cell_type": "code",
   "execution_count": null,
   "id": "0d26bc1a",
   "metadata": {},
   "outputs": [],
   "source": []
  },
  {
   "cell_type": "markdown",
   "id": "70d16f6f",
   "metadata": {},
   "source": [
    "### Classification"
   ]
  },
  {
   "cell_type": "code",
   "execution_count": null,
   "id": "cbe23a84",
   "metadata": {},
   "outputs": [],
   "source": []
  },
  {
   "cell_type": "markdown",
   "id": "04bd1a0a",
   "metadata": {},
   "source": [
    "## Unsupervised Learning"
   ]
  },
  {
   "cell_type": "markdown",
   "id": "b136b805",
   "metadata": {},
   "source": [
    "### Clustering"
   ]
  },
  {
   "cell_type": "code",
   "execution_count": null,
   "id": "8a14dc96",
   "metadata": {},
   "outputs": [],
   "source": []
  },
  {
   "cell_type": "markdown",
   "id": "170cafc6",
   "metadata": {},
   "source": [
    "## Time-series Analysis"
   ]
  },
  {
   "cell_type": "code",
   "execution_count": null,
   "id": "8a060592",
   "metadata": {},
   "outputs": [],
   "source": []
  }
 ],
 "metadata": {
  "kernelspec": {
   "display_name": "Python 3 (ipykernel)",
   "language": "python",
   "name": "python3"
  },
  "language_info": {
   "codemirror_mode": {
    "name": "ipython",
    "version": 3
   },
   "file_extension": ".py",
   "mimetype": "text/x-python",
   "name": "python",
   "nbconvert_exporter": "python",
   "pygments_lexer": "ipython3",
   "version": "3.9.10"
  }
 },
 "nbformat": 4,
 "nbformat_minor": 5
}
