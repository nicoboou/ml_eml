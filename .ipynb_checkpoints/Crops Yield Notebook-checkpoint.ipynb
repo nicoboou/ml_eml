{
 "cells": [
  {
   "cell_type": "markdown",
   "id": "29310b3b",
   "metadata": {},
   "source": [
    "# Table of Contents"
   ]
  },
  {
   "cell_type": "markdown",
   "id": "6192fc21",
   "metadata": {},
   "source": [
    "-  [About the dataset](#about)<br>\n",
    "-  [Load the data](#load_data)<br>"
   ]
  },
  {
   "cell_type": "markdown",
   "id": "3616b6bf",
   "metadata": {},
   "source": [
    "# Imports"
   ]
  },
  {
   "cell_type": "code",
   "execution_count": 1,
   "id": "f9797875",
   "metadata": {},
   "outputs": [],
   "source": [
    "# for package auto reload\n",
    "%load_ext autoreload\n",
    "%autoreload 2\n",
    "\n",
    "# for better rendering of plots in jupyter notebook\n",
    "%matplotlib inline"
   ]
  },
  {
   "cell_type": "code",
   "execution_count": 38,
   "id": "a0596513",
   "metadata": {},
   "outputs": [],
   "source": [
    "# base modules\n",
    "import os\n",
    "import sys\n",
    "import copy\n",
    "import logging\n",
    "from collections import OrderedDict\n",
    "\n",
    "# for manipulating data\n",
    "import numpy as np\n",
    "import pandas as pd\n",
    "import math\n",
    "import dill\n",
    "\n",
    "# for Machine Learning\n",
    "from sklearn.ensemble import RandomForestRegressor, RandomForestClassifier, BaggingRegressor\n",
    "from sklearn.tree import DecisionTreeRegressor, DecisionTreeClassifier, plot_tree\n",
    "from sklearn import metrics\n",
    "from sklearn.preprocessing import LabelEncoder\n",
    "from sklearn.model_selection import cross_val_score, KFold, GridSearchCV\n",
    "from sklearn.calibration import CalibratedClassifierCV\n",
    "from sklearn.inspection import permutation_importance\n",
    "from scipy.cluster import hierarchy\n",
    "\n",
    "#for Time-Series Statistical Analysis\n",
    "from statsmodels.tsa.stattools import adfuller\n",
    "from statsmodels.tsa.stattools import acf, pacf\n",
    "from statsmodels.tsa.seasonal import seasonal_decompose\n",
    "from statsmodels.tsa.arima_model import ARIMA\n",
    "\n",
    "# for visualization\n",
    "from IPython.display import display\n",
    "from matplotlib import pyplot as plt\n",
    "import graphviz\n",
    "import streamlit as st\n",
    "# plotly\n",
    "# seaborn\n",
    "# altair\n",
    "\n",
    "# custom module\n",
    "from utils.utils import *\n",
    "\n",
    "\n",
    "# Ignore useless warnings (see SciPy issue #5998)\n",
    "import warnings\n",
    "warnings.filterwarnings('ignore')\n",
    "\n",
    "#display all columns\n",
    "pd.options.display.max_columns = None"
   ]
  },
  {
   "cell_type": "code",
   "execution_count": 3,
   "id": "95564916",
   "metadata": {},
   "outputs": [
    {
     "data": {
      "text/plain": [
       "'/Users/nicolas/Desktop/Etudes/3_emlyon/2021:2022/Machine_Learning/project'"
      ]
     },
     "execution_count": 3,
     "metadata": {},
     "output_type": "execute_result"
    }
   ],
   "source": [
    "# path to repo\n",
    "path_to_repo = os.getcwd()\n",
    "path_to_repo"
   ]
  },
  {
   "cell_type": "markdown",
   "id": "a07ef49d",
   "metadata": {},
   "source": [
    "# Introduction: Crops Yield Project"
   ]
  },
  {
   "cell_type": "markdown",
   "id": "f43d104c",
   "metadata": {},
   "source": [
    "### Project Ideas"
   ]
  },
  {
   "cell_type": "markdown",
   "id": "e43d4f4f",
   "metadata": {},
   "source": [
    "Several ideas might pop up looking at this dataset, for example:\n",
    "\n",
    "**Exploratory Data Analysis**\n",
    "- Vizualisation of certain crops yields' temporal evolution per country\n",
    "- Correlation between production & population\n",
    "\n",
    "**Machine Learning**\n",
    "- C02 emissions of crops using regression\n",
    "- Clustering on CO2 crop emissioners\n",
    "- Crop yields forecasting through time-series analysis using production & pop correlation"
   ]
  },
  {
   "cell_type": "markdown",
   "id": "09089171",
   "metadata": {},
   "source": [
    "# Datasets Overview"
   ]
  },
  {
   "cell_type": "markdown",
   "id": "31fd2e23",
   "metadata": {},
   "source": [
    "## 1. Agricultural Crop Production"
   ]
  },
  {
   "cell_type": "markdown",
   "id": "6365b91b",
   "metadata": {},
   "source": [
    "### Summary"
   ]
  },
  {
   "cell_type": "markdown",
   "id": "ff1ab89a",
   "metadata": {},
   "source": [
    "Crop statistics for 173 products in Africa, America, Asia, Europe and Oceania, collected from 1961 to 2019."
   ]
  },
  {
   "cell_type": "markdown",
   "id": "ffb52b2b",
   "metadata": {},
   "source": [
    "### Description"
   ]
  },
  {
   "cell_type": "markdown",
   "id": "04e938b2",
   "metadata": {},
   "source": [
    "Data from the Food and Agriculture Organization of the United Nations (FAO)\n",
    "\n",
    "Achieving food security for all is at the heart of FAO's efforts - ensuring that people have regular access to enough quality food to lead active and healthy lives. Our three main objectives are: the eradication of hunger, food insecurity and malnutrition; the eradication of poverty and the promotion of economic and social progress for all; and the sustainable management and use of natural resources, including land, water, air, climate and genetic resources, for the benefit of present and future generations.\n",
    "\n",
    "Primary crops, fibre crops. Crop statistics are recorded for 173 commodities, covering the following categories: Primary crops, Primary fibre crops, Cereals, Secondary cereals, Citrus, Fruit, Jute and related fibres, Oilcake equivalent, Primary oilseeds, Dry vegetables, Roots and tubers, Green fruits and vegetables and Melons. Data are expressed in terms of area harvested, quantity produced, yield and quantity of seed. The aim is to provide comprehensive coverage of production of all primary crops for all countries and regions of the world.\n",
    "\n",
    "Source : Organisation des Nations Unies pour l'alimentation et l'agriculture (FAO)"
   ]
  },
  {
   "cell_type": "markdown",
   "id": "e221602e",
   "metadata": {},
   "source": [
    "## 2. Gas emissions Statistics"
   ]
  },
  {
   "cell_type": "markdown",
   "id": "cd0896b3",
   "metadata": {},
   "source": [
    "### Summary"
   ]
  },
  {
   "cell_type": "markdown",
   "id": "2b57e57e",
   "metadata": {},
   "source": [
    "The FAOSTAT domain Emissions Totals disseminates information estimates of CH4, N2O and CO2 emissions/removals and their aggregates in CO2eq in units of kilotonnes (kt, or 106 kg). "
   ]
  },
  {
   "cell_type": "markdown",
   "id": "58fba1e7",
   "metadata": {},
   "source": [
    "### Description"
   ]
  },
  {
   "cell_type": "markdown",
   "id": "a743312f",
   "metadata": {},
   "source": [
    "The FAOSTAT domain Emissions Totals summarizes the greenhouse gas (GHG) emissions disseminated in the FAOSTAT Climate Change Emissions domains, generated from agriculture and forest land. They consist of methane (CH4), nitrous oxide (N2O) and carbon dioxide (CO2) emissions from crop and livestock activities, forest management and include land use and land use change processes. Data are computed at Tier 1 of the IPCC Guidelines for National greenhouse gas (GHG) Inventories (IPCC, 1996; 1997; 2000; 2002; 2006; 2014). Estimates are available by country, with global coverage for the period 1961–2019 with projections for 2030 and 2050 for some categories of emissions or 1990–2019 for others. The database is updated annually."
   ]
  },
  {
   "cell_type": "markdown",
   "id": "8768141b",
   "metadata": {},
   "source": [
    "## 3. Population per country"
   ]
  },
  {
   "cell_type": "markdown",
   "id": "93615635",
   "metadata": {},
   "source": [
    "The FAOSTAT Population module contains time series data on population, by sex and urban/rural. The series consist of both estimates and projections for different periods as available from the original sources, namely:\n",
    "1. Population data refers to the World Population Prospects: The 2019 Revision from the UN Population Division.\n",
    "2. Urban/rural population data refers to the World Urbanization Prospects: The 2018 Revision from the UN Population Division."
   ]
  },
  {
   "cell_type": "markdown",
   "id": "4220494e",
   "metadata": {},
   "source": [
    "# Data Loading"
   ]
  },
  {
   "cell_type": "markdown",
   "id": "3c8649c7",
   "metadata": {},
   "source": [
    "## 1. Load the *Agricultural Crop data*"
   ]
  },
  {
   "cell_type": "markdown",
   "id": "7092f168",
   "metadata": {},
   "source": [
    "### Get a glimpse of one of the main datasets"
   ]
  },
  {
   "cell_type": "code",
   "execution_count": 4,
   "id": "5fa1c755",
   "metadata": {},
   "outputs": [
    {
     "data": {
      "text/html": [
       "<div>\n",
       "<style scoped>\n",
       "    .dataframe tbody tr th:only-of-type {\n",
       "        vertical-align: middle;\n",
       "    }\n",
       "\n",
       "    .dataframe tbody tr th {\n",
       "        vertical-align: top;\n",
       "    }\n",
       "\n",
       "    .dataframe thead th {\n",
       "        text-align: right;\n",
       "    }\n",
       "</style>\n",
       "<table border=\"1\" class=\"dataframe\">\n",
       "  <thead>\n",
       "    <tr style=\"text-align: right;\">\n",
       "      <th></th>\n",
       "      <th>Area Code</th>\n",
       "      <th>Area</th>\n",
       "      <th>Item Code</th>\n",
       "      <th>Item</th>\n",
       "      <th>Element Code</th>\n",
       "      <th>Element</th>\n",
       "      <th>Unit</th>\n",
       "      <th>Y1961</th>\n",
       "      <th>Y1961F</th>\n",
       "      <th>Y1962</th>\n",
       "      <th>...</th>\n",
       "      <th>Y2015</th>\n",
       "      <th>Y2015F</th>\n",
       "      <th>Y2016</th>\n",
       "      <th>Y2016F</th>\n",
       "      <th>Y2017</th>\n",
       "      <th>Y2017F</th>\n",
       "      <th>Y2018</th>\n",
       "      <th>Y2018F</th>\n",
       "      <th>Y2019</th>\n",
       "      <th>Y2019F</th>\n",
       "    </tr>\n",
       "  </thead>\n",
       "  <tbody>\n",
       "    <tr>\n",
       "      <th>0</th>\n",
       "      <td>4</td>\n",
       "      <td>Algeria</td>\n",
       "      <td>221</td>\n",
       "      <td>Almonds, with shell</td>\n",
       "      <td>5312</td>\n",
       "      <td>Area harvested</td>\n",
       "      <td>ha</td>\n",
       "      <td>13300.0</td>\n",
       "      <td>F</td>\n",
       "      <td>13300.0</td>\n",
       "      <td>...</td>\n",
       "      <td>40403.0</td>\n",
       "      <td>NaN</td>\n",
       "      <td>49983.0</td>\n",
       "      <td>NaN</td>\n",
       "      <td>50100.0</td>\n",
       "      <td>NaN</td>\n",
       "      <td>43043.0</td>\n",
       "      <td>NaN</td>\n",
       "      <td>35380.0</td>\n",
       "      <td>NaN</td>\n",
       "    </tr>\n",
       "    <tr>\n",
       "      <th>1</th>\n",
       "      <td>4</td>\n",
       "      <td>Algeria</td>\n",
       "      <td>221</td>\n",
       "      <td>Almonds, with shell</td>\n",
       "      <td>5419</td>\n",
       "      <td>Yield</td>\n",
       "      <td>hg/ha</td>\n",
       "      <td>4511.0</td>\n",
       "      <td>Fc</td>\n",
       "      <td>4511.0</td>\n",
       "      <td>...</td>\n",
       "      <td>18930.0</td>\n",
       "      <td>Fc</td>\n",
       "      <td>13223.0</td>\n",
       "      <td>Fc</td>\n",
       "      <td>12362.0</td>\n",
       "      <td>Fc</td>\n",
       "      <td>13292.0</td>\n",
       "      <td>Fc</td>\n",
       "      <td>20467.0</td>\n",
       "      <td>Fc</td>\n",
       "    </tr>\n",
       "    <tr>\n",
       "      <th>2</th>\n",
       "      <td>4</td>\n",
       "      <td>Algeria</td>\n",
       "      <td>221</td>\n",
       "      <td>Almonds, with shell</td>\n",
       "      <td>5510</td>\n",
       "      <td>Production</td>\n",
       "      <td>tonnes</td>\n",
       "      <td>6000.0</td>\n",
       "      <td>NaN</td>\n",
       "      <td>6000.0</td>\n",
       "      <td>...</td>\n",
       "      <td>76482.0</td>\n",
       "      <td>NaN</td>\n",
       "      <td>66095.0</td>\n",
       "      <td>NaN</td>\n",
       "      <td>61934.0</td>\n",
       "      <td>NaN</td>\n",
       "      <td>57213.0</td>\n",
       "      <td>NaN</td>\n",
       "      <td>72412.0</td>\n",
       "      <td>NaN</td>\n",
       "    </tr>\n",
       "    <tr>\n",
       "      <th>3</th>\n",
       "      <td>4</td>\n",
       "      <td>Algeria</td>\n",
       "      <td>515</td>\n",
       "      <td>Apples</td>\n",
       "      <td>5312</td>\n",
       "      <td>Area harvested</td>\n",
       "      <td>ha</td>\n",
       "      <td>3400.0</td>\n",
       "      <td>F</td>\n",
       "      <td>3100.0</td>\n",
       "      <td>...</td>\n",
       "      <td>41011.0</td>\n",
       "      <td>NaN</td>\n",
       "      <td>46070.0</td>\n",
       "      <td>NaN</td>\n",
       "      <td>44620.0</td>\n",
       "      <td>NaN</td>\n",
       "      <td>39034.0</td>\n",
       "      <td>NaN</td>\n",
       "      <td>32989.0</td>\n",
       "      <td>NaN</td>\n",
       "    </tr>\n",
       "    <tr>\n",
       "      <th>4</th>\n",
       "      <td>4</td>\n",
       "      <td>Algeria</td>\n",
       "      <td>515</td>\n",
       "      <td>Apples</td>\n",
       "      <td>5419</td>\n",
       "      <td>Yield</td>\n",
       "      <td>hg/ha</td>\n",
       "      <td>45294.0</td>\n",
       "      <td>Fc</td>\n",
       "      <td>45161.0</td>\n",
       "      <td>...</td>\n",
       "      <td>110086.0</td>\n",
       "      <td>Fc</td>\n",
       "      <td>108716.0</td>\n",
       "      <td>Fc</td>\n",
       "      <td>110766.0</td>\n",
       "      <td>Fc</td>\n",
       "      <td>124970.0</td>\n",
       "      <td>Fc</td>\n",
       "      <td>169399.0</td>\n",
       "      <td>Fc</td>\n",
       "    </tr>\n",
       "    <tr>\n",
       "      <th>5</th>\n",
       "      <td>4</td>\n",
       "      <td>Algeria</td>\n",
       "      <td>515</td>\n",
       "      <td>Apples</td>\n",
       "      <td>5510</td>\n",
       "      <td>Production</td>\n",
       "      <td>tonnes</td>\n",
       "      <td>15400.0</td>\n",
       "      <td>NaN</td>\n",
       "      <td>14000.0</td>\n",
       "      <td>...</td>\n",
       "      <td>451472.0</td>\n",
       "      <td>NaN</td>\n",
       "      <td>500855.0</td>\n",
       "      <td>NaN</td>\n",
       "      <td>494239.0</td>\n",
       "      <td>NaN</td>\n",
       "      <td>487808.0</td>\n",
       "      <td>NaN</td>\n",
       "      <td>558830.0</td>\n",
       "      <td>NaN</td>\n",
       "    </tr>\n",
       "    <tr>\n",
       "      <th>6</th>\n",
       "      <td>4</td>\n",
       "      <td>Algeria</td>\n",
       "      <td>526</td>\n",
       "      <td>Apricots</td>\n",
       "      <td>5312</td>\n",
       "      <td>Area harvested</td>\n",
       "      <td>ha</td>\n",
       "      <td>4200.0</td>\n",
       "      <td>F</td>\n",
       "      <td>4600.0</td>\n",
       "      <td>...</td>\n",
       "      <td>38857.0</td>\n",
       "      <td>NaN</td>\n",
       "      <td>38239.0</td>\n",
       "      <td>NaN</td>\n",
       "      <td>44307.0</td>\n",
       "      <td>NaN</td>\n",
       "      <td>35500.0</td>\n",
       "      <td>NaN</td>\n",
       "      <td>30861.0</td>\n",
       "      <td>NaN</td>\n",
       "    </tr>\n",
       "    <tr>\n",
       "      <th>7</th>\n",
       "      <td>4</td>\n",
       "      <td>Algeria</td>\n",
       "      <td>526</td>\n",
       "      <td>Apricots</td>\n",
       "      <td>5419</td>\n",
       "      <td>Yield</td>\n",
       "      <td>hg/ha</td>\n",
       "      <td>30286.0</td>\n",
       "      <td>Fc</td>\n",
       "      <td>30000.0</td>\n",
       "      <td>...</td>\n",
       "      <td>75530.0</td>\n",
       "      <td>Fc</td>\n",
       "      <td>67149.0</td>\n",
       "      <td>Fc</td>\n",
       "      <td>57980.0</td>\n",
       "      <td>Fc</td>\n",
       "      <td>68237.0</td>\n",
       "      <td>Fc</td>\n",
       "      <td>67789.0</td>\n",
       "      <td>Fc</td>\n",
       "    </tr>\n",
       "    <tr>\n",
       "      <th>8</th>\n",
       "      <td>4</td>\n",
       "      <td>Algeria</td>\n",
       "      <td>526</td>\n",
       "      <td>Apricots</td>\n",
       "      <td>5510</td>\n",
       "      <td>Production</td>\n",
       "      <td>tonnes</td>\n",
       "      <td>12720.0</td>\n",
       "      <td>NaN</td>\n",
       "      <td>13800.0</td>\n",
       "      <td>...</td>\n",
       "      <td>293486.0</td>\n",
       "      <td>NaN</td>\n",
       "      <td>256771.0</td>\n",
       "      <td>NaN</td>\n",
       "      <td>256890.0</td>\n",
       "      <td>NaN</td>\n",
       "      <td>242243.0</td>\n",
       "      <td>NaN</td>\n",
       "      <td>209204.0</td>\n",
       "      <td>NaN</td>\n",
       "    </tr>\n",
       "    <tr>\n",
       "      <th>9</th>\n",
       "      <td>4</td>\n",
       "      <td>Algeria</td>\n",
       "      <td>366</td>\n",
       "      <td>Artichokes</td>\n",
       "      <td>5312</td>\n",
       "      <td>Area harvested</td>\n",
       "      <td>ha</td>\n",
       "      <td>5000.0</td>\n",
       "      <td>F</td>\n",
       "      <td>5000.0</td>\n",
       "      <td>...</td>\n",
       "      <td>4674.0</td>\n",
       "      <td>NaN</td>\n",
       "      <td>5174.0</td>\n",
       "      <td>NaN</td>\n",
       "      <td>5532.0</td>\n",
       "      <td>NaN</td>\n",
       "      <td>5784.0</td>\n",
       "      <td>NaN</td>\n",
       "      <td>5792.0</td>\n",
       "      <td>NaN</td>\n",
       "    </tr>\n",
       "  </tbody>\n",
       "</table>\n",
       "<p>10 rows × 125 columns</p>\n",
       "</div>"
      ],
      "text/plain": [
       "   Area Code     Area  Item Code                 Item  Element Code  \\\n",
       "0          4  Algeria        221  Almonds, with shell          5312   \n",
       "1          4  Algeria        221  Almonds, with shell          5419   \n",
       "2          4  Algeria        221  Almonds, with shell          5510   \n",
       "3          4  Algeria        515               Apples          5312   \n",
       "4          4  Algeria        515               Apples          5419   \n",
       "5          4  Algeria        515               Apples          5510   \n",
       "6          4  Algeria        526             Apricots          5312   \n",
       "7          4  Algeria        526             Apricots          5419   \n",
       "8          4  Algeria        526             Apricots          5510   \n",
       "9          4  Algeria        366           Artichokes          5312   \n",
       "\n",
       "          Element    Unit    Y1961 Y1961F    Y1962  ...     Y2015  Y2015F  \\\n",
       "0  Area harvested      ha  13300.0      F  13300.0  ...   40403.0     NaN   \n",
       "1           Yield   hg/ha   4511.0     Fc   4511.0  ...   18930.0      Fc   \n",
       "2      Production  tonnes   6000.0    NaN   6000.0  ...   76482.0     NaN   \n",
       "3  Area harvested      ha   3400.0      F   3100.0  ...   41011.0     NaN   \n",
       "4           Yield   hg/ha  45294.0     Fc  45161.0  ...  110086.0      Fc   \n",
       "5      Production  tonnes  15400.0    NaN  14000.0  ...  451472.0     NaN   \n",
       "6  Area harvested      ha   4200.0      F   4600.0  ...   38857.0     NaN   \n",
       "7           Yield   hg/ha  30286.0     Fc  30000.0  ...   75530.0      Fc   \n",
       "8      Production  tonnes  12720.0    NaN  13800.0  ...  293486.0     NaN   \n",
       "9  Area harvested      ha   5000.0      F   5000.0  ...    4674.0     NaN   \n",
       "\n",
       "      Y2016  Y2016F     Y2017  Y2017F     Y2018  Y2018F     Y2019  Y2019F  \n",
       "0   49983.0     NaN   50100.0     NaN   43043.0     NaN   35380.0     NaN  \n",
       "1   13223.0      Fc   12362.0      Fc   13292.0      Fc   20467.0      Fc  \n",
       "2   66095.0     NaN   61934.0     NaN   57213.0     NaN   72412.0     NaN  \n",
       "3   46070.0     NaN   44620.0     NaN   39034.0     NaN   32989.0     NaN  \n",
       "4  108716.0      Fc  110766.0      Fc  124970.0      Fc  169399.0      Fc  \n",
       "5  500855.0     NaN  494239.0     NaN  487808.0     NaN  558830.0     NaN  \n",
       "6   38239.0     NaN   44307.0     NaN   35500.0     NaN   30861.0     NaN  \n",
       "7   67149.0      Fc   57980.0      Fc   68237.0      Fc   67789.0      Fc  \n",
       "8  256771.0     NaN  256890.0     NaN  242243.0     NaN  209204.0     NaN  \n",
       "9    5174.0     NaN    5532.0     NaN    5784.0     NaN    5792.0     NaN  \n",
       "\n",
       "[10 rows x 125 columns]"
      ]
     },
     "execution_count": 4,
     "metadata": {},
     "output_type": "execute_result"
    }
   ],
   "source": [
    "# Loading Africa's dataset\n",
    "\n",
    "url = 'https://raw.githubusercontent.com/nicoboou/ml_eml/main/data/agriculture-crop-production/Production_Crops_E_Africa.csv'\n",
    "crops_africa = pd.read_csv(url, sep=',',encoding='latin-1')\n",
    "crops_africa.head(10)"
   ]
  },
  {
   "cell_type": "code",
   "execution_count": 5,
   "id": "dbeebb8d",
   "metadata": {},
   "outputs": [
    {
     "name": "stdout",
     "output_type": "stream",
     "text": [
      "<class 'pandas.core.frame.DataFrame'>\n",
      "RangeIndex: 9091 entries, 0 to 9090\n",
      "Columns: 125 entries, Area Code to Y2019F\n",
      "dtypes: float64(59), int64(3), object(63)\n",
      "memory usage: 8.7+ MB\n"
     ]
    }
   ],
   "source": [
    "crops_africa.info()"
   ]
  },
  {
   "cell_type": "markdown",
   "id": "3ebb7df9",
   "metadata": {},
   "source": [
    "### Load all datasets"
   ]
  },
  {
   "cell_type": "code",
   "execution_count": 6,
   "id": "00f3809d",
   "metadata": {},
   "outputs": [],
   "source": [
    "def open_all_datasets_df(item):\n",
    "    df = pd.read_csv('https://raw.githubusercontent.com/nicoboou/ml_eml/main/data/agriculture-crop-production/Production_Crops_E_' + str(item) + '.csv', low_memory = False, encoding='latin1')\n",
    "    df['Continent'] = item\n",
    "    return df"
   ]
  },
  {
   "cell_type": "code",
   "execution_count": 7,
   "id": "5fc2d562",
   "metadata": {},
   "outputs": [],
   "source": [
    "continents = ['Africa','Americas','Asia','Europe','Oceania']"
   ]
  },
  {
   "cell_type": "code",
   "execution_count": 8,
   "id": "dbea946f",
   "metadata": {},
   "outputs": [],
   "source": [
    "crops_raw = pd.DataFrame()\n",
    "\n",
    "for continent in continents:\n",
    "    crops_raw = crops_raw.append(open_all_datasets_df(continent))"
   ]
  },
  {
   "cell_type": "code",
   "execution_count": 9,
   "id": "01062f99",
   "metadata": {},
   "outputs": [
    {
     "data": {
      "text/html": [
       "<div>\n",
       "<style scoped>\n",
       "    .dataframe tbody tr th:only-of-type {\n",
       "        vertical-align: middle;\n",
       "    }\n",
       "\n",
       "    .dataframe tbody tr th {\n",
       "        vertical-align: top;\n",
       "    }\n",
       "\n",
       "    .dataframe thead th {\n",
       "        text-align: right;\n",
       "    }\n",
       "</style>\n",
       "<table border=\"1\" class=\"dataframe\">\n",
       "  <thead>\n",
       "    <tr style=\"text-align: right;\">\n",
       "      <th></th>\n",
       "      <th>Area Code</th>\n",
       "      <th>Area</th>\n",
       "      <th>Item Code</th>\n",
       "      <th>Item</th>\n",
       "      <th>Element Code</th>\n",
       "      <th>Element</th>\n",
       "      <th>Unit</th>\n",
       "      <th>Y1961</th>\n",
       "      <th>Y1961F</th>\n",
       "      <th>Y1962</th>\n",
       "      <th>...</th>\n",
       "      <th>Y2015F</th>\n",
       "      <th>Y2016</th>\n",
       "      <th>Y2016F</th>\n",
       "      <th>Y2017</th>\n",
       "      <th>Y2017F</th>\n",
       "      <th>Y2018</th>\n",
       "      <th>Y2018F</th>\n",
       "      <th>Y2019</th>\n",
       "      <th>Y2019F</th>\n",
       "      <th>Continent</th>\n",
       "    </tr>\n",
       "  </thead>\n",
       "  <tbody>\n",
       "    <tr>\n",
       "      <th>0</th>\n",
       "      <td>4</td>\n",
       "      <td>Algeria</td>\n",
       "      <td>221</td>\n",
       "      <td>Almonds, with shell</td>\n",
       "      <td>5312</td>\n",
       "      <td>Area harvested</td>\n",
       "      <td>ha</td>\n",
       "      <td>13300.0</td>\n",
       "      <td>F</td>\n",
       "      <td>13300.0</td>\n",
       "      <td>...</td>\n",
       "      <td>NaN</td>\n",
       "      <td>49983.0</td>\n",
       "      <td>NaN</td>\n",
       "      <td>50100.0</td>\n",
       "      <td>NaN</td>\n",
       "      <td>43043.0</td>\n",
       "      <td>NaN</td>\n",
       "      <td>35380.0</td>\n",
       "      <td>NaN</td>\n",
       "      <td>Africa</td>\n",
       "    </tr>\n",
       "    <tr>\n",
       "      <th>1</th>\n",
       "      <td>4</td>\n",
       "      <td>Algeria</td>\n",
       "      <td>221</td>\n",
       "      <td>Almonds, with shell</td>\n",
       "      <td>5419</td>\n",
       "      <td>Yield</td>\n",
       "      <td>hg/ha</td>\n",
       "      <td>4511.0</td>\n",
       "      <td>Fc</td>\n",
       "      <td>4511.0</td>\n",
       "      <td>...</td>\n",
       "      <td>Fc</td>\n",
       "      <td>13223.0</td>\n",
       "      <td>Fc</td>\n",
       "      <td>12362.0</td>\n",
       "      <td>Fc</td>\n",
       "      <td>13292.0</td>\n",
       "      <td>Fc</td>\n",
       "      <td>20467.0</td>\n",
       "      <td>Fc</td>\n",
       "      <td>Africa</td>\n",
       "    </tr>\n",
       "    <tr>\n",
       "      <th>2</th>\n",
       "      <td>4</td>\n",
       "      <td>Algeria</td>\n",
       "      <td>221</td>\n",
       "      <td>Almonds, with shell</td>\n",
       "      <td>5510</td>\n",
       "      <td>Production</td>\n",
       "      <td>tonnes</td>\n",
       "      <td>6000.0</td>\n",
       "      <td>NaN</td>\n",
       "      <td>6000.0</td>\n",
       "      <td>...</td>\n",
       "      <td>NaN</td>\n",
       "      <td>66095.0</td>\n",
       "      <td>NaN</td>\n",
       "      <td>61934.0</td>\n",
       "      <td>NaN</td>\n",
       "      <td>57213.0</td>\n",
       "      <td>NaN</td>\n",
       "      <td>72412.0</td>\n",
       "      <td>NaN</td>\n",
       "      <td>Africa</td>\n",
       "    </tr>\n",
       "    <tr>\n",
       "      <th>3</th>\n",
       "      <td>4</td>\n",
       "      <td>Algeria</td>\n",
       "      <td>515</td>\n",
       "      <td>Apples</td>\n",
       "      <td>5312</td>\n",
       "      <td>Area harvested</td>\n",
       "      <td>ha</td>\n",
       "      <td>3400.0</td>\n",
       "      <td>F</td>\n",
       "      <td>3100.0</td>\n",
       "      <td>...</td>\n",
       "      <td>NaN</td>\n",
       "      <td>46070.0</td>\n",
       "      <td>NaN</td>\n",
       "      <td>44620.0</td>\n",
       "      <td>NaN</td>\n",
       "      <td>39034.0</td>\n",
       "      <td>NaN</td>\n",
       "      <td>32989.0</td>\n",
       "      <td>NaN</td>\n",
       "      <td>Africa</td>\n",
       "    </tr>\n",
       "    <tr>\n",
       "      <th>4</th>\n",
       "      <td>4</td>\n",
       "      <td>Algeria</td>\n",
       "      <td>515</td>\n",
       "      <td>Apples</td>\n",
       "      <td>5419</td>\n",
       "      <td>Yield</td>\n",
       "      <td>hg/ha</td>\n",
       "      <td>45294.0</td>\n",
       "      <td>Fc</td>\n",
       "      <td>45161.0</td>\n",
       "      <td>...</td>\n",
       "      <td>Fc</td>\n",
       "      <td>108716.0</td>\n",
       "      <td>Fc</td>\n",
       "      <td>110766.0</td>\n",
       "      <td>Fc</td>\n",
       "      <td>124970.0</td>\n",
       "      <td>Fc</td>\n",
       "      <td>169399.0</td>\n",
       "      <td>Fc</td>\n",
       "      <td>Africa</td>\n",
       "    </tr>\n",
       "    <tr>\n",
       "      <th>...</th>\n",
       "      <td>...</td>\n",
       "      <td>...</td>\n",
       "      <td>...</td>\n",
       "      <td>...</td>\n",
       "      <td>...</td>\n",
       "      <td>...</td>\n",
       "      <td>...</td>\n",
       "      <td>...</td>\n",
       "      <td>...</td>\n",
       "      <td>...</td>\n",
       "      <td>...</td>\n",
       "      <td>...</td>\n",
       "      <td>...</td>\n",
       "      <td>...</td>\n",
       "      <td>...</td>\n",
       "      <td>...</td>\n",
       "      <td>...</td>\n",
       "      <td>...</td>\n",
       "      <td>...</td>\n",
       "      <td>...</td>\n",
       "      <td>...</td>\n",
       "    </tr>\n",
       "    <tr>\n",
       "      <th>1649</th>\n",
       "      <td>155</td>\n",
       "      <td>Vanuatu</td>\n",
       "      <td>1720</td>\n",
       "      <td>Roots and Tubers, Total</td>\n",
       "      <td>5419</td>\n",
       "      <td>Yield</td>\n",
       "      <td>hg/ha</td>\n",
       "      <td>225455.0</td>\n",
       "      <td>Fc</td>\n",
       "      <td>227273.0</td>\n",
       "      <td>...</td>\n",
       "      <td>Fc</td>\n",
       "      <td>82306.0</td>\n",
       "      <td>Fc</td>\n",
       "      <td>82341.0</td>\n",
       "      <td>Fc</td>\n",
       "      <td>82374.0</td>\n",
       "      <td>Fc</td>\n",
       "      <td>82407.0</td>\n",
       "      <td>Fc</td>\n",
       "      <td>Oceania</td>\n",
       "    </tr>\n",
       "    <tr>\n",
       "      <th>1650</th>\n",
       "      <td>155</td>\n",
       "      <td>Vanuatu</td>\n",
       "      <td>1720</td>\n",
       "      <td>Roots and Tubers, Total</td>\n",
       "      <td>5510</td>\n",
       "      <td>Production</td>\n",
       "      <td>tonnes</td>\n",
       "      <td>24800.0</td>\n",
       "      <td>A</td>\n",
       "      <td>25000.0</td>\n",
       "      <td>...</td>\n",
       "      <td>A</td>\n",
       "      <td>52314.0</td>\n",
       "      <td>A</td>\n",
       "      <td>52838.0</td>\n",
       "      <td>A</td>\n",
       "      <td>53362.0</td>\n",
       "      <td>A</td>\n",
       "      <td>53886.0</td>\n",
       "      <td>A</td>\n",
       "      <td>Oceania</td>\n",
       "    </tr>\n",
       "    <tr>\n",
       "      <th>1651</th>\n",
       "      <td>155</td>\n",
       "      <td>Vanuatu</td>\n",
       "      <td>1735</td>\n",
       "      <td>Vegetables Primary</td>\n",
       "      <td>5312</td>\n",
       "      <td>Area harvested</td>\n",
       "      <td>ha</td>\n",
       "      <td>200.0</td>\n",
       "      <td>A</td>\n",
       "      <td>210.0</td>\n",
       "      <td>...</td>\n",
       "      <td>A</td>\n",
       "      <td>804.0</td>\n",
       "      <td>A</td>\n",
       "      <td>810.0</td>\n",
       "      <td>A</td>\n",
       "      <td>817.0</td>\n",
       "      <td>A</td>\n",
       "      <td>824.0</td>\n",
       "      <td>A</td>\n",
       "      <td>Oceania</td>\n",
       "    </tr>\n",
       "    <tr>\n",
       "      <th>1652</th>\n",
       "      <td>155</td>\n",
       "      <td>Vanuatu</td>\n",
       "      <td>1735</td>\n",
       "      <td>Vegetables Primary</td>\n",
       "      <td>5419</td>\n",
       "      <td>Yield</td>\n",
       "      <td>hg/ha</td>\n",
       "      <td>150000.0</td>\n",
       "      <td>Fc</td>\n",
       "      <td>150000.0</td>\n",
       "      <td>...</td>\n",
       "      <td>Fc</td>\n",
       "      <td>165547.0</td>\n",
       "      <td>Fc</td>\n",
       "      <td>166358.0</td>\n",
       "      <td>Fc</td>\n",
       "      <td>166952.0</td>\n",
       "      <td>Fc</td>\n",
       "      <td>167524.0</td>\n",
       "      <td>Fc</td>\n",
       "      <td>Oceania</td>\n",
       "    </tr>\n",
       "    <tr>\n",
       "      <th>1653</th>\n",
       "      <td>155</td>\n",
       "      <td>Vanuatu</td>\n",
       "      <td>1735</td>\n",
       "      <td>Vegetables Primary</td>\n",
       "      <td>5510</td>\n",
       "      <td>Production</td>\n",
       "      <td>tonnes</td>\n",
       "      <td>3000.0</td>\n",
       "      <td>A</td>\n",
       "      <td>3150.0</td>\n",
       "      <td>...</td>\n",
       "      <td>A</td>\n",
       "      <td>13310.0</td>\n",
       "      <td>A</td>\n",
       "      <td>13475.0</td>\n",
       "      <td>A</td>\n",
       "      <td>13640.0</td>\n",
       "      <td>A</td>\n",
       "      <td>13804.0</td>\n",
       "      <td>A</td>\n",
       "      <td>Oceania</td>\n",
       "    </tr>\n",
       "  </tbody>\n",
       "</table>\n",
       "<p>38146 rows × 126 columns</p>\n",
       "</div>"
      ],
      "text/plain": [
       "      Area Code     Area  Item Code                     Item  Element Code  \\\n",
       "0             4  Algeria        221      Almonds, with shell          5312   \n",
       "1             4  Algeria        221      Almonds, with shell          5419   \n",
       "2             4  Algeria        221      Almonds, with shell          5510   \n",
       "3             4  Algeria        515                   Apples          5312   \n",
       "4             4  Algeria        515                   Apples          5419   \n",
       "...         ...      ...        ...                      ...           ...   \n",
       "1649        155  Vanuatu       1720  Roots and Tubers, Total          5419   \n",
       "1650        155  Vanuatu       1720  Roots and Tubers, Total          5510   \n",
       "1651        155  Vanuatu       1735       Vegetables Primary          5312   \n",
       "1652        155  Vanuatu       1735       Vegetables Primary          5419   \n",
       "1653        155  Vanuatu       1735       Vegetables Primary          5510   \n",
       "\n",
       "             Element    Unit     Y1961 Y1961F     Y1962  ... Y2015F     Y2016  \\\n",
       "0     Area harvested      ha   13300.0      F   13300.0  ...    NaN   49983.0   \n",
       "1              Yield   hg/ha    4511.0     Fc    4511.0  ...     Fc   13223.0   \n",
       "2         Production  tonnes    6000.0    NaN    6000.0  ...    NaN   66095.0   \n",
       "3     Area harvested      ha    3400.0      F    3100.0  ...    NaN   46070.0   \n",
       "4              Yield   hg/ha   45294.0     Fc   45161.0  ...     Fc  108716.0   \n",
       "...              ...     ...       ...    ...       ...  ...    ...       ...   \n",
       "1649           Yield   hg/ha  225455.0     Fc  227273.0  ...     Fc   82306.0   \n",
       "1650      Production  tonnes   24800.0      A   25000.0  ...      A   52314.0   \n",
       "1651  Area harvested      ha     200.0      A     210.0  ...      A     804.0   \n",
       "1652           Yield   hg/ha  150000.0     Fc  150000.0  ...     Fc  165547.0   \n",
       "1653      Production  tonnes    3000.0      A    3150.0  ...      A   13310.0   \n",
       "\n",
       "     Y2016F     Y2017 Y2017F     Y2018 Y2018F     Y2019 Y2019F  Continent  \n",
       "0       NaN   50100.0    NaN   43043.0    NaN   35380.0    NaN     Africa  \n",
       "1        Fc   12362.0     Fc   13292.0     Fc   20467.0     Fc     Africa  \n",
       "2       NaN   61934.0    NaN   57213.0    NaN   72412.0    NaN     Africa  \n",
       "3       NaN   44620.0    NaN   39034.0    NaN   32989.0    NaN     Africa  \n",
       "4        Fc  110766.0     Fc  124970.0     Fc  169399.0     Fc     Africa  \n",
       "...     ...       ...    ...       ...    ...       ...    ...        ...  \n",
       "1649     Fc   82341.0     Fc   82374.0     Fc   82407.0     Fc    Oceania  \n",
       "1650      A   52838.0      A   53362.0      A   53886.0      A    Oceania  \n",
       "1651      A     810.0      A     817.0      A     824.0      A    Oceania  \n",
       "1652     Fc  166358.0     Fc  166952.0     Fc  167524.0     Fc    Oceania  \n",
       "1653      A   13475.0      A   13640.0      A   13804.0      A    Oceania  \n",
       "\n",
       "[38146 rows x 126 columns]"
      ]
     },
     "execution_count": 9,
     "metadata": {},
     "output_type": "execute_result"
    }
   ],
   "source": [
    "crops_raw"
   ]
  },
  {
   "cell_type": "markdown",
   "id": "93847859",
   "metadata": {},
   "source": [
    "It appears that columns representing the data per year come with an indicator \"F\", let's dig into it !"
   ]
  },
  {
   "cell_type": "code",
   "execution_count": 10,
   "id": "b3864eec",
   "metadata": {},
   "outputs": [
    {
     "data": {
      "text/html": [
       "<div>\n",
       "<style scoped>\n",
       "    .dataframe tbody tr th:only-of-type {\n",
       "        vertical-align: middle;\n",
       "    }\n",
       "\n",
       "    .dataframe tbody tr th {\n",
       "        vertical-align: top;\n",
       "    }\n",
       "\n",
       "    .dataframe thead th {\n",
       "        text-align: right;\n",
       "    }\n",
       "</style>\n",
       "<table border=\"1\" class=\"dataframe\">\n",
       "  <thead>\n",
       "    <tr style=\"text-align: right;\">\n",
       "      <th></th>\n",
       "      <th>ï»¿\"Flag\"</th>\n",
       "      <th>Flags</th>\n",
       "    </tr>\n",
       "  </thead>\n",
       "  <tbody>\n",
       "    <tr>\n",
       "      <th>0</th>\n",
       "      <td>NaN</td>\n",
       "      <td>Official data</td>\n",
       "    </tr>\n",
       "    <tr>\n",
       "      <th>1</th>\n",
       "      <td>*</td>\n",
       "      <td>Unofficial figure</td>\n",
       "    </tr>\n",
       "    <tr>\n",
       "      <th>2</th>\n",
       "      <td>A</td>\n",
       "      <td>Aggregate, may include official, semi-official...</td>\n",
       "    </tr>\n",
       "    <tr>\n",
       "      <th>3</th>\n",
       "      <td>Bk</td>\n",
       "      <td>Break in series</td>\n",
       "    </tr>\n",
       "    <tr>\n",
       "      <th>4</th>\n",
       "      <td>C</td>\n",
       "      <td>Calculated</td>\n",
       "    </tr>\n",
       "    <tr>\n",
       "      <th>5</th>\n",
       "      <td>Ce</td>\n",
       "      <td>Calculated data based on estimated data</td>\n",
       "    </tr>\n",
       "    <tr>\n",
       "      <th>6</th>\n",
       "      <td>Cv</td>\n",
       "      <td>Calculated through value</td>\n",
       "    </tr>\n",
       "    <tr>\n",
       "      <th>7</th>\n",
       "      <td>E</td>\n",
       "      <td>Expert sources from FAO (including other divis...</td>\n",
       "    </tr>\n",
       "    <tr>\n",
       "      <th>8</th>\n",
       "      <td>F</td>\n",
       "      <td>FAO estimate</td>\n",
       "    </tr>\n",
       "    <tr>\n",
       "      <th>9</th>\n",
       "      <td>Fb</td>\n",
       "      <td>Data obtained as a balance</td>\n",
       "    </tr>\n",
       "    <tr>\n",
       "      <th>10</th>\n",
       "      <td>Fc</td>\n",
       "      <td>Calculated data</td>\n",
       "    </tr>\n",
       "    <tr>\n",
       "      <th>11</th>\n",
       "      <td>Fd</td>\n",
       "      <td>estimates - discontinued time series</td>\n",
       "    </tr>\n",
       "    <tr>\n",
       "      <th>12</th>\n",
       "      <td>Fk</td>\n",
       "      <td>Calculated data on the basis of official figures</td>\n",
       "    </tr>\n",
       "    <tr>\n",
       "      <th>13</th>\n",
       "      <td>Fm</td>\n",
       "      <td>Manual Estimation</td>\n",
       "    </tr>\n",
       "    <tr>\n",
       "      <th>14</th>\n",
       "      <td>I</td>\n",
       "      <td>Country data reported by International Organiz...</td>\n",
       "    </tr>\n",
       "    <tr>\n",
       "      <th>15</th>\n",
       "      <td>Im</td>\n",
       "      <td>FAO data based on imputation methodology</td>\n",
       "    </tr>\n",
       "    <tr>\n",
       "      <th>16</th>\n",
       "      <td>M</td>\n",
       "      <td>Data not available</td>\n",
       "    </tr>\n",
       "    <tr>\n",
       "      <th>17</th>\n",
       "      <td>NaN</td>\n",
       "      <td>Not applicable</td>\n",
       "    </tr>\n",
       "    <tr>\n",
       "      <th>18</th>\n",
       "      <td>NR</td>\n",
       "      <td>Not reported</td>\n",
       "    </tr>\n",
       "    <tr>\n",
       "      <th>19</th>\n",
       "      <td>NV</td>\n",
       "      <td>Data not available</td>\n",
       "    </tr>\n",
       "    <tr>\n",
       "      <th>20</th>\n",
       "      <td>Od</td>\n",
       "      <td>Official data - discontinued time series</td>\n",
       "    </tr>\n",
       "    <tr>\n",
       "      <th>21</th>\n",
       "      <td>P</td>\n",
       "      <td>Provisional official data</td>\n",
       "    </tr>\n",
       "    <tr>\n",
       "      <th>22</th>\n",
       "      <td>Q</td>\n",
       "      <td>Official data reported on FAO Questionnaires f...</td>\n",
       "    </tr>\n",
       "    <tr>\n",
       "      <th>23</th>\n",
       "      <td>Qm</td>\n",
       "      <td>Official data from questionnaires and/or natio...</td>\n",
       "    </tr>\n",
       "    <tr>\n",
       "      <th>24</th>\n",
       "      <td>R</td>\n",
       "      <td>Estimated data using trading partners database</td>\n",
       "    </tr>\n",
       "    <tr>\n",
       "      <th>25</th>\n",
       "      <td>S</td>\n",
       "      <td>Standardized data</td>\n",
       "    </tr>\n",
       "    <tr>\n",
       "      <th>26</th>\n",
       "      <td>SD</td>\n",
       "      <td>Statistical Discrepancy</td>\n",
       "    </tr>\n",
       "    <tr>\n",
       "      <th>27</th>\n",
       "      <td>W</td>\n",
       "      <td>Data reported on country official publications...</td>\n",
       "    </tr>\n",
       "    <tr>\n",
       "      <th>28</th>\n",
       "      <td>X</td>\n",
       "      <td>International reliable sources</td>\n",
       "    </tr>\n",
       "    <tr>\n",
       "      <th>29</th>\n",
       "      <td>Z</td>\n",
       "      <td>When the Fertilizer Utilization Account (FUA) ...</td>\n",
       "    </tr>\n",
       "  </tbody>\n",
       "</table>\n",
       "</div>"
      ],
      "text/plain": [
       "   ï»¿\"Flag\"                                              Flags\n",
       "0        NaN                                      Official data\n",
       "1          *                                  Unofficial figure\n",
       "2          A  Aggregate, may include official, semi-official...\n",
       "3         Bk                                    Break in series\n",
       "4          C                                         Calculated\n",
       "5         Ce            Calculated data based on estimated data\n",
       "6         Cv                           Calculated through value\n",
       "7          E  Expert sources from FAO (including other divis...\n",
       "8          F                                       FAO estimate\n",
       "9         Fb                         Data obtained as a balance\n",
       "10        Fc                                    Calculated data\n",
       "11        Fd               estimates - discontinued time series\n",
       "12        Fk   Calculated data on the basis of official figures\n",
       "13        Fm                                  Manual Estimation\n",
       "14         I  Country data reported by International Organiz...\n",
       "15        Im           FAO data based on imputation methodology\n",
       "16         M                                 Data not available\n",
       "17       NaN                                     Not applicable\n",
       "18        NR                                       Not reported\n",
       "19        NV                                 Data not available\n",
       "20        Od           Official data - discontinued time series\n",
       "21         P                          Provisional official data\n",
       "22         Q  Official data reported on FAO Questionnaires f...\n",
       "23        Qm  Official data from questionnaires and/or natio...\n",
       "24         R     Estimated data using trading partners database\n",
       "25         S                                  Standardized data\n",
       "26        SD                            Statistical Discrepancy\n",
       "27         W  Data reported on country official publications...\n",
       "28         X                     International reliable sources\n",
       "29         Z  When the Fertilizer Utilization Account (FUA) ..."
      ]
     },
     "execution_count": 10,
     "metadata": {},
     "output_type": "execute_result"
    }
   ],
   "source": [
    "flags_df = pd.read_csv(\"https://raw.githubusercontent.com/nicoboou/ml_eml/main/data/agriculture-crop-production/flags.csv\", encoding=\"latin1\")\n",
    "flags_df"
   ]
  },
  {
   "cell_type": "markdown",
   "id": "0cebf0ef",
   "metadata": {},
   "source": [
    "Each year column comes with another column, stating the source of the figures for this year (whether the figure was calculated with official data, estimated, etc).<br/>\n",
    "It is good info to know, but let's put these data pieces aside and keep a smaller df:"
   ]
  },
  {
   "cell_type": "code",
   "execution_count": 12,
   "id": "a7bd7471",
   "metadata": {},
   "outputs": [
    {
     "data": {
      "text/html": [
       "<div>\n",
       "<style scoped>\n",
       "    .dataframe tbody tr th:only-of-type {\n",
       "        vertical-align: middle;\n",
       "    }\n",
       "\n",
       "    .dataframe tbody tr th {\n",
       "        vertical-align: top;\n",
       "    }\n",
       "\n",
       "    .dataframe thead th {\n",
       "        text-align: right;\n",
       "    }\n",
       "</style>\n",
       "<table border=\"1\" class=\"dataframe\">\n",
       "  <thead>\n",
       "    <tr style=\"text-align: right;\">\n",
       "      <th></th>\n",
       "      <th>Continent</th>\n",
       "      <th>Area Code</th>\n",
       "      <th>Area</th>\n",
       "      <th>Item Code</th>\n",
       "      <th>Item</th>\n",
       "      <th>Element Code</th>\n",
       "      <th>Element</th>\n",
       "      <th>Unit</th>\n",
       "      <th>Y1961</th>\n",
       "      <th>Y1962</th>\n",
       "      <th>...</th>\n",
       "      <th>Y2010</th>\n",
       "      <th>Y2011</th>\n",
       "      <th>Y2012</th>\n",
       "      <th>Y2013</th>\n",
       "      <th>Y2014</th>\n",
       "      <th>Y2015</th>\n",
       "      <th>Y2016</th>\n",
       "      <th>Y2017</th>\n",
       "      <th>Y2018</th>\n",
       "      <th>Y2019</th>\n",
       "    </tr>\n",
       "  </thead>\n",
       "  <tbody>\n",
       "    <tr>\n",
       "      <th>0</th>\n",
       "      <td>Africa</td>\n",
       "      <td>4</td>\n",
       "      <td>Algeria</td>\n",
       "      <td>221</td>\n",
       "      <td>Almonds, with shell</td>\n",
       "      <td>5312</td>\n",
       "      <td>Area harvested</td>\n",
       "      <td>ha</td>\n",
       "      <td>13300.0</td>\n",
       "      <td>13300.0</td>\n",
       "      <td>...</td>\n",
       "      <td>54485.0</td>\n",
       "      <td>52245.0</td>\n",
       "      <td>49975.0</td>\n",
       "      <td>49011.0</td>\n",
       "      <td>39050.0</td>\n",
       "      <td>40403.0</td>\n",
       "      <td>49983.0</td>\n",
       "      <td>50100.0</td>\n",
       "      <td>43043.0</td>\n",
       "      <td>35380.0</td>\n",
       "    </tr>\n",
       "    <tr>\n",
       "      <th>1</th>\n",
       "      <td>Africa</td>\n",
       "      <td>4</td>\n",
       "      <td>Algeria</td>\n",
       "      <td>221</td>\n",
       "      <td>Almonds, with shell</td>\n",
       "      <td>5419</td>\n",
       "      <td>Yield</td>\n",
       "      <td>hg/ha</td>\n",
       "      <td>4511.0</td>\n",
       "      <td>4511.0</td>\n",
       "      <td>...</td>\n",
       "      <td>10457.0</td>\n",
       "      <td>9689.0</td>\n",
       "      <td>13304.0</td>\n",
       "      <td>12965.0</td>\n",
       "      <td>16601.0</td>\n",
       "      <td>18930.0</td>\n",
       "      <td>13223.0</td>\n",
       "      <td>12362.0</td>\n",
       "      <td>13292.0</td>\n",
       "      <td>20467.0</td>\n",
       "    </tr>\n",
       "    <tr>\n",
       "      <th>2</th>\n",
       "      <td>Africa</td>\n",
       "      <td>4</td>\n",
       "      <td>Algeria</td>\n",
       "      <td>221</td>\n",
       "      <td>Almonds, with shell</td>\n",
       "      <td>5510</td>\n",
       "      <td>Production</td>\n",
       "      <td>tonnes</td>\n",
       "      <td>6000.0</td>\n",
       "      <td>6000.0</td>\n",
       "      <td>...</td>\n",
       "      <td>56973.0</td>\n",
       "      <td>50621.0</td>\n",
       "      <td>66487.0</td>\n",
       "      <td>63545.0</td>\n",
       "      <td>64827.0</td>\n",
       "      <td>76482.0</td>\n",
       "      <td>66095.0</td>\n",
       "      <td>61934.0</td>\n",
       "      <td>57213.0</td>\n",
       "      <td>72412.0</td>\n",
       "    </tr>\n",
       "    <tr>\n",
       "      <th>3</th>\n",
       "      <td>Africa</td>\n",
       "      <td>4</td>\n",
       "      <td>Algeria</td>\n",
       "      <td>515</td>\n",
       "      <td>Apples</td>\n",
       "      <td>5312</td>\n",
       "      <td>Area harvested</td>\n",
       "      <td>ha</td>\n",
       "      <td>3400.0</td>\n",
       "      <td>3100.0</td>\n",
       "      <td>...</td>\n",
       "      <td>52419.0</td>\n",
       "      <td>51080.0</td>\n",
       "      <td>48828.0</td>\n",
       "      <td>48064.0</td>\n",
       "      <td>40418.0</td>\n",
       "      <td>41011.0</td>\n",
       "      <td>46070.0</td>\n",
       "      <td>44620.0</td>\n",
       "      <td>39034.0</td>\n",
       "      <td>32989.0</td>\n",
       "    </tr>\n",
       "    <tr>\n",
       "      <th>4</th>\n",
       "      <td>Africa</td>\n",
       "      <td>4</td>\n",
       "      <td>Algeria</td>\n",
       "      <td>515</td>\n",
       "      <td>Apples</td>\n",
       "      <td>5419</td>\n",
       "      <td>Yield</td>\n",
       "      <td>hg/ha</td>\n",
       "      <td>45294.0</td>\n",
       "      <td>45161.0</td>\n",
       "      <td>...</td>\n",
       "      <td>72233.0</td>\n",
       "      <td>79112.0</td>\n",
       "      <td>81414.0</td>\n",
       "      <td>94860.0</td>\n",
       "      <td>114507.0</td>\n",
       "      <td>110086.0</td>\n",
       "      <td>108716.0</td>\n",
       "      <td>110766.0</td>\n",
       "      <td>124970.0</td>\n",
       "      <td>169399.0</td>\n",
       "    </tr>\n",
       "    <tr>\n",
       "      <th>...</th>\n",
       "      <td>...</td>\n",
       "      <td>...</td>\n",
       "      <td>...</td>\n",
       "      <td>...</td>\n",
       "      <td>...</td>\n",
       "      <td>...</td>\n",
       "      <td>...</td>\n",
       "      <td>...</td>\n",
       "      <td>...</td>\n",
       "      <td>...</td>\n",
       "      <td>...</td>\n",
       "      <td>...</td>\n",
       "      <td>...</td>\n",
       "      <td>...</td>\n",
       "      <td>...</td>\n",
       "      <td>...</td>\n",
       "      <td>...</td>\n",
       "      <td>...</td>\n",
       "      <td>...</td>\n",
       "      <td>...</td>\n",
       "      <td>...</td>\n",
       "    </tr>\n",
       "    <tr>\n",
       "      <th>1649</th>\n",
       "      <td>Oceania</td>\n",
       "      <td>155</td>\n",
       "      <td>Vanuatu</td>\n",
       "      <td>1720</td>\n",
       "      <td>Roots and Tubers, Total</td>\n",
       "      <td>5419</td>\n",
       "      <td>Yield</td>\n",
       "      <td>hg/ha</td>\n",
       "      <td>225455.0</td>\n",
       "      <td>227273.0</td>\n",
       "      <td>...</td>\n",
       "      <td>82072.0</td>\n",
       "      <td>80645.0</td>\n",
       "      <td>82258.0</td>\n",
       "      <td>82540.0</td>\n",
       "      <td>82518.0</td>\n",
       "      <td>82467.0</td>\n",
       "      <td>82306.0</td>\n",
       "      <td>82341.0</td>\n",
       "      <td>82374.0</td>\n",
       "      <td>82407.0</td>\n",
       "    </tr>\n",
       "    <tr>\n",
       "      <th>1650</th>\n",
       "      <td>Oceania</td>\n",
       "      <td>155</td>\n",
       "      <td>Vanuatu</td>\n",
       "      <td>1720</td>\n",
       "      <td>Roots and Tubers, Total</td>\n",
       "      <td>5510</td>\n",
       "      <td>Production</td>\n",
       "      <td>tonnes</td>\n",
       "      <td>24800.0</td>\n",
       "      <td>25000.0</td>\n",
       "      <td>...</td>\n",
       "      <td>47700.0</td>\n",
       "      <td>50000.0</td>\n",
       "      <td>51000.0</td>\n",
       "      <td>52000.0</td>\n",
       "      <td>52374.0</td>\n",
       "      <td>52251.0</td>\n",
       "      <td>52314.0</td>\n",
       "      <td>52838.0</td>\n",
       "      <td>53362.0</td>\n",
       "      <td>53886.0</td>\n",
       "    </tr>\n",
       "    <tr>\n",
       "      <th>1651</th>\n",
       "      <td>Oceania</td>\n",
       "      <td>155</td>\n",
       "      <td>Vanuatu</td>\n",
       "      <td>1735</td>\n",
       "      <td>Vegetables Primary</td>\n",
       "      <td>5312</td>\n",
       "      <td>Area harvested</td>\n",
       "      <td>ha</td>\n",
       "      <td>200.0</td>\n",
       "      <td>210.0</td>\n",
       "      <td>...</td>\n",
       "      <td>753.0</td>\n",
       "      <td>762.0</td>\n",
       "      <td>750.0</td>\n",
       "      <td>779.0</td>\n",
       "      <td>791.0</td>\n",
       "      <td>801.0</td>\n",
       "      <td>804.0</td>\n",
       "      <td>810.0</td>\n",
       "      <td>817.0</td>\n",
       "      <td>824.0</td>\n",
       "    </tr>\n",
       "    <tr>\n",
       "      <th>1652</th>\n",
       "      <td>Oceania</td>\n",
       "      <td>155</td>\n",
       "      <td>Vanuatu</td>\n",
       "      <td>1735</td>\n",
       "      <td>Vegetables Primary</td>\n",
       "      <td>5419</td>\n",
       "      <td>Yield</td>\n",
       "      <td>hg/ha</td>\n",
       "      <td>150000.0</td>\n",
       "      <td>150000.0</td>\n",
       "      <td>...</td>\n",
       "      <td>160651.0</td>\n",
       "      <td>161444.0</td>\n",
       "      <td>166667.0</td>\n",
       "      <td>163248.0</td>\n",
       "      <td>163540.0</td>\n",
       "      <td>164819.0</td>\n",
       "      <td>165547.0</td>\n",
       "      <td>166358.0</td>\n",
       "      <td>166952.0</td>\n",
       "      <td>167524.0</td>\n",
       "    </tr>\n",
       "    <tr>\n",
       "      <th>1653</th>\n",
       "      <td>Oceania</td>\n",
       "      <td>155</td>\n",
       "      <td>Vanuatu</td>\n",
       "      <td>1735</td>\n",
       "      <td>Vegetables Primary</td>\n",
       "      <td>5510</td>\n",
       "      <td>Production</td>\n",
       "      <td>tonnes</td>\n",
       "      <td>3000.0</td>\n",
       "      <td>3150.0</td>\n",
       "      <td>...</td>\n",
       "      <td>12097.0</td>\n",
       "      <td>12302.0</td>\n",
       "      <td>12500.0</td>\n",
       "      <td>12717.0</td>\n",
       "      <td>12936.0</td>\n",
       "      <td>13202.0</td>\n",
       "      <td>13310.0</td>\n",
       "      <td>13475.0</td>\n",
       "      <td>13640.0</td>\n",
       "      <td>13804.0</td>\n",
       "    </tr>\n",
       "  </tbody>\n",
       "</table>\n",
       "<p>38146 rows × 67 columns</p>\n",
       "</div>"
      ],
      "text/plain": [
       "     Continent  Area Code     Area  Item Code                     Item  \\\n",
       "0       Africa          4  Algeria        221      Almonds, with shell   \n",
       "1       Africa          4  Algeria        221      Almonds, with shell   \n",
       "2       Africa          4  Algeria        221      Almonds, with shell   \n",
       "3       Africa          4  Algeria        515                   Apples   \n",
       "4       Africa          4  Algeria        515                   Apples   \n",
       "...        ...        ...      ...        ...                      ...   \n",
       "1649   Oceania        155  Vanuatu       1720  Roots and Tubers, Total   \n",
       "1650   Oceania        155  Vanuatu       1720  Roots and Tubers, Total   \n",
       "1651   Oceania        155  Vanuatu       1735       Vegetables Primary   \n",
       "1652   Oceania        155  Vanuatu       1735       Vegetables Primary   \n",
       "1653   Oceania        155  Vanuatu       1735       Vegetables Primary   \n",
       "\n",
       "      Element Code         Element    Unit     Y1961     Y1962  ...     Y2010  \\\n",
       "0             5312  Area harvested      ha   13300.0   13300.0  ...   54485.0   \n",
       "1             5419           Yield   hg/ha    4511.0    4511.0  ...   10457.0   \n",
       "2             5510      Production  tonnes    6000.0    6000.0  ...   56973.0   \n",
       "3             5312  Area harvested      ha    3400.0    3100.0  ...   52419.0   \n",
       "4             5419           Yield   hg/ha   45294.0   45161.0  ...   72233.0   \n",
       "...            ...             ...     ...       ...       ...  ...       ...   \n",
       "1649          5419           Yield   hg/ha  225455.0  227273.0  ...   82072.0   \n",
       "1650          5510      Production  tonnes   24800.0   25000.0  ...   47700.0   \n",
       "1651          5312  Area harvested      ha     200.0     210.0  ...     753.0   \n",
       "1652          5419           Yield   hg/ha  150000.0  150000.0  ...  160651.0   \n",
       "1653          5510      Production  tonnes    3000.0    3150.0  ...   12097.0   \n",
       "\n",
       "         Y2011     Y2012     Y2013     Y2014     Y2015     Y2016     Y2017  \\\n",
       "0      52245.0   49975.0   49011.0   39050.0   40403.0   49983.0   50100.0   \n",
       "1       9689.0   13304.0   12965.0   16601.0   18930.0   13223.0   12362.0   \n",
       "2      50621.0   66487.0   63545.0   64827.0   76482.0   66095.0   61934.0   \n",
       "3      51080.0   48828.0   48064.0   40418.0   41011.0   46070.0   44620.0   \n",
       "4      79112.0   81414.0   94860.0  114507.0  110086.0  108716.0  110766.0   \n",
       "...        ...       ...       ...       ...       ...       ...       ...   \n",
       "1649   80645.0   82258.0   82540.0   82518.0   82467.0   82306.0   82341.0   \n",
       "1650   50000.0   51000.0   52000.0   52374.0   52251.0   52314.0   52838.0   \n",
       "1651     762.0     750.0     779.0     791.0     801.0     804.0     810.0   \n",
       "1652  161444.0  166667.0  163248.0  163540.0  164819.0  165547.0  166358.0   \n",
       "1653   12302.0   12500.0   12717.0   12936.0   13202.0   13310.0   13475.0   \n",
       "\n",
       "         Y2018     Y2019  \n",
       "0      43043.0   35380.0  \n",
       "1      13292.0   20467.0  \n",
       "2      57213.0   72412.0  \n",
       "3      39034.0   32989.0  \n",
       "4     124970.0  169399.0  \n",
       "...        ...       ...  \n",
       "1649   82374.0   82407.0  \n",
       "1650   53362.0   53886.0  \n",
       "1651     817.0     824.0  \n",
       "1652  166952.0  167524.0  \n",
       "1653   13640.0   13804.0  \n",
       "\n",
       "[38146 rows x 67 columns]"
      ]
     },
     "execution_count": 12,
     "metadata": {},
     "output_type": "execute_result"
    }
   ],
   "source": [
    "crops_all = copy.deepcopy(crops_raw)\n",
    "crops_all = crops_all.loc[:, ~crops_all.columns.str.endswith('F')]\n",
    "crops_all = crops_all[crops_all.columns[~crops_all.columns.str.endswith('F')]]\n",
    "first_col = crops_all.pop('Continent')\n",
    "crops_all.insert(0, 'Continent', first_col)\n",
    "crops_all"
   ]
  },
  {
   "cell_type": "markdown",
   "id": "27c69c98",
   "metadata": {},
   "source": [
    "## 2. Loading the *Gas Emissions* dataset"
   ]
  },
  {
   "cell_type": "code",
   "execution_count": 13,
   "id": "0e4aa3b6",
   "metadata": {},
   "outputs": [
    {
     "data": {
      "text/html": [
       "<div>\n",
       "<style scoped>\n",
       "    .dataframe tbody tr th:only-of-type {\n",
       "        vertical-align: middle;\n",
       "    }\n",
       "\n",
       "    .dataframe tbody tr th {\n",
       "        vertical-align: top;\n",
       "    }\n",
       "\n",
       "    .dataframe thead th {\n",
       "        text-align: right;\n",
       "    }\n",
       "</style>\n",
       "<table border=\"1\" class=\"dataframe\">\n",
       "  <thead>\n",
       "    <tr style=\"text-align: right;\">\n",
       "      <th></th>\n",
       "      <th>Code zone</th>\n",
       "      <th>Zone</th>\n",
       "      <th>Code Produit</th>\n",
       "      <th>Produit</th>\n",
       "      <th>Code Élément</th>\n",
       "      <th>Élément</th>\n",
       "      <th>Code source</th>\n",
       "      <th>Source</th>\n",
       "      <th>Unité</th>\n",
       "      <th>Y1961</th>\n",
       "      <th>...</th>\n",
       "      <th>Y2019N</th>\n",
       "      <th>Y2020</th>\n",
       "      <th>Y2020F</th>\n",
       "      <th>Y2020N</th>\n",
       "      <th>Y2030</th>\n",
       "      <th>Y2030F</th>\n",
       "      <th>Y2030N</th>\n",
       "      <th>Y2050</th>\n",
       "      <th>Y2050F</th>\n",
       "      <th>Y2050N</th>\n",
       "    </tr>\n",
       "  </thead>\n",
       "  <tbody>\n",
       "    <tr>\n",
       "      <th>0</th>\n",
       "      <td>2</td>\n",
       "      <td>Afghanistan</td>\n",
       "      <td>5058</td>\n",
       "      <td>Fermentation entérique</td>\n",
       "      <td>7225</td>\n",
       "      <td>Émissions (CH4)</td>\n",
       "      <td>3050</td>\n",
       "      <td>FAO TIER 1</td>\n",
       "      <td>kilotonnes</td>\n",
       "      <td>240.6831</td>\n",
       "      <td>...</td>\n",
       "      <td>NaN</td>\n",
       "      <td>NaN</td>\n",
       "      <td>NaN</td>\n",
       "      <td>NaN</td>\n",
       "      <td>453.7474</td>\n",
       "      <td>Fc</td>\n",
       "      <td>NaN</td>\n",
       "      <td>603.6185</td>\n",
       "      <td>Fc</td>\n",
       "      <td>NaN</td>\n",
       "    </tr>\n",
       "    <tr>\n",
       "      <th>1</th>\n",
       "      <td>2</td>\n",
       "      <td>Afghanistan</td>\n",
       "      <td>5058</td>\n",
       "      <td>Fermentation entérique</td>\n",
       "      <td>7225</td>\n",
       "      <td>Émissions (CH4)</td>\n",
       "      <td>3051</td>\n",
       "      <td>UNFCCC</td>\n",
       "      <td>kilotonnes</td>\n",
       "      <td>NaN</td>\n",
       "      <td>...</td>\n",
       "      <td>NaN</td>\n",
       "      <td>NaN</td>\n",
       "      <td>NaN</td>\n",
       "      <td>NaN</td>\n",
       "      <td>NaN</td>\n",
       "      <td>NaN</td>\n",
       "      <td>NaN</td>\n",
       "      <td>NaN</td>\n",
       "      <td>NaN</td>\n",
       "      <td>NaN</td>\n",
       "    </tr>\n",
       "    <tr>\n",
       "      <th>2</th>\n",
       "      <td>2</td>\n",
       "      <td>Afghanistan</td>\n",
       "      <td>5058</td>\n",
       "      <td>Fermentation entérique</td>\n",
       "      <td>724413</td>\n",
       "      <td>Émissions (CO2eq) venant de CH4 (AR5)</td>\n",
       "      <td>3050</td>\n",
       "      <td>FAO TIER 1</td>\n",
       "      <td>kilotonnes</td>\n",
       "      <td>6739.1279</td>\n",
       "      <td>...</td>\n",
       "      <td>NaN</td>\n",
       "      <td>NaN</td>\n",
       "      <td>NaN</td>\n",
       "      <td>NaN</td>\n",
       "      <td>12704.9283</td>\n",
       "      <td>Fc</td>\n",
       "      <td>NaN</td>\n",
       "      <td>16901.3173</td>\n",
       "      <td>Fc</td>\n",
       "      <td>NaN</td>\n",
       "    </tr>\n",
       "    <tr>\n",
       "      <th>3</th>\n",
       "      <td>2</td>\n",
       "      <td>Afghanistan</td>\n",
       "      <td>5058</td>\n",
       "      <td>Fermentation entérique</td>\n",
       "      <td>724413</td>\n",
       "      <td>Émissions (CO2eq) venant de CH4 (AR5)</td>\n",
       "      <td>3051</td>\n",
       "      <td>UNFCCC</td>\n",
       "      <td>kilotonnes</td>\n",
       "      <td>NaN</td>\n",
       "      <td>...</td>\n",
       "      <td>NaN</td>\n",
       "      <td>NaN</td>\n",
       "      <td>NaN</td>\n",
       "      <td>NaN</td>\n",
       "      <td>NaN</td>\n",
       "      <td>NaN</td>\n",
       "      <td>NaN</td>\n",
       "      <td>NaN</td>\n",
       "      <td>NaN</td>\n",
       "      <td>NaN</td>\n",
       "    </tr>\n",
       "    <tr>\n",
       "      <th>4</th>\n",
       "      <td>2</td>\n",
       "      <td>Afghanistan</td>\n",
       "      <td>5058</td>\n",
       "      <td>Fermentation entérique</td>\n",
       "      <td>723113</td>\n",
       "      <td>Émissions (CO2eq) (AR5)</td>\n",
       "      <td>3050</td>\n",
       "      <td>FAO TIER 1</td>\n",
       "      <td>kilotonnes</td>\n",
       "      <td>6739.1279</td>\n",
       "      <td>...</td>\n",
       "      <td>NaN</td>\n",
       "      <td>NaN</td>\n",
       "      <td>NaN</td>\n",
       "      <td>NaN</td>\n",
       "      <td>12704.9283</td>\n",
       "      <td>Fc</td>\n",
       "      <td>NaN</td>\n",
       "      <td>16901.3173</td>\n",
       "      <td>Fc</td>\n",
       "      <td>NaN</td>\n",
       "    </tr>\n",
       "    <tr>\n",
       "      <th>...</th>\n",
       "      <td>...</td>\n",
       "      <td>...</td>\n",
       "      <td>...</td>\n",
       "      <td>...</td>\n",
       "      <td>...</td>\n",
       "      <td>...</td>\n",
       "      <td>...</td>\n",
       "      <td>...</td>\n",
       "      <td>...</td>\n",
       "      <td>...</td>\n",
       "      <td>...</td>\n",
       "      <td>...</td>\n",
       "      <td>...</td>\n",
       "      <td>...</td>\n",
       "      <td>...</td>\n",
       "      <td>...</td>\n",
       "      <td>...</td>\n",
       "      <td>...</td>\n",
       "      <td>...</td>\n",
       "      <td>...</td>\n",
       "      <td>...</td>\n",
       "    </tr>\n",
       "    <tr>\n",
       "      <th>35751</th>\n",
       "      <td>5873</td>\n",
       "      <td>OECD</td>\n",
       "      <td>6516</td>\n",
       "      <td>Changement d'utilisation des terres</td>\n",
       "      <td>7230</td>\n",
       "      <td>Émissions (N2O)</td>\n",
       "      <td>3050</td>\n",
       "      <td>FAO TIER 1</td>\n",
       "      <td>kilotonnes</td>\n",
       "      <td>NaN</td>\n",
       "      <td>...</td>\n",
       "      <td>NaN</td>\n",
       "      <td>NaN</td>\n",
       "      <td>NaN</td>\n",
       "      <td>NaN</td>\n",
       "      <td>NaN</td>\n",
       "      <td>NaN</td>\n",
       "      <td>NaN</td>\n",
       "      <td>NaN</td>\n",
       "      <td>NaN</td>\n",
       "      <td>NaN</td>\n",
       "    </tr>\n",
       "    <tr>\n",
       "      <th>35752</th>\n",
       "      <td>5873</td>\n",
       "      <td>OECD</td>\n",
       "      <td>6516</td>\n",
       "      <td>Changement d'utilisation des terres</td>\n",
       "      <td>7273</td>\n",
       "      <td>Émissions (CO2)</td>\n",
       "      <td>3050</td>\n",
       "      <td>FAO TIER 1</td>\n",
       "      <td>kilotonnes</td>\n",
       "      <td>NaN</td>\n",
       "      <td>...</td>\n",
       "      <td>NaN</td>\n",
       "      <td>NaN</td>\n",
       "      <td>NaN</td>\n",
       "      <td>NaN</td>\n",
       "      <td>NaN</td>\n",
       "      <td>NaN</td>\n",
       "      <td>NaN</td>\n",
       "      <td>NaN</td>\n",
       "      <td>NaN</td>\n",
       "      <td>NaN</td>\n",
       "    </tr>\n",
       "    <tr>\n",
       "      <th>35753</th>\n",
       "      <td>5873</td>\n",
       "      <td>OECD</td>\n",
       "      <td>6516</td>\n",
       "      <td>Changement d'utilisation des terres</td>\n",
       "      <td>724413</td>\n",
       "      <td>Émissions (CO2eq) venant de CH4 (AR5)</td>\n",
       "      <td>3050</td>\n",
       "      <td>FAO TIER 1</td>\n",
       "      <td>kilotonnes</td>\n",
       "      <td>NaN</td>\n",
       "      <td>...</td>\n",
       "      <td>NaN</td>\n",
       "      <td>NaN</td>\n",
       "      <td>NaN</td>\n",
       "      <td>NaN</td>\n",
       "      <td>NaN</td>\n",
       "      <td>NaN</td>\n",
       "      <td>NaN</td>\n",
       "      <td>NaN</td>\n",
       "      <td>NaN</td>\n",
       "      <td>NaN</td>\n",
       "    </tr>\n",
       "    <tr>\n",
       "      <th>35754</th>\n",
       "      <td>5873</td>\n",
       "      <td>OECD</td>\n",
       "      <td>6516</td>\n",
       "      <td>Changement d'utilisation des terres</td>\n",
       "      <td>724313</td>\n",
       "      <td>Émissions (CO2eq) venant de N2O (AR5)</td>\n",
       "      <td>3050</td>\n",
       "      <td>FAO TIER 1</td>\n",
       "      <td>kilotonnes</td>\n",
       "      <td>NaN</td>\n",
       "      <td>...</td>\n",
       "      <td>NaN</td>\n",
       "      <td>NaN</td>\n",
       "      <td>NaN</td>\n",
       "      <td>NaN</td>\n",
       "      <td>NaN</td>\n",
       "      <td>NaN</td>\n",
       "      <td>NaN</td>\n",
       "      <td>NaN</td>\n",
       "      <td>NaN</td>\n",
       "      <td>NaN</td>\n",
       "    </tr>\n",
       "    <tr>\n",
       "      <th>35755</th>\n",
       "      <td>5873</td>\n",
       "      <td>OECD</td>\n",
       "      <td>6516</td>\n",
       "      <td>Changement d'utilisation des terres</td>\n",
       "      <td>723113</td>\n",
       "      <td>Émissions (CO2eq) (AR5)</td>\n",
       "      <td>3050</td>\n",
       "      <td>FAO TIER 1</td>\n",
       "      <td>kilotonnes</td>\n",
       "      <td>NaN</td>\n",
       "      <td>...</td>\n",
       "      <td>NaN</td>\n",
       "      <td>NaN</td>\n",
       "      <td>NaN</td>\n",
       "      <td>NaN</td>\n",
       "      <td>NaN</td>\n",
       "      <td>NaN</td>\n",
       "      <td>NaN</td>\n",
       "      <td>NaN</td>\n",
       "      <td>NaN</td>\n",
       "      <td>NaN</td>\n",
       "    </tr>\n",
       "  </tbody>\n",
       "</table>\n",
       "<p>35756 rows × 195 columns</p>\n",
       "</div>"
      ],
      "text/plain": [
       "       Code zone         Zone  Code Produit  \\\n",
       "0              2  Afghanistan          5058   \n",
       "1              2  Afghanistan          5058   \n",
       "2              2  Afghanistan          5058   \n",
       "3              2  Afghanistan          5058   \n",
       "4              2  Afghanistan          5058   \n",
       "...          ...          ...           ...   \n",
       "35751       5873         OECD          6516   \n",
       "35752       5873         OECD          6516   \n",
       "35753       5873         OECD          6516   \n",
       "35754       5873         OECD          6516   \n",
       "35755       5873         OECD          6516   \n",
       "\n",
       "                                   Produit  Code Élément  \\\n",
       "0                   Fermentation entérique          7225   \n",
       "1                   Fermentation entérique          7225   \n",
       "2                   Fermentation entérique        724413   \n",
       "3                   Fermentation entérique        724413   \n",
       "4                   Fermentation entérique        723113   \n",
       "...                                    ...           ...   \n",
       "35751  Changement d'utilisation des terres          7230   \n",
       "35752  Changement d'utilisation des terres          7273   \n",
       "35753  Changement d'utilisation des terres        724413   \n",
       "35754  Changement d'utilisation des terres        724313   \n",
       "35755  Changement d'utilisation des terres        723113   \n",
       "\n",
       "                                     Élément  Code source      Source  \\\n",
       "0                            Émissions (CH4)         3050  FAO TIER 1   \n",
       "1                            Émissions (CH4)         3051      UNFCCC   \n",
       "2      Émissions (CO2eq) venant de CH4 (AR5)         3050  FAO TIER 1   \n",
       "3      Émissions (CO2eq) venant de CH4 (AR5)         3051      UNFCCC   \n",
       "4                    Émissions (CO2eq) (AR5)         3050  FAO TIER 1   \n",
       "...                                      ...          ...         ...   \n",
       "35751                        Émissions (N2O)         3050  FAO TIER 1   \n",
       "35752                        Émissions (CO2)         3050  FAO TIER 1   \n",
       "35753  Émissions (CO2eq) venant de CH4 (AR5)         3050  FAO TIER 1   \n",
       "35754  Émissions (CO2eq) venant de N2O (AR5)         3050  FAO TIER 1   \n",
       "35755                Émissions (CO2eq) (AR5)         3050  FAO TIER 1   \n",
       "\n",
       "            Unité      Y1961  ... Y2019N  Y2020  Y2020F Y2020N       Y2030  \\\n",
       "0      kilotonnes   240.6831  ...    NaN    NaN     NaN    NaN    453.7474   \n",
       "1      kilotonnes        NaN  ...    NaN    NaN     NaN    NaN         NaN   \n",
       "2      kilotonnes  6739.1279  ...    NaN    NaN     NaN    NaN  12704.9283   \n",
       "3      kilotonnes        NaN  ...    NaN    NaN     NaN    NaN         NaN   \n",
       "4      kilotonnes  6739.1279  ...    NaN    NaN     NaN    NaN  12704.9283   \n",
       "...           ...        ...  ...    ...    ...     ...    ...         ...   \n",
       "35751  kilotonnes        NaN  ...    NaN    NaN     NaN    NaN         NaN   \n",
       "35752  kilotonnes        NaN  ...    NaN    NaN     NaN    NaN         NaN   \n",
       "35753  kilotonnes        NaN  ...    NaN    NaN     NaN    NaN         NaN   \n",
       "35754  kilotonnes        NaN  ...    NaN    NaN     NaN    NaN         NaN   \n",
       "35755  kilotonnes        NaN  ...    NaN    NaN     NaN    NaN         NaN   \n",
       "\n",
       "       Y2030F Y2030N       Y2050  Y2050F Y2050N  \n",
       "0          Fc    NaN    603.6185      Fc    NaN  \n",
       "1         NaN    NaN         NaN     NaN    NaN  \n",
       "2          Fc    NaN  16901.3173      Fc    NaN  \n",
       "3         NaN    NaN         NaN     NaN    NaN  \n",
       "4          Fc    NaN  16901.3173      Fc    NaN  \n",
       "...       ...    ...         ...     ...    ...  \n",
       "35751     NaN    NaN         NaN     NaN    NaN  \n",
       "35752     NaN    NaN         NaN     NaN    NaN  \n",
       "35753     NaN    NaN         NaN     NaN    NaN  \n",
       "35754     NaN    NaN         NaN     NaN    NaN  \n",
       "35755     NaN    NaN         NaN     NaN    NaN  \n",
       "\n",
       "[35756 rows x 195 columns]"
      ]
     },
     "execution_count": 13,
     "metadata": {},
     "output_type": "execute_result"
    }
   ],
   "source": [
    "# Loading Gas Emissions' dataset\n",
    "\n",
    "url = 'https://raw.githubusercontent.com/nicoboou/ml_eml/main/data/emissions/emissions_full.csv'\n",
    "emissions_df = pd.read_csv(url, sep=',',encoding='latin-1',low_memory=False)\n",
    "emissions_df"
   ]
  },
  {
   "cell_type": "markdown",
   "id": "543051da",
   "metadata": {},
   "source": [
    "**Let's focus for now on CO2 emissions**"
   ]
  },
  {
   "cell_type": "code",
   "execution_count": 14,
   "id": "8883c8b1",
   "metadata": {},
   "outputs": [
    {
     "data": {
      "text/html": [
       "<div>\n",
       "<style scoped>\n",
       "    .dataframe tbody tr th:only-of-type {\n",
       "        vertical-align: middle;\n",
       "    }\n",
       "\n",
       "    .dataframe tbody tr th {\n",
       "        vertical-align: top;\n",
       "    }\n",
       "\n",
       "    .dataframe thead th {\n",
       "        text-align: right;\n",
       "    }\n",
       "</style>\n",
       "<table border=\"1\" class=\"dataframe\">\n",
       "  <thead>\n",
       "    <tr style=\"text-align: right;\">\n",
       "      <th></th>\n",
       "      <th>Code zone</th>\n",
       "      <th>Zone</th>\n",
       "      <th>Code Produit</th>\n",
       "      <th>Produit</th>\n",
       "      <th>Code Élément</th>\n",
       "      <th>Élément</th>\n",
       "      <th>Code source</th>\n",
       "      <th>Source</th>\n",
       "      <th>Unité</th>\n",
       "      <th>Y1961</th>\n",
       "      <th>...</th>\n",
       "      <th>Y2019N</th>\n",
       "      <th>Y2020</th>\n",
       "      <th>Y2020F</th>\n",
       "      <th>Y2020N</th>\n",
       "      <th>Y2030</th>\n",
       "      <th>Y2030F</th>\n",
       "      <th>Y2030N</th>\n",
       "      <th>Y2050</th>\n",
       "      <th>Y2050F</th>\n",
       "      <th>Y2050N</th>\n",
       "    </tr>\n",
       "  </thead>\n",
       "  <tbody>\n",
       "    <tr>\n",
       "      <th>47</th>\n",
       "      <td>2</td>\n",
       "      <td>Afghanistan</td>\n",
       "      <td>6750</td>\n",
       "      <td>Conversion nette de forêt</td>\n",
       "      <td>7273</td>\n",
       "      <td>Émissions (CO2)</td>\n",
       "      <td>3050</td>\n",
       "      <td>FAO TIER 1</td>\n",
       "      <td>kilotonnes</td>\n",
       "      <td>NaN</td>\n",
       "      <td>...</td>\n",
       "      <td>NaN</td>\n",
       "      <td>NaN</td>\n",
       "      <td>NaN</td>\n",
       "      <td>NaN</td>\n",
       "      <td>NaN</td>\n",
       "      <td>NaN</td>\n",
       "      <td>NaN</td>\n",
       "      <td>NaN</td>\n",
       "      <td>NaN</td>\n",
       "      <td>NaN</td>\n",
       "    </tr>\n",
       "    <tr>\n",
       "      <th>49</th>\n",
       "      <td>2</td>\n",
       "      <td>Afghanistan</td>\n",
       "      <td>6751</td>\n",
       "      <td>Terres forestières</td>\n",
       "      <td>7273</td>\n",
       "      <td>Émissions (CO2)</td>\n",
       "      <td>3050</td>\n",
       "      <td>FAO TIER 1</td>\n",
       "      <td>kilotonnes</td>\n",
       "      <td>NaN</td>\n",
       "      <td>...</td>\n",
       "      <td>NaN</td>\n",
       "      <td>NaN</td>\n",
       "      <td>NaN</td>\n",
       "      <td>NaN</td>\n",
       "      <td>NaN</td>\n",
       "      <td>NaN</td>\n",
       "      <td>NaN</td>\n",
       "      <td>NaN</td>\n",
       "      <td>NaN</td>\n",
       "      <td>NaN</td>\n",
       "    </tr>\n",
       "    <tr>\n",
       "      <th>67</th>\n",
       "      <td>2</td>\n",
       "      <td>Afghanistan</td>\n",
       "      <td>6993</td>\n",
       "      <td>Feux de tourbières</td>\n",
       "      <td>7273</td>\n",
       "      <td>Émissions (CO2)</td>\n",
       "      <td>3050</td>\n",
       "      <td>FAO TIER 1</td>\n",
       "      <td>kilotonnes</td>\n",
       "      <td>NaN</td>\n",
       "      <td>...</td>\n",
       "      <td>NaN</td>\n",
       "      <td>NaN</td>\n",
       "      <td>NaN</td>\n",
       "      <td>NaN</td>\n",
       "      <td>NaN</td>\n",
       "      <td>NaN</td>\n",
       "      <td>NaN</td>\n",
       "      <td>NaN</td>\n",
       "      <td>NaN</td>\n",
       "      <td>NaN</td>\n",
       "    </tr>\n",
       "    <tr>\n",
       "      <th>72</th>\n",
       "      <td>2</td>\n",
       "      <td>Afghanistan</td>\n",
       "      <td>6994</td>\n",
       "      <td>On-farm energy use</td>\n",
       "      <td>7273</td>\n",
       "      <td>Émissions (CO2)</td>\n",
       "      <td>3050</td>\n",
       "      <td>FAO TIER 1</td>\n",
       "      <td>kilotonnes</td>\n",
       "      <td>NaN</td>\n",
       "      <td>...</td>\n",
       "      <td>NaN</td>\n",
       "      <td>NaN</td>\n",
       "      <td>NaN</td>\n",
       "      <td>NaN</td>\n",
       "      <td>NaN</td>\n",
       "      <td>NaN</td>\n",
       "      <td>NaN</td>\n",
       "      <td>NaN</td>\n",
       "      <td>NaN</td>\n",
       "      <td>NaN</td>\n",
       "    </tr>\n",
       "    <tr>\n",
       "      <th>100</th>\n",
       "      <td>2</td>\n",
       "      <td>Afghanistan</td>\n",
       "      <td>1707</td>\n",
       "      <td>UTCATF</td>\n",
       "      <td>7273</td>\n",
       "      <td>Émissions (CO2)</td>\n",
       "      <td>3050</td>\n",
       "      <td>FAO TIER 1</td>\n",
       "      <td>kilotonnes</td>\n",
       "      <td>NaN</td>\n",
       "      <td>...</td>\n",
       "      <td>NaN</td>\n",
       "      <td>NaN</td>\n",
       "      <td>NaN</td>\n",
       "      <td>NaN</td>\n",
       "      <td>NaN</td>\n",
       "      <td>NaN</td>\n",
       "      <td>NaN</td>\n",
       "      <td>NaN</td>\n",
       "      <td>NaN</td>\n",
       "      <td>NaN</td>\n",
       "    </tr>\n",
       "    <tr>\n",
       "      <th>...</th>\n",
       "      <td>...</td>\n",
       "      <td>...</td>\n",
       "      <td>...</td>\n",
       "      <td>...</td>\n",
       "      <td>...</td>\n",
       "      <td>...</td>\n",
       "      <td>...</td>\n",
       "      <td>...</td>\n",
       "      <td>...</td>\n",
       "      <td>...</td>\n",
       "      <td>...</td>\n",
       "      <td>...</td>\n",
       "      <td>...</td>\n",
       "      <td>...</td>\n",
       "      <td>...</td>\n",
       "      <td>...</td>\n",
       "      <td>...</td>\n",
       "      <td>...</td>\n",
       "      <td>...</td>\n",
       "      <td>...</td>\n",
       "      <td>...</td>\n",
       "    </tr>\n",
       "    <tr>\n",
       "      <th>35722</th>\n",
       "      <td>5873</td>\n",
       "      <td>OECD</td>\n",
       "      <td>1707</td>\n",
       "      <td>UTCATF</td>\n",
       "      <td>7273</td>\n",
       "      <td>Émissions (CO2)</td>\n",
       "      <td>3050</td>\n",
       "      <td>FAO TIER 1</td>\n",
       "      <td>kilotonnes</td>\n",
       "      <td>NaN</td>\n",
       "      <td>...</td>\n",
       "      <td>NaN</td>\n",
       "      <td>NaN</td>\n",
       "      <td>NaN</td>\n",
       "      <td>NaN</td>\n",
       "      <td>NaN</td>\n",
       "      <td>NaN</td>\n",
       "      <td>NaN</td>\n",
       "      <td>NaN</td>\n",
       "      <td>NaN</td>\n",
       "      <td>NaN</td>\n",
       "    </tr>\n",
       "    <tr>\n",
       "      <th>35730</th>\n",
       "      <td>5873</td>\n",
       "      <td>OECD</td>\n",
       "      <td>6824</td>\n",
       "      <td>AFOLU</td>\n",
       "      <td>7273</td>\n",
       "      <td>Émissions (CO2)</td>\n",
       "      <td>3050</td>\n",
       "      <td>FAO TIER 1</td>\n",
       "      <td>kilotonnes</td>\n",
       "      <td>NaN</td>\n",
       "      <td>...</td>\n",
       "      <td>NaN</td>\n",
       "      <td>NaN</td>\n",
       "      <td>NaN</td>\n",
       "      <td>NaN</td>\n",
       "      <td>NaN</td>\n",
       "      <td>NaN</td>\n",
       "      <td>NaN</td>\n",
       "      <td>NaN</td>\n",
       "      <td>NaN</td>\n",
       "      <td>NaN</td>\n",
       "    </tr>\n",
       "    <tr>\n",
       "      <th>35738</th>\n",
       "      <td>5873</td>\n",
       "      <td>OECD</td>\n",
       "      <td>6995</td>\n",
       "      <td>Émissions sur les terres agricoles</td>\n",
       "      <td>7273</td>\n",
       "      <td>Émissions (CO2)</td>\n",
       "      <td>3050</td>\n",
       "      <td>FAO TIER 1</td>\n",
       "      <td>kilotonnes</td>\n",
       "      <td>NaN</td>\n",
       "      <td>...</td>\n",
       "      <td>NaN</td>\n",
       "      <td>NaN</td>\n",
       "      <td>NaN</td>\n",
       "      <td>NaN</td>\n",
       "      <td>NaN</td>\n",
       "      <td>NaN</td>\n",
       "      <td>NaN</td>\n",
       "      <td>NaN</td>\n",
       "      <td>NaN</td>\n",
       "      <td>NaN</td>\n",
       "    </tr>\n",
       "    <tr>\n",
       "      <th>35746</th>\n",
       "      <td>5873</td>\n",
       "      <td>OECD</td>\n",
       "      <td>6996</td>\n",
       "      <td>Farm-gate emissions</td>\n",
       "      <td>7273</td>\n",
       "      <td>Émissions (CO2)</td>\n",
       "      <td>3050</td>\n",
       "      <td>FAO TIER 1</td>\n",
       "      <td>kilotonnes</td>\n",
       "      <td>NaN</td>\n",
       "      <td>...</td>\n",
       "      <td>NaN</td>\n",
       "      <td>NaN</td>\n",
       "      <td>NaN</td>\n",
       "      <td>NaN</td>\n",
       "      <td>NaN</td>\n",
       "      <td>NaN</td>\n",
       "      <td>NaN</td>\n",
       "      <td>NaN</td>\n",
       "      <td>NaN</td>\n",
       "      <td>NaN</td>\n",
       "    </tr>\n",
       "    <tr>\n",
       "      <th>35752</th>\n",
       "      <td>5873</td>\n",
       "      <td>OECD</td>\n",
       "      <td>6516</td>\n",
       "      <td>Changement d'utilisation des terres</td>\n",
       "      <td>7273</td>\n",
       "      <td>Émissions (CO2)</td>\n",
       "      <td>3050</td>\n",
       "      <td>FAO TIER 1</td>\n",
       "      <td>kilotonnes</td>\n",
       "      <td>NaN</td>\n",
       "      <td>...</td>\n",
       "      <td>NaN</td>\n",
       "      <td>NaN</td>\n",
       "      <td>NaN</td>\n",
       "      <td>NaN</td>\n",
       "      <td>NaN</td>\n",
       "      <td>NaN</td>\n",
       "      <td>NaN</td>\n",
       "      <td>NaN</td>\n",
       "      <td>NaN</td>\n",
       "      <td>NaN</td>\n",
       "    </tr>\n",
       "  </tbody>\n",
       "</table>\n",
       "<p>2918 rows × 195 columns</p>\n",
       "</div>"
      ],
      "text/plain": [
       "       Code zone         Zone  Code Produit  \\\n",
       "47             2  Afghanistan          6750   \n",
       "49             2  Afghanistan          6751   \n",
       "67             2  Afghanistan          6993   \n",
       "72             2  Afghanistan          6994   \n",
       "100            2  Afghanistan          1707   \n",
       "...          ...          ...           ...   \n",
       "35722       5873         OECD          1707   \n",
       "35730       5873         OECD          6824   \n",
       "35738       5873         OECD          6995   \n",
       "35746       5873         OECD          6996   \n",
       "35752       5873         OECD          6516   \n",
       "\n",
       "                                   Produit  Code Élément          Élément  \\\n",
       "47               Conversion nette de forêt          7273  Émissions (CO2)   \n",
       "49                      Terres forestières          7273  Émissions (CO2)   \n",
       "67                      Feux de tourbières          7273  Émissions (CO2)   \n",
       "72                      On-farm energy use          7273  Émissions (CO2)   \n",
       "100                                 UTCATF          7273  Émissions (CO2)   \n",
       "...                                    ...           ...              ...   \n",
       "35722                               UTCATF          7273  Émissions (CO2)   \n",
       "35730                                AFOLU          7273  Émissions (CO2)   \n",
       "35738   Émissions sur les terres agricoles          7273  Émissions (CO2)   \n",
       "35746                  Farm-gate emissions          7273  Émissions (CO2)   \n",
       "35752  Changement d'utilisation des terres          7273  Émissions (CO2)   \n",
       "\n",
       "       Code source      Source       Unité  Y1961  ... Y2019N  Y2020  Y2020F  \\\n",
       "47            3050  FAO TIER 1  kilotonnes    NaN  ...    NaN    NaN     NaN   \n",
       "49            3050  FAO TIER 1  kilotonnes    NaN  ...    NaN    NaN     NaN   \n",
       "67            3050  FAO TIER 1  kilotonnes    NaN  ...    NaN    NaN     NaN   \n",
       "72            3050  FAO TIER 1  kilotonnes    NaN  ...    NaN    NaN     NaN   \n",
       "100           3050  FAO TIER 1  kilotonnes    NaN  ...    NaN    NaN     NaN   \n",
       "...            ...         ...         ...    ...  ...    ...    ...     ...   \n",
       "35722         3050  FAO TIER 1  kilotonnes    NaN  ...    NaN    NaN     NaN   \n",
       "35730         3050  FAO TIER 1  kilotonnes    NaN  ...    NaN    NaN     NaN   \n",
       "35738         3050  FAO TIER 1  kilotonnes    NaN  ...    NaN    NaN     NaN   \n",
       "35746         3050  FAO TIER 1  kilotonnes    NaN  ...    NaN    NaN     NaN   \n",
       "35752         3050  FAO TIER 1  kilotonnes    NaN  ...    NaN    NaN     NaN   \n",
       "\n",
       "      Y2020N  Y2030  Y2030F Y2030N  Y2050  Y2050F Y2050N  \n",
       "47       NaN    NaN     NaN    NaN    NaN     NaN    NaN  \n",
       "49       NaN    NaN     NaN    NaN    NaN     NaN    NaN  \n",
       "67       NaN    NaN     NaN    NaN    NaN     NaN    NaN  \n",
       "72       NaN    NaN     NaN    NaN    NaN     NaN    NaN  \n",
       "100      NaN    NaN     NaN    NaN    NaN     NaN    NaN  \n",
       "...      ...    ...     ...    ...    ...     ...    ...  \n",
       "35722    NaN    NaN     NaN    NaN    NaN     NaN    NaN  \n",
       "35730    NaN    NaN     NaN    NaN    NaN     NaN    NaN  \n",
       "35738    NaN    NaN     NaN    NaN    NaN     NaN    NaN  \n",
       "35746    NaN    NaN     NaN    NaN    NaN     NaN    NaN  \n",
       "35752    NaN    NaN     NaN    NaN    NaN     NaN    NaN  \n",
       "\n",
       "[2918 rows x 195 columns]"
      ]
     },
     "execution_count": 14,
     "metadata": {},
     "output_type": "execute_result"
    }
   ],
   "source": [
    "co2_df = emissions_df.drop(emissions_df[emissions_df['Code Élément'] != 7273].index)\n",
    "co2_df"
   ]
  },
  {
   "cell_type": "markdown",
   "id": "85c4ce13",
   "metadata": {},
   "source": [
    "## 3. Loading the *Population Stats* dataset"
   ]
  },
  {
   "cell_type": "code",
   "execution_count": 15,
   "id": "21c5019f",
   "metadata": {},
   "outputs": [
    {
     "data": {
      "text/html": [
       "<div>\n",
       "<style scoped>\n",
       "    .dataframe tbody tr th:only-of-type {\n",
       "        vertical-align: middle;\n",
       "    }\n",
       "\n",
       "    .dataframe tbody tr th {\n",
       "        vertical-align: top;\n",
       "    }\n",
       "\n",
       "    .dataframe thead th {\n",
       "        text-align: right;\n",
       "    }\n",
       "</style>\n",
       "<table border=\"1\" class=\"dataframe\">\n",
       "  <thead>\n",
       "    <tr style=\"text-align: right;\">\n",
       "      <th></th>\n",
       "      <th>LocID</th>\n",
       "      <th>Location</th>\n",
       "      <th>VarID</th>\n",
       "      <th>Variant</th>\n",
       "      <th>Time</th>\n",
       "      <th>MidPeriod</th>\n",
       "      <th>PopMale</th>\n",
       "      <th>PopFemale</th>\n",
       "      <th>PopTotal</th>\n",
       "      <th>PopDensity</th>\n",
       "    </tr>\n",
       "  </thead>\n",
       "  <tbody>\n",
       "    <tr>\n",
       "      <th>0</th>\n",
       "      <td>4</td>\n",
       "      <td>Afghanistan</td>\n",
       "      <td>2</td>\n",
       "      <td>Medium</td>\n",
       "      <td>1950</td>\n",
       "      <td>1950.5</td>\n",
       "      <td>4099.243</td>\n",
       "      <td>3652.874</td>\n",
       "      <td>7752.117</td>\n",
       "      <td>11.874</td>\n",
       "    </tr>\n",
       "    <tr>\n",
       "      <th>1</th>\n",
       "      <td>4</td>\n",
       "      <td>Afghanistan</td>\n",
       "      <td>2</td>\n",
       "      <td>Medium</td>\n",
       "      <td>1951</td>\n",
       "      <td>1951.5</td>\n",
       "      <td>4134.756</td>\n",
       "      <td>3705.395</td>\n",
       "      <td>7840.151</td>\n",
       "      <td>12.009</td>\n",
       "    </tr>\n",
       "    <tr>\n",
       "      <th>2</th>\n",
       "      <td>4</td>\n",
       "      <td>Afghanistan</td>\n",
       "      <td>2</td>\n",
       "      <td>Medium</td>\n",
       "      <td>1952</td>\n",
       "      <td>1952.5</td>\n",
       "      <td>4174.450</td>\n",
       "      <td>3761.546</td>\n",
       "      <td>7935.996</td>\n",
       "      <td>12.156</td>\n",
       "    </tr>\n",
       "    <tr>\n",
       "      <th>3</th>\n",
       "      <td>4</td>\n",
       "      <td>Afghanistan</td>\n",
       "      <td>2</td>\n",
       "      <td>Medium</td>\n",
       "      <td>1953</td>\n",
       "      <td>1953.5</td>\n",
       "      <td>4218.336</td>\n",
       "      <td>3821.348</td>\n",
       "      <td>8039.684</td>\n",
       "      <td>12.315</td>\n",
       "    </tr>\n",
       "    <tr>\n",
       "      <th>4</th>\n",
       "      <td>4</td>\n",
       "      <td>Afghanistan</td>\n",
       "      <td>2</td>\n",
       "      <td>Medium</td>\n",
       "      <td>1954</td>\n",
       "      <td>1954.5</td>\n",
       "      <td>4266.484</td>\n",
       "      <td>3884.832</td>\n",
       "      <td>8151.316</td>\n",
       "      <td>12.486</td>\n",
       "    </tr>\n",
       "    <tr>\n",
       "      <th>...</th>\n",
       "      <td>...</td>\n",
       "      <td>...</td>\n",
       "      <td>...</td>\n",
       "      <td>...</td>\n",
       "      <td>...</td>\n",
       "      <td>...</td>\n",
       "      <td>...</td>\n",
       "      <td>...</td>\n",
       "      <td>...</td>\n",
       "      <td>...</td>\n",
       "    </tr>\n",
       "    <tr>\n",
       "      <th>280927</th>\n",
       "      <td>716</td>\n",
       "      <td>Zimbabwe</td>\n",
       "      <td>207</td>\n",
       "      <td>Lower 95 PI</td>\n",
       "      <td>2080</td>\n",
       "      <td>2080.5</td>\n",
       "      <td>10576.533</td>\n",
       "      <td>11255.983</td>\n",
       "      <td>21836.893</td>\n",
       "      <td>56.448</td>\n",
       "    </tr>\n",
       "    <tr>\n",
       "      <th>280928</th>\n",
       "      <td>716</td>\n",
       "      <td>Zimbabwe</td>\n",
       "      <td>207</td>\n",
       "      <td>Lower 95 PI</td>\n",
       "      <td>2085</td>\n",
       "      <td>2085.5</td>\n",
       "      <td>10293.349</td>\n",
       "      <td>11050.875</td>\n",
       "      <td>21355.988</td>\n",
       "      <td>55.205</td>\n",
       "    </tr>\n",
       "    <tr>\n",
       "      <th>280929</th>\n",
       "      <td>716</td>\n",
       "      <td>Zimbabwe</td>\n",
       "      <td>207</td>\n",
       "      <td>Lower 95 PI</td>\n",
       "      <td>2090</td>\n",
       "      <td>2090.5</td>\n",
       "      <td>9920.336</td>\n",
       "      <td>10767.709</td>\n",
       "      <td>20689.956</td>\n",
       "      <td>53.483</td>\n",
       "    </tr>\n",
       "    <tr>\n",
       "      <th>280930</th>\n",
       "      <td>716</td>\n",
       "      <td>Zimbabwe</td>\n",
       "      <td>207</td>\n",
       "      <td>Lower 95 PI</td>\n",
       "      <td>2095</td>\n",
       "      <td>2095.5</td>\n",
       "      <td>9503.711</td>\n",
       "      <td>10412.184</td>\n",
       "      <td>19892.080</td>\n",
       "      <td>51.421</td>\n",
       "    </tr>\n",
       "    <tr>\n",
       "      <th>280931</th>\n",
       "      <td>716</td>\n",
       "      <td>Zimbabwe</td>\n",
       "      <td>207</td>\n",
       "      <td>Lower 95 PI</td>\n",
       "      <td>2100</td>\n",
       "      <td>2100.5</td>\n",
       "      <td>9090.075</td>\n",
       "      <td>9996.105</td>\n",
       "      <td>19061.177</td>\n",
       "      <td>49.273</td>\n",
       "    </tr>\n",
       "  </tbody>\n",
       "</table>\n",
       "<p>280932 rows × 10 columns</p>\n",
       "</div>"
      ],
      "text/plain": [
       "        LocID     Location  VarID      Variant  Time  MidPeriod    PopMale  \\\n",
       "0           4  Afghanistan      2       Medium  1950     1950.5   4099.243   \n",
       "1           4  Afghanistan      2       Medium  1951     1951.5   4134.756   \n",
       "2           4  Afghanistan      2       Medium  1952     1952.5   4174.450   \n",
       "3           4  Afghanistan      2       Medium  1953     1953.5   4218.336   \n",
       "4           4  Afghanistan      2       Medium  1954     1954.5   4266.484   \n",
       "...       ...          ...    ...          ...   ...        ...        ...   \n",
       "280927    716     Zimbabwe    207  Lower 95 PI  2080     2080.5  10576.533   \n",
       "280928    716     Zimbabwe    207  Lower 95 PI  2085     2085.5  10293.349   \n",
       "280929    716     Zimbabwe    207  Lower 95 PI  2090     2090.5   9920.336   \n",
       "280930    716     Zimbabwe    207  Lower 95 PI  2095     2095.5   9503.711   \n",
       "280931    716     Zimbabwe    207  Lower 95 PI  2100     2100.5   9090.075   \n",
       "\n",
       "        PopFemale   PopTotal  PopDensity  \n",
       "0        3652.874   7752.117      11.874  \n",
       "1        3705.395   7840.151      12.009  \n",
       "2        3761.546   7935.996      12.156  \n",
       "3        3821.348   8039.684      12.315  \n",
       "4        3884.832   8151.316      12.486  \n",
       "...           ...        ...         ...  \n",
       "280927  11255.983  21836.893      56.448  \n",
       "280928  11050.875  21355.988      55.205  \n",
       "280929  10767.709  20689.956      53.483  \n",
       "280930  10412.184  19892.080      51.421  \n",
       "280931   9996.105  19061.177      49.273  \n",
       "\n",
       "[280932 rows x 10 columns]"
      ]
     },
     "execution_count": 15,
     "metadata": {},
     "output_type": "execute_result"
    }
   ],
   "source": [
    "#Loading the population_stats dataset\n",
    "pop_df_raw = pd.read_csv('https://raw.githubusercontent.com/nicoboou/ml_eml/main/data/pop_data_onu.csv',thousands=' ')\n",
    "pop_df_raw"
   ]
  },
  {
   "cell_type": "markdown",
   "id": "a7c44d65",
   "metadata": {},
   "source": [
    "# Exploratory Data Analysis"
   ]
  },
  {
   "cell_type": "markdown",
   "id": "cc219837",
   "metadata": {},
   "source": [
    "Before trying to preprocess the data in order to make use of it for our machine learning tasks, let's explore what we have & try to figure out some primary findings."
   ]
  },
  {
   "cell_type": "markdown",
   "id": "2f662199",
   "metadata": {},
   "source": [
    "## 1. Exploring the Agricultural Crop data"
   ]
  },
  {
   "cell_type": "code",
   "execution_count": 54,
   "id": "5c1b18cf",
   "metadata": {},
   "outputs": [
    {
     "data": {
      "text/html": [
       "<div>\n",
       "<style scoped>\n",
       "    .dataframe tbody tr th:only-of-type {\n",
       "        vertical-align: middle;\n",
       "    }\n",
       "\n",
       "    .dataframe tbody tr th {\n",
       "        vertical-align: top;\n",
       "    }\n",
       "\n",
       "    .dataframe thead th {\n",
       "        text-align: right;\n",
       "    }\n",
       "</style>\n",
       "<table border=\"1\" class=\"dataframe\">\n",
       "  <thead>\n",
       "    <tr style=\"text-align: right;\">\n",
       "      <th></th>\n",
       "      <th>Continent</th>\n",
       "      <th>Area Code</th>\n",
       "      <th>Area</th>\n",
       "      <th>Item Code</th>\n",
       "      <th>Item</th>\n",
       "      <th>Element Code</th>\n",
       "      <th>Element</th>\n",
       "      <th>Unit</th>\n",
       "      <th>Y1961</th>\n",
       "      <th>Y1962</th>\n",
       "      <th>Y1963</th>\n",
       "      <th>Y1964</th>\n",
       "      <th>Y1965</th>\n",
       "      <th>Y1966</th>\n",
       "      <th>Y1967</th>\n",
       "      <th>Y1968</th>\n",
       "      <th>Y1969</th>\n",
       "      <th>Y1970</th>\n",
       "      <th>Y1971</th>\n",
       "      <th>Y1972</th>\n",
       "      <th>Y1973</th>\n",
       "      <th>Y1974</th>\n",
       "      <th>Y1975</th>\n",
       "      <th>Y1976</th>\n",
       "      <th>Y1977</th>\n",
       "      <th>Y1978</th>\n",
       "      <th>Y1979</th>\n",
       "      <th>Y1980</th>\n",
       "      <th>Y1981</th>\n",
       "      <th>Y1982</th>\n",
       "      <th>Y1983</th>\n",
       "      <th>Y1984</th>\n",
       "      <th>Y1985</th>\n",
       "      <th>Y1986</th>\n",
       "      <th>Y1987</th>\n",
       "      <th>Y1988</th>\n",
       "      <th>Y1989</th>\n",
       "      <th>Y1990</th>\n",
       "      <th>Y1991</th>\n",
       "      <th>Y1992</th>\n",
       "      <th>Y1993</th>\n",
       "      <th>Y1994</th>\n",
       "      <th>Y1995</th>\n",
       "      <th>Y1996</th>\n",
       "      <th>Y1997</th>\n",
       "      <th>Y1998</th>\n",
       "      <th>Y1999</th>\n",
       "      <th>Y2000</th>\n",
       "      <th>Y2001</th>\n",
       "      <th>Y2002</th>\n",
       "      <th>Y2003</th>\n",
       "      <th>Y2004</th>\n",
       "      <th>Y2005</th>\n",
       "      <th>Y2006</th>\n",
       "      <th>Y2007</th>\n",
       "      <th>Y2008</th>\n",
       "      <th>Y2009</th>\n",
       "      <th>Y2010</th>\n",
       "      <th>Y2011</th>\n",
       "      <th>Y2012</th>\n",
       "      <th>Y2013</th>\n",
       "      <th>Y2014</th>\n",
       "      <th>Y2015</th>\n",
       "      <th>Y2016</th>\n",
       "      <th>Y2017</th>\n",
       "      <th>Y2018</th>\n",
       "      <th>Y2019</th>\n",
       "    </tr>\n",
       "  </thead>\n",
       "  <tbody>\n",
       "    <tr>\n",
       "      <th>0</th>\n",
       "      <td>Africa</td>\n",
       "      <td>4</td>\n",
       "      <td>Algeria</td>\n",
       "      <td>221</td>\n",
       "      <td>Almonds, with shell</td>\n",
       "      <td>5312</td>\n",
       "      <td>Area harvested</td>\n",
       "      <td>ha</td>\n",
       "      <td>13300.0</td>\n",
       "      <td>13300.0</td>\n",
       "      <td>13300.0</td>\n",
       "      <td>14200.0</td>\n",
       "      <td>13800.0</td>\n",
       "      <td>12700.0</td>\n",
       "      <td>12900.0</td>\n",
       "      <td>10000.0</td>\n",
       "      <td>5500.0</td>\n",
       "      <td>6700.0</td>\n",
       "      <td>4600.0</td>\n",
       "      <td>8300.0</td>\n",
       "      <td>9200.0</td>\n",
       "      <td>10150.0</td>\n",
       "      <td>11000.0</td>\n",
       "      <td>18250.0</td>\n",
       "      <td>10400.0</td>\n",
       "      <td>7100.0</td>\n",
       "      <td>8100.0</td>\n",
       "      <td>8700.0</td>\n",
       "      <td>15960.0</td>\n",
       "      <td>15450.0</td>\n",
       "      <td>18030.0</td>\n",
       "      <td>16490.0</td>\n",
       "      <td>21100.0</td>\n",
       "      <td>20860.0</td>\n",
       "      <td>21000.0</td>\n",
       "      <td>21370.0</td>\n",
       "      <td>23610.0</td>\n",
       "      <td>25010.0</td>\n",
       "      <td>24240.0</td>\n",
       "      <td>24970.0</td>\n",
       "      <td>25880.0</td>\n",
       "      <td>26130.0</td>\n",
       "      <td>24860.0</td>\n",
       "      <td>25190.0</td>\n",
       "      <td>27440.0</td>\n",
       "      <td>26490.0</td>\n",
       "      <td>26820.0</td>\n",
       "      <td>27150.0</td>\n",
       "      <td>26980.0</td>\n",
       "      <td>27720.0</td>\n",
       "      <td>30630.0</td>\n",
       "      <td>30453.0</td>\n",
       "      <td>35099.0</td>\n",
       "      <td>39098.0</td>\n",
       "      <td>40890.0</td>\n",
       "      <td>39787.0</td>\n",
       "      <td>39313.0</td>\n",
       "      <td>54485.0</td>\n",
       "      <td>52245.0</td>\n",
       "      <td>49975.0</td>\n",
       "      <td>49011.0</td>\n",
       "      <td>39050.0</td>\n",
       "      <td>40403.0</td>\n",
       "      <td>49983.0</td>\n",
       "      <td>50100.0</td>\n",
       "      <td>43043.0</td>\n",
       "      <td>35380.0</td>\n",
       "    </tr>\n",
       "    <tr>\n",
       "      <th>1</th>\n",
       "      <td>Africa</td>\n",
       "      <td>4</td>\n",
       "      <td>Algeria</td>\n",
       "      <td>221</td>\n",
       "      <td>Almonds, with shell</td>\n",
       "      <td>5419</td>\n",
       "      <td>Yield</td>\n",
       "      <td>hg/ha</td>\n",
       "      <td>4511.0</td>\n",
       "      <td>4511.0</td>\n",
       "      <td>4511.0</td>\n",
       "      <td>4507.0</td>\n",
       "      <td>4493.0</td>\n",
       "      <td>4488.0</td>\n",
       "      <td>4510.0</td>\n",
       "      <td>4497.0</td>\n",
       "      <td>4484.0</td>\n",
       "      <td>4478.0</td>\n",
       "      <td>4500.0</td>\n",
       "      <td>4514.0</td>\n",
       "      <td>4502.0</td>\n",
       "      <td>4500.0</td>\n",
       "      <td>4542.0</td>\n",
       "      <td>4498.0</td>\n",
       "      <td>4487.0</td>\n",
       "      <td>4496.0</td>\n",
       "      <td>4483.0</td>\n",
       "      <td>4483.0</td>\n",
       "      <td>4969.0</td>\n",
       "      <td>4296.0</td>\n",
       "      <td>3934.0</td>\n",
       "      <td>4534.0</td>\n",
       "      <td>4716.0</td>\n",
       "      <td>3864.0</td>\n",
       "      <td>3930.0</td>\n",
       "      <td>4528.0</td>\n",
       "      <td>5268.0</td>\n",
       "      <td>4691.0</td>\n",
       "      <td>6505.0</td>\n",
       "      <td>7169.0</td>\n",
       "      <td>9538.0</td>\n",
       "      <td>7312.0</td>\n",
       "      <td>7992.0</td>\n",
       "      <td>13323.0</td>\n",
       "      <td>7069.0</td>\n",
       "      <td>8169.0</td>\n",
       "      <td>9546.0</td>\n",
       "      <td>9754.0</td>\n",
       "      <td>9340.0</td>\n",
       "      <td>11648.0</td>\n",
       "      <td>10524.0</td>\n",
       "      <td>12473.0</td>\n",
       "      <td>12929.0</td>\n",
       "      <td>13728.0</td>\n",
       "      <td>8342.0</td>\n",
       "      <td>9933.0</td>\n",
       "      <td>12055.0</td>\n",
       "      <td>10457.0</td>\n",
       "      <td>9689.0</td>\n",
       "      <td>13304.0</td>\n",
       "      <td>12965.0</td>\n",
       "      <td>16601.0</td>\n",
       "      <td>18930.0</td>\n",
       "      <td>13223.0</td>\n",
       "      <td>12362.0</td>\n",
       "      <td>13292.0</td>\n",
       "      <td>20467.0</td>\n",
       "    </tr>\n",
       "    <tr>\n",
       "      <th>2</th>\n",
       "      <td>Africa</td>\n",
       "      <td>4</td>\n",
       "      <td>Algeria</td>\n",
       "      <td>221</td>\n",
       "      <td>Almonds, with shell</td>\n",
       "      <td>5510</td>\n",
       "      <td>Production</td>\n",
       "      <td>tonnes</td>\n",
       "      <td>6000.0</td>\n",
       "      <td>6000.0</td>\n",
       "      <td>6000.0</td>\n",
       "      <td>6400.0</td>\n",
       "      <td>6200.0</td>\n",
       "      <td>5700.0</td>\n",
       "      <td>5818.0</td>\n",
       "      <td>4497.0</td>\n",
       "      <td>2466.0</td>\n",
       "      <td>3000.0</td>\n",
       "      <td>2070.0</td>\n",
       "      <td>3747.0</td>\n",
       "      <td>4142.0</td>\n",
       "      <td>4567.0</td>\n",
       "      <td>4996.0</td>\n",
       "      <td>8208.0</td>\n",
       "      <td>4666.0</td>\n",
       "      <td>3192.0</td>\n",
       "      <td>3631.0</td>\n",
       "      <td>3900.0</td>\n",
       "      <td>7930.0</td>\n",
       "      <td>6637.0</td>\n",
       "      <td>7093.0</td>\n",
       "      <td>7476.0</td>\n",
       "      <td>9951.0</td>\n",
       "      <td>8060.0</td>\n",
       "      <td>8253.0</td>\n",
       "      <td>9676.0</td>\n",
       "      <td>12438.0</td>\n",
       "      <td>11733.0</td>\n",
       "      <td>15768.0</td>\n",
       "      <td>17901.0</td>\n",
       "      <td>24685.0</td>\n",
       "      <td>19106.0</td>\n",
       "      <td>19869.0</td>\n",
       "      <td>33561.0</td>\n",
       "      <td>19396.0</td>\n",
       "      <td>21641.0</td>\n",
       "      <td>25602.0</td>\n",
       "      <td>26483.0</td>\n",
       "      <td>25199.0</td>\n",
       "      <td>32287.0</td>\n",
       "      <td>32234.0</td>\n",
       "      <td>37985.0</td>\n",
       "      <td>45379.0</td>\n",
       "      <td>53673.0</td>\n",
       "      <td>34110.0</td>\n",
       "      <td>39521.0</td>\n",
       "      <td>47393.0</td>\n",
       "      <td>56973.0</td>\n",
       "      <td>50621.0</td>\n",
       "      <td>66487.0</td>\n",
       "      <td>63545.0</td>\n",
       "      <td>64827.0</td>\n",
       "      <td>76482.0</td>\n",
       "      <td>66095.0</td>\n",
       "      <td>61934.0</td>\n",
       "      <td>57213.0</td>\n",
       "      <td>72412.0</td>\n",
       "    </tr>\n",
       "    <tr>\n",
       "      <th>3</th>\n",
       "      <td>Africa</td>\n",
       "      <td>4</td>\n",
       "      <td>Algeria</td>\n",
       "      <td>515</td>\n",
       "      <td>Apples</td>\n",
       "      <td>5312</td>\n",
       "      <td>Area harvested</td>\n",
       "      <td>ha</td>\n",
       "      <td>3400.0</td>\n",
       "      <td>3100.0</td>\n",
       "      <td>2800.0</td>\n",
       "      <td>2700.0</td>\n",
       "      <td>2900.0</td>\n",
       "      <td>2500.0</td>\n",
       "      <td>2500.0</td>\n",
       "      <td>2300.0</td>\n",
       "      <td>2600.0</td>\n",
       "      <td>2800.0</td>\n",
       "      <td>3000.0</td>\n",
       "      <td>2500.0</td>\n",
       "      <td>2200.0</td>\n",
       "      <td>3200.0</td>\n",
       "      <td>4300.0</td>\n",
       "      <td>3200.0</td>\n",
       "      <td>3800.0</td>\n",
       "      <td>3200.0</td>\n",
       "      <td>3000.0</td>\n",
       "      <td>4300.0</td>\n",
       "      <td>4600.0</td>\n",
       "      <td>4900.0</td>\n",
       "      <td>4800.0</td>\n",
       "      <td>7800.0</td>\n",
       "      <td>8000.0</td>\n",
       "      <td>8000.0</td>\n",
       "      <td>8700.0</td>\n",
       "      <td>8000.0</td>\n",
       "      <td>10200.0</td>\n",
       "      <td>10740.0</td>\n",
       "      <td>10960.0</td>\n",
       "      <td>11140.0</td>\n",
       "      <td>12020.0</td>\n",
       "      <td>11800.0</td>\n",
       "      <td>11930.0</td>\n",
       "      <td>12190.0</td>\n",
       "      <td>12260.0</td>\n",
       "      <td>12870.0</td>\n",
       "      <td>13020.0</td>\n",
       "      <td>13480.0</td>\n",
       "      <td>14040.0</td>\n",
       "      <td>15240.0</td>\n",
       "      <td>18080.0</td>\n",
       "      <td>19861.0</td>\n",
       "      <td>24279.0</td>\n",
       "      <td>28658.0</td>\n",
       "      <td>31904.0</td>\n",
       "      <td>33206.0</td>\n",
       "      <td>36616.0</td>\n",
       "      <td>52419.0</td>\n",
       "      <td>51080.0</td>\n",
       "      <td>48828.0</td>\n",
       "      <td>48064.0</td>\n",
       "      <td>40418.0</td>\n",
       "      <td>41011.0</td>\n",
       "      <td>46070.0</td>\n",
       "      <td>44620.0</td>\n",
       "      <td>39034.0</td>\n",
       "      <td>32989.0</td>\n",
       "    </tr>\n",
       "    <tr>\n",
       "      <th>4</th>\n",
       "      <td>Africa</td>\n",
       "      <td>4</td>\n",
       "      <td>Algeria</td>\n",
       "      <td>515</td>\n",
       "      <td>Apples</td>\n",
       "      <td>5419</td>\n",
       "      <td>Yield</td>\n",
       "      <td>hg/ha</td>\n",
       "      <td>45294.0</td>\n",
       "      <td>45161.0</td>\n",
       "      <td>46429.0</td>\n",
       "      <td>46078.0</td>\n",
       "      <td>45348.0</td>\n",
       "      <td>44832.0</td>\n",
       "      <td>45456.0</td>\n",
       "      <td>45609.0</td>\n",
       "      <td>45681.0</td>\n",
       "      <td>46071.0</td>\n",
       "      <td>45020.0</td>\n",
       "      <td>45920.0</td>\n",
       "      <td>45736.0</td>\n",
       "      <td>45525.0</td>\n",
       "      <td>50174.0</td>\n",
       "      <td>45700.0</td>\n",
       "      <td>50471.0</td>\n",
       "      <td>48678.0</td>\n",
       "      <td>45520.0</td>\n",
       "      <td>50740.0</td>\n",
       "      <td>50839.0</td>\n",
       "      <td>49951.0</td>\n",
       "      <td>49825.0</td>\n",
       "      <td>49810.0</td>\n",
       "      <td>53000.0</td>\n",
       "      <td>50874.0</td>\n",
       "      <td>50216.0</td>\n",
       "      <td>49975.0</td>\n",
       "      <td>50387.0</td>\n",
       "      <td>36258.0</td>\n",
       "      <td>43638.0</td>\n",
       "      <td>55641.0</td>\n",
       "      <td>52753.0</td>\n",
       "      <td>41777.0</td>\n",
       "      <td>53764.0</td>\n",
       "      <td>60598.0</td>\n",
       "      <td>53446.0</td>\n",
       "      <td>58574.0</td>\n",
       "      <td>67065.0</td>\n",
       "      <td>71600.0</td>\n",
       "      <td>74715.0</td>\n",
       "      <td>79421.0</td>\n",
       "      <td>74968.0</td>\n",
       "      <td>83265.0</td>\n",
       "      <td>82257.0</td>\n",
       "      <td>98835.0</td>\n",
       "      <td>59557.0</td>\n",
       "      <td>78590.0</td>\n",
       "      <td>73047.0</td>\n",
       "      <td>72233.0</td>\n",
       "      <td>79112.0</td>\n",
       "      <td>81414.0</td>\n",
       "      <td>94860.0</td>\n",
       "      <td>114507.0</td>\n",
       "      <td>110086.0</td>\n",
       "      <td>108716.0</td>\n",
       "      <td>110766.0</td>\n",
       "      <td>124970.0</td>\n",
       "      <td>169399.0</td>\n",
       "    </tr>\n",
       "  </tbody>\n",
       "</table>\n",
       "</div>"
      ],
      "text/plain": [
       "  Continent  Area Code     Area  Item Code                 Item  Element Code  \\\n",
       "0    Africa          4  Algeria        221  Almonds, with shell          5312   \n",
       "1    Africa          4  Algeria        221  Almonds, with shell          5419   \n",
       "2    Africa          4  Algeria        221  Almonds, with shell          5510   \n",
       "3    Africa          4  Algeria        515               Apples          5312   \n",
       "4    Africa          4  Algeria        515               Apples          5419   \n",
       "\n",
       "          Element    Unit    Y1961    Y1962    Y1963    Y1964    Y1965  \\\n",
       "0  Area harvested      ha  13300.0  13300.0  13300.0  14200.0  13800.0   \n",
       "1           Yield   hg/ha   4511.0   4511.0   4511.0   4507.0   4493.0   \n",
       "2      Production  tonnes   6000.0   6000.0   6000.0   6400.0   6200.0   \n",
       "3  Area harvested      ha   3400.0   3100.0   2800.0   2700.0   2900.0   \n",
       "4           Yield   hg/ha  45294.0  45161.0  46429.0  46078.0  45348.0   \n",
       "\n",
       "     Y1966    Y1967    Y1968    Y1969    Y1970    Y1971    Y1972    Y1973  \\\n",
       "0  12700.0  12900.0  10000.0   5500.0   6700.0   4600.0   8300.0   9200.0   \n",
       "1   4488.0   4510.0   4497.0   4484.0   4478.0   4500.0   4514.0   4502.0   \n",
       "2   5700.0   5818.0   4497.0   2466.0   3000.0   2070.0   3747.0   4142.0   \n",
       "3   2500.0   2500.0   2300.0   2600.0   2800.0   3000.0   2500.0   2200.0   \n",
       "4  44832.0  45456.0  45609.0  45681.0  46071.0  45020.0  45920.0  45736.0   \n",
       "\n",
       "     Y1974    Y1975    Y1976    Y1977    Y1978    Y1979    Y1980    Y1981  \\\n",
       "0  10150.0  11000.0  18250.0  10400.0   7100.0   8100.0   8700.0  15960.0   \n",
       "1   4500.0   4542.0   4498.0   4487.0   4496.0   4483.0   4483.0   4969.0   \n",
       "2   4567.0   4996.0   8208.0   4666.0   3192.0   3631.0   3900.0   7930.0   \n",
       "3   3200.0   4300.0   3200.0   3800.0   3200.0   3000.0   4300.0   4600.0   \n",
       "4  45525.0  50174.0  45700.0  50471.0  48678.0  45520.0  50740.0  50839.0   \n",
       "\n",
       "     Y1982    Y1983    Y1984    Y1985    Y1986    Y1987    Y1988    Y1989  \\\n",
       "0  15450.0  18030.0  16490.0  21100.0  20860.0  21000.0  21370.0  23610.0   \n",
       "1   4296.0   3934.0   4534.0   4716.0   3864.0   3930.0   4528.0   5268.0   \n",
       "2   6637.0   7093.0   7476.0   9951.0   8060.0   8253.0   9676.0  12438.0   \n",
       "3   4900.0   4800.0   7800.0   8000.0   8000.0   8700.0   8000.0  10200.0   \n",
       "4  49951.0  49825.0  49810.0  53000.0  50874.0  50216.0  49975.0  50387.0   \n",
       "\n",
       "     Y1990    Y1991    Y1992    Y1993    Y1994    Y1995    Y1996    Y1997  \\\n",
       "0  25010.0  24240.0  24970.0  25880.0  26130.0  24860.0  25190.0  27440.0   \n",
       "1   4691.0   6505.0   7169.0   9538.0   7312.0   7992.0  13323.0   7069.0   \n",
       "2  11733.0  15768.0  17901.0  24685.0  19106.0  19869.0  33561.0  19396.0   \n",
       "3  10740.0  10960.0  11140.0  12020.0  11800.0  11930.0  12190.0  12260.0   \n",
       "4  36258.0  43638.0  55641.0  52753.0  41777.0  53764.0  60598.0  53446.0   \n",
       "\n",
       "     Y1998    Y1999    Y2000    Y2001    Y2002    Y2003    Y2004    Y2005  \\\n",
       "0  26490.0  26820.0  27150.0  26980.0  27720.0  30630.0  30453.0  35099.0   \n",
       "1   8169.0   9546.0   9754.0   9340.0  11648.0  10524.0  12473.0  12929.0   \n",
       "2  21641.0  25602.0  26483.0  25199.0  32287.0  32234.0  37985.0  45379.0   \n",
       "3  12870.0  13020.0  13480.0  14040.0  15240.0  18080.0  19861.0  24279.0   \n",
       "4  58574.0  67065.0  71600.0  74715.0  79421.0  74968.0  83265.0  82257.0   \n",
       "\n",
       "     Y2006    Y2007    Y2008    Y2009    Y2010    Y2011    Y2012    Y2013  \\\n",
       "0  39098.0  40890.0  39787.0  39313.0  54485.0  52245.0  49975.0  49011.0   \n",
       "1  13728.0   8342.0   9933.0  12055.0  10457.0   9689.0  13304.0  12965.0   \n",
       "2  53673.0  34110.0  39521.0  47393.0  56973.0  50621.0  66487.0  63545.0   \n",
       "3  28658.0  31904.0  33206.0  36616.0  52419.0  51080.0  48828.0  48064.0   \n",
       "4  98835.0  59557.0  78590.0  73047.0  72233.0  79112.0  81414.0  94860.0   \n",
       "\n",
       "      Y2014     Y2015     Y2016     Y2017     Y2018     Y2019  \n",
       "0   39050.0   40403.0   49983.0   50100.0   43043.0   35380.0  \n",
       "1   16601.0   18930.0   13223.0   12362.0   13292.0   20467.0  \n",
       "2   64827.0   76482.0   66095.0   61934.0   57213.0   72412.0  \n",
       "3   40418.0   41011.0   46070.0   44620.0   39034.0   32989.0  \n",
       "4  114507.0  110086.0  108716.0  110766.0  124970.0  169399.0  "
      ]
     },
     "execution_count": 54,
     "metadata": {},
     "output_type": "execute_result"
    }
   ],
   "source": [
    "crops_all.head()"
   ]
  },
  {
   "cell_type": "code",
   "execution_count": 16,
   "id": "a26a1006",
   "metadata": {},
   "outputs": [
    {
     "name": "stdout",
     "output_type": "stream",
     "text": [
      "<class 'pandas.core.frame.DataFrame'>\n",
      "Int64Index: 38146 entries, 0 to 1653\n",
      "Data columns (total 67 columns):\n",
      " #   Column        Non-Null Count  Dtype  \n",
      "---  ------        --------------  -----  \n",
      " 0   Continent     38146 non-null  object \n",
      " 1   Area Code     38146 non-null  int64  \n",
      " 2   Area          38146 non-null  object \n",
      " 3   Item Code     38146 non-null  int64  \n",
      " 4   Item          38146 non-null  object \n",
      " 5   Element Code  38146 non-null  int64  \n",
      " 6   Element       38146 non-null  object \n",
      " 7   Unit          38146 non-null  object \n",
      " 8   Y1961         22639 non-null  float64\n",
      " 9   Y1962         22658 non-null  float64\n",
      " 10  Y1963         22656 non-null  float64\n",
      " 11  Y1964         22683 non-null  float64\n",
      " 12  Y1965         22683 non-null  float64\n",
      " 13  Y1966         22780 non-null  float64\n",
      " 14  Y1967         22815 non-null  float64\n",
      " 15  Y1968         22878 non-null  float64\n",
      " 16  Y1969         22911 non-null  float64\n",
      " 17  Y1970         22997 non-null  float64\n",
      " 18  Y1971         23070 non-null  float64\n",
      " 19  Y1972         23099 non-null  float64\n",
      " 20  Y1973         23098 non-null  float64\n",
      " 21  Y1974         23157 non-null  float64\n",
      " 22  Y1975         23292 non-null  float64\n",
      " 23  Y1976         23353 non-null  float64\n",
      " 24  Y1977         23511 non-null  float64\n",
      " 25  Y1978         23548 non-null  float64\n",
      " 26  Y1979         23713 non-null  float64\n",
      " 27  Y1980         23929 non-null  float64\n",
      " 28  Y1981         24019 non-null  float64\n",
      " 29  Y1982         24094 non-null  float64\n",
      " 30  Y1983         24151 non-null  float64\n",
      " 31  Y1984         24213 non-null  float64\n",
      " 32  Y1985         25680 non-null  float64\n",
      " 33  Y1986         25844 non-null  float64\n",
      " 34  Y1987         25962 non-null  float64\n",
      " 35  Y1988         26113 non-null  float64\n",
      " 36  Y1989         26264 non-null  float64\n",
      " 37  Y1990         27470 non-null  float64\n",
      " 38  Y1991         27694 non-null  float64\n",
      " 39  Y1992         30712 non-null  float64\n",
      " 40  Y1993         30939 non-null  float64\n",
      " 41  Y1994         31221 non-null  float64\n",
      " 42  Y1995         31398 non-null  float64\n",
      " 43  Y1996         31480 non-null  float64\n",
      " 44  Y1997         31654 non-null  float64\n",
      " 45  Y1998         31791 non-null  float64\n",
      " 46  Y1999         32016 non-null  float64\n",
      " 47  Y2000         32352 non-null  float64\n",
      " 48  Y2001         32431 non-null  float64\n",
      " 49  Y2002         32485 non-null  float64\n",
      " 50  Y2003         32762 non-null  float64\n",
      " 51  Y2004         32938 non-null  float64\n",
      " 52  Y2005         32996 non-null  float64\n",
      " 53  Y2006         33179 non-null  float64\n",
      " 54  Y2007         32727 non-null  float64\n",
      " 55  Y2008         32746 non-null  float64\n",
      " 56  Y2009         32771 non-null  float64\n",
      " 57  Y2010         32836 non-null  float64\n",
      " 58  Y2011         32848 non-null  float64\n",
      " 59  Y2012         32933 non-null  float64\n",
      " 60  Y2013         32933 non-null  float64\n",
      " 61  Y2014         32987 non-null  float64\n",
      " 62  Y2015         33010 non-null  float64\n",
      " 63  Y2016         33042 non-null  float64\n",
      " 64  Y2017         33100 non-null  float64\n",
      " 65  Y2018         33392 non-null  float64\n",
      " 66  Y2019         33437 non-null  float64\n",
      "dtypes: float64(59), int64(3), object(5)\n",
      "memory usage: 19.8+ MB\n"
     ]
    }
   ],
   "source": [
    "crops_all.info(verbose=True, null_counts=True)"
   ]
  },
  {
   "cell_type": "code",
   "execution_count": 17,
   "id": "1f303d00",
   "metadata": {
    "scrolled": false
   },
   "outputs": [
    {
     "data": {
      "text/html": [
       "<div>\n",
       "<style scoped>\n",
       "    .dataframe tbody tr th:only-of-type {\n",
       "        vertical-align: middle;\n",
       "    }\n",
       "\n",
       "    .dataframe tbody tr th {\n",
       "        vertical-align: top;\n",
       "    }\n",
       "\n",
       "    .dataframe thead th {\n",
       "        text-align: right;\n",
       "    }\n",
       "</style>\n",
       "<table border=\"1\" class=\"dataframe\">\n",
       "  <thead>\n",
       "    <tr style=\"text-align: right;\">\n",
       "      <th></th>\n",
       "      <th>count</th>\n",
       "      <th>unique</th>\n",
       "      <th>top</th>\n",
       "      <th>freq</th>\n",
       "      <th>mean</th>\n",
       "      <th>std</th>\n",
       "      <th>min</th>\n",
       "      <th>25%</th>\n",
       "      <th>50%</th>\n",
       "      <th>75%</th>\n",
       "      <th>max</th>\n",
       "    </tr>\n",
       "  </thead>\n",
       "  <tbody>\n",
       "    <tr>\n",
       "      <th>Continent</th>\n",
       "      <td>38146</td>\n",
       "      <td>5</td>\n",
       "      <td>Europe</td>\n",
       "      <td>10557</td>\n",
       "      <td>NaN</td>\n",
       "      <td>NaN</td>\n",
       "      <td>NaN</td>\n",
       "      <td>NaN</td>\n",
       "      <td>NaN</td>\n",
       "      <td>NaN</td>\n",
       "      <td>NaN</td>\n",
       "    </tr>\n",
       "    <tr>\n",
       "      <th>Area Code</th>\n",
       "      <td>38146.0</td>\n",
       "      <td>NaN</td>\n",
       "      <td>NaN</td>\n",
       "      <td>NaN</td>\n",
       "      <td>130.297069</td>\n",
       "      <td>75.053504</td>\n",
       "      <td>1.0</td>\n",
       "      <td>63.0</td>\n",
       "      <td>126.0</td>\n",
       "      <td>196.0</td>\n",
       "      <td>299.0</td>\n",
       "    </tr>\n",
       "    <tr>\n",
       "      <th>Area</th>\n",
       "      <td>38146</td>\n",
       "      <td>210</td>\n",
       "      <td>China, mainland</td>\n",
       "      <td>398</td>\n",
       "      <td>NaN</td>\n",
       "      <td>NaN</td>\n",
       "      <td>NaN</td>\n",
       "      <td>NaN</td>\n",
       "      <td>NaN</td>\n",
       "      <td>NaN</td>\n",
       "      <td>NaN</td>\n",
       "    </tr>\n",
       "    <tr>\n",
       "      <th>Item Code</th>\n",
       "      <td>38146.0</td>\n",
       "      <td>NaN</td>\n",
       "      <td>NaN</td>\n",
       "      <td>NaN</td>\n",
       "      <td>614.361663</td>\n",
       "      <td>547.910943</td>\n",
       "      <td>15.0</td>\n",
       "      <td>236.0</td>\n",
       "      <td>446.0</td>\n",
       "      <td>656.0</td>\n",
       "      <td>1841.0</td>\n",
       "    </tr>\n",
       "    <tr>\n",
       "      <th>Item</th>\n",
       "      <td>38146</td>\n",
       "      <td>175</td>\n",
       "      <td>Roots and Tubers, Total</td>\n",
       "      <td>618</td>\n",
       "      <td>NaN</td>\n",
       "      <td>NaN</td>\n",
       "      <td>NaN</td>\n",
       "      <td>NaN</td>\n",
       "      <td>NaN</td>\n",
       "      <td>NaN</td>\n",
       "      <td>NaN</td>\n",
       "    </tr>\n",
       "    <tr>\n",
       "      <th>...</th>\n",
       "      <td>...</td>\n",
       "      <td>...</td>\n",
       "      <td>...</td>\n",
       "      <td>...</td>\n",
       "      <td>...</td>\n",
       "      <td>...</td>\n",
       "      <td>...</td>\n",
       "      <td>...</td>\n",
       "      <td>...</td>\n",
       "      <td>...</td>\n",
       "      <td>...</td>\n",
       "    </tr>\n",
       "    <tr>\n",
       "      <th>Y2015</th>\n",
       "      <td>33010.0</td>\n",
       "      <td>NaN</td>\n",
       "      <td>NaN</td>\n",
       "      <td>NaN</td>\n",
       "      <td>711842.130233</td>\n",
       "      <td>9973667.916526</td>\n",
       "      <td>0.0</td>\n",
       "      <td>3200.0</td>\n",
       "      <td>23082.5</td>\n",
       "      <td>122509.25</td>\n",
       "      <td>750290277.0</td>\n",
       "    </tr>\n",
       "    <tr>\n",
       "      <th>Y2016</th>\n",
       "      <td>33042.0</td>\n",
       "      <td>NaN</td>\n",
       "      <td>NaN</td>\n",
       "      <td>NaN</td>\n",
       "      <td>722969.65786</td>\n",
       "      <td>10249828.135251</td>\n",
       "      <td>0.0</td>\n",
       "      <td>3191.25</td>\n",
       "      <td>22985.0</td>\n",
       "      <td>123213.75</td>\n",
       "      <td>768594154.0</td>\n",
       "    </tr>\n",
       "    <tr>\n",
       "      <th>Y2017</th>\n",
       "      <td>33100.0</td>\n",
       "      <td>NaN</td>\n",
       "      <td>NaN</td>\n",
       "      <td>NaN</td>\n",
       "      <td>738894.115952</td>\n",
       "      <td>10171664.733574</td>\n",
       "      <td>0.0</td>\n",
       "      <td>3191.0</td>\n",
       "      <td>22932.0</td>\n",
       "      <td>124309.25</td>\n",
       "      <td>758646205.0</td>\n",
       "    </tr>\n",
       "    <tr>\n",
       "      <th>Y2018</th>\n",
       "      <td>33392.0</td>\n",
       "      <td>NaN</td>\n",
       "      <td>NaN</td>\n",
       "      <td>NaN</td>\n",
       "      <td>734436.155127</td>\n",
       "      <td>10245919.307647</td>\n",
       "      <td>0.0</td>\n",
       "      <td>2476.25</td>\n",
       "      <td>21138.0</td>\n",
       "      <td>121818.75</td>\n",
       "      <td>747060316.0</td>\n",
       "    </tr>\n",
       "    <tr>\n",
       "      <th>Y2019</th>\n",
       "      <td>33437.0</td>\n",
       "      <td>NaN</td>\n",
       "      <td>NaN</td>\n",
       "      <td>NaN</td>\n",
       "      <td>742458.525197</td>\n",
       "      <td>10346386.885358</td>\n",
       "      <td>0.0</td>\n",
       "      <td>2470.0</td>\n",
       "      <td>21430.0</td>\n",
       "      <td>121779.0</td>\n",
       "      <td>752895389.0</td>\n",
       "    </tr>\n",
       "  </tbody>\n",
       "</table>\n",
       "<p>67 rows × 11 columns</p>\n",
       "</div>"
      ],
      "text/plain": [
       "             count unique                      top   freq           mean  \\\n",
       "Continent    38146      5                   Europe  10557            NaN   \n",
       "Area Code  38146.0    NaN                      NaN    NaN     130.297069   \n",
       "Area         38146    210          China, mainland    398            NaN   \n",
       "Item Code  38146.0    NaN                      NaN    NaN     614.361663   \n",
       "Item         38146    175  Roots and Tubers, Total    618            NaN   \n",
       "...            ...    ...                      ...    ...            ...   \n",
       "Y2015      33010.0    NaN                      NaN    NaN  711842.130233   \n",
       "Y2016      33042.0    NaN                      NaN    NaN   722969.65786   \n",
       "Y2017      33100.0    NaN                      NaN    NaN  738894.115952   \n",
       "Y2018      33392.0    NaN                      NaN    NaN  734436.155127   \n",
       "Y2019      33437.0    NaN                      NaN    NaN  742458.525197   \n",
       "\n",
       "                       std   min      25%      50%        75%          max  \n",
       "Continent              NaN   NaN      NaN      NaN        NaN          NaN  \n",
       "Area Code        75.053504   1.0     63.0    126.0      196.0        299.0  \n",
       "Area                   NaN   NaN      NaN      NaN        NaN          NaN  \n",
       "Item Code       547.910943  15.0    236.0    446.0      656.0       1841.0  \n",
       "Item                   NaN   NaN      NaN      NaN        NaN          NaN  \n",
       "...                    ...   ...      ...      ...        ...          ...  \n",
       "Y2015       9973667.916526   0.0   3200.0  23082.5  122509.25  750290277.0  \n",
       "Y2016      10249828.135251   0.0  3191.25  22985.0  123213.75  768594154.0  \n",
       "Y2017      10171664.733574   0.0   3191.0  22932.0  124309.25  758646205.0  \n",
       "Y2018      10245919.307647   0.0  2476.25  21138.0  121818.75  747060316.0  \n",
       "Y2019      10346386.885358   0.0   2470.0  21430.0   121779.0  752895389.0  \n",
       "\n",
       "[67 rows x 11 columns]"
      ]
     },
     "execution_count": 17,
     "metadata": {},
     "output_type": "execute_result"
    }
   ],
   "source": [
    "crops_all.describe(include = 'all').T"
   ]
  },
  {
   "cell_type": "code",
   "execution_count": 18,
   "id": "1fe32e27",
   "metadata": {},
   "outputs": [
    {
     "data": {
      "text/plain": [
       "array(['Area harvested', 'Yield', 'Production'], dtype=object)"
      ]
     },
     "execution_count": 18,
     "metadata": {},
     "output_type": "execute_result"
    }
   ],
   "source": [
    "crops_all[\"Element\"].unique()"
   ]
  },
  {
   "cell_type": "markdown",
   "id": "01c8d820",
   "metadata": {},
   "source": [
    "It appears that we have data on 3 main elements thanks to this dataset:\n",
    "- Area harvested\n",
    "- Yield\n",
    "- Production"
   ]
  },
  {
   "cell_type": "markdown",
   "id": "5950683f",
   "metadata": {},
   "source": [
    "**Let's inspect missing values**"
   ]
  },
  {
   "cell_type": "code",
   "execution_count": 25,
   "id": "5e3d8635",
   "metadata": {},
   "outputs": [
    {
     "data": {
      "text/html": [
       "<div>\n",
       "<style scoped>\n",
       "    .dataframe tbody tr th:only-of-type {\n",
       "        vertical-align: middle;\n",
       "    }\n",
       "\n",
       "    .dataframe tbody tr th {\n",
       "        vertical-align: top;\n",
       "    }\n",
       "\n",
       "    .dataframe thead th {\n",
       "        text-align: right;\n",
       "    }\n",
       "</style>\n",
       "<table border=\"1\" class=\"dataframe\">\n",
       "  <thead>\n",
       "    <tr style=\"text-align: right;\">\n",
       "      <th></th>\n",
       "      <th>count</th>\n",
       "      <th>unique</th>\n",
       "      <th>top</th>\n",
       "      <th>freq</th>\n",
       "    </tr>\n",
       "  </thead>\n",
       "  <tbody>\n",
       "    <tr>\n",
       "      <th>Continent</th>\n",
       "      <td>38146</td>\n",
       "      <td>1</td>\n",
       "      <td>False</td>\n",
       "      <td>38146</td>\n",
       "    </tr>\n",
       "    <tr>\n",
       "      <th>Area Code</th>\n",
       "      <td>38146</td>\n",
       "      <td>1</td>\n",
       "      <td>False</td>\n",
       "      <td>38146</td>\n",
       "    </tr>\n",
       "    <tr>\n",
       "      <th>Area</th>\n",
       "      <td>38146</td>\n",
       "      <td>1</td>\n",
       "      <td>False</td>\n",
       "      <td>38146</td>\n",
       "    </tr>\n",
       "    <tr>\n",
       "      <th>Item Code</th>\n",
       "      <td>38146</td>\n",
       "      <td>1</td>\n",
       "      <td>False</td>\n",
       "      <td>38146</td>\n",
       "    </tr>\n",
       "    <tr>\n",
       "      <th>Item</th>\n",
       "      <td>38146</td>\n",
       "      <td>1</td>\n",
       "      <td>False</td>\n",
       "      <td>38146</td>\n",
       "    </tr>\n",
       "    <tr>\n",
       "      <th>...</th>\n",
       "      <td>...</td>\n",
       "      <td>...</td>\n",
       "      <td>...</td>\n",
       "      <td>...</td>\n",
       "    </tr>\n",
       "    <tr>\n",
       "      <th>Y2015</th>\n",
       "      <td>38146</td>\n",
       "      <td>2</td>\n",
       "      <td>False</td>\n",
       "      <td>33010</td>\n",
       "    </tr>\n",
       "    <tr>\n",
       "      <th>Y2016</th>\n",
       "      <td>38146</td>\n",
       "      <td>2</td>\n",
       "      <td>False</td>\n",
       "      <td>33042</td>\n",
       "    </tr>\n",
       "    <tr>\n",
       "      <th>Y2017</th>\n",
       "      <td>38146</td>\n",
       "      <td>2</td>\n",
       "      <td>False</td>\n",
       "      <td>33100</td>\n",
       "    </tr>\n",
       "    <tr>\n",
       "      <th>Y2018</th>\n",
       "      <td>38146</td>\n",
       "      <td>2</td>\n",
       "      <td>False</td>\n",
       "      <td>33392</td>\n",
       "    </tr>\n",
       "    <tr>\n",
       "      <th>Y2019</th>\n",
       "      <td>38146</td>\n",
       "      <td>2</td>\n",
       "      <td>False</td>\n",
       "      <td>33437</td>\n",
       "    </tr>\n",
       "  </tbody>\n",
       "</table>\n",
       "<p>67 rows × 4 columns</p>\n",
       "</div>"
      ],
      "text/plain": [
       "           count unique    top   freq\n",
       "Continent  38146      1  False  38146\n",
       "Area Code  38146      1  False  38146\n",
       "Area       38146      1  False  38146\n",
       "Item Code  38146      1  False  38146\n",
       "Item       38146      1  False  38146\n",
       "...          ...    ...    ...    ...\n",
       "Y2015      38146      2  False  33010\n",
       "Y2016      38146      2  False  33042\n",
       "Y2017      38146      2  False  33100\n",
       "Y2018      38146      2  False  33392\n",
       "Y2019      38146      2  False  33437\n",
       "\n",
       "[67 rows x 4 columns]"
      ]
     },
     "execution_count": 25,
     "metadata": {},
     "output_type": "execute_result"
    }
   ],
   "source": [
    "crops_all.isnull().describe().T"
   ]
  },
  {
   "cell_type": "code",
   "execution_count": 53,
   "id": "13dc306e",
   "metadata": {},
   "outputs": [
    {
     "data": {
      "text/html": [
       "<div>\n",
       "<style scoped>\n",
       "    .dataframe tbody tr th:only-of-type {\n",
       "        vertical-align: middle;\n",
       "    }\n",
       "\n",
       "    .dataframe tbody tr th {\n",
       "        vertical-align: top;\n",
       "    }\n",
       "\n",
       "    .dataframe thead th {\n",
       "        text-align: right;\n",
       "    }\n",
       "</style>\n",
       "<table border=\"1\" class=\"dataframe\">\n",
       "  <thead>\n",
       "    <tr style=\"text-align: right;\">\n",
       "      <th></th>\n",
       "      <th>0</th>\n",
       "    </tr>\n",
       "  </thead>\n",
       "  <tbody>\n",
       "    <tr>\n",
       "      <th>Y1961</th>\n",
       "      <td>0.406517</td>\n",
       "    </tr>\n",
       "    <tr>\n",
       "      <th>Y1963</th>\n",
       "      <td>0.406071</td>\n",
       "    </tr>\n",
       "    <tr>\n",
       "      <th>Y1962</th>\n",
       "      <td>0.406019</td>\n",
       "    </tr>\n",
       "    <tr>\n",
       "      <th>Y1965</th>\n",
       "      <td>0.405364</td>\n",
       "    </tr>\n",
       "    <tr>\n",
       "      <th>Y1964</th>\n",
       "      <td>0.405364</td>\n",
       "    </tr>\n",
       "    <tr>\n",
       "      <th>Y1966</th>\n",
       "      <td>0.402821</td>\n",
       "    </tr>\n",
       "    <tr>\n",
       "      <th>Y1967</th>\n",
       "      <td>0.401903</td>\n",
       "    </tr>\n",
       "    <tr>\n",
       "      <th>Y1968</th>\n",
       "      <td>0.400252</td>\n",
       "    </tr>\n",
       "    <tr>\n",
       "      <th>Y1969</th>\n",
       "      <td>0.399387</td>\n",
       "    </tr>\n",
       "    <tr>\n",
       "      <th>Y1970</th>\n",
       "      <td>0.397132</td>\n",
       "    </tr>\n",
       "    <tr>\n",
       "      <th>Y1971</th>\n",
       "      <td>0.395218</td>\n",
       "    </tr>\n",
       "    <tr>\n",
       "      <th>Y1973</th>\n",
       "      <td>0.394484</td>\n",
       "    </tr>\n",
       "    <tr>\n",
       "      <th>Y1972</th>\n",
       "      <td>0.394458</td>\n",
       "    </tr>\n",
       "    <tr>\n",
       "      <th>Y1974</th>\n",
       "      <td>0.392938</td>\n",
       "    </tr>\n",
       "    <tr>\n",
       "      <th>Y1975</th>\n",
       "      <td>0.389399</td>\n",
       "    </tr>\n",
       "    <tr>\n",
       "      <th>Y1976</th>\n",
       "      <td>0.387800</td>\n",
       "    </tr>\n",
       "    <tr>\n",
       "      <th>Y1977</th>\n",
       "      <td>0.383658</td>\n",
       "    </tr>\n",
       "    <tr>\n",
       "      <th>Y1978</th>\n",
       "      <td>0.382688</td>\n",
       "    </tr>\n",
       "    <tr>\n",
       "      <th>Y1979</th>\n",
       "      <td>0.378362</td>\n",
       "    </tr>\n",
       "    <tr>\n",
       "      <th>Y1980</th>\n",
       "      <td>0.372700</td>\n",
       "    </tr>\n",
       "    <tr>\n",
       "      <th>Y1981</th>\n",
       "      <td>0.370340</td>\n",
       "    </tr>\n",
       "    <tr>\n",
       "      <th>Y1982</th>\n",
       "      <td>0.368374</td>\n",
       "    </tr>\n",
       "    <tr>\n",
       "      <th>Y1983</th>\n",
       "      <td>0.366880</td>\n",
       "    </tr>\n",
       "    <tr>\n",
       "      <th>Y1984</th>\n",
       "      <td>0.365255</td>\n",
       "    </tr>\n",
       "    <tr>\n",
       "      <th>Y1985</th>\n",
       "      <td>0.326797</td>\n",
       "    </tr>\n",
       "    <tr>\n",
       "      <th>Y1986</th>\n",
       "      <td>0.322498</td>\n",
       "    </tr>\n",
       "    <tr>\n",
       "      <th>Y1987</th>\n",
       "      <td>0.319404</td>\n",
       "    </tr>\n",
       "    <tr>\n",
       "      <th>Y1988</th>\n",
       "      <td>0.315446</td>\n",
       "    </tr>\n",
       "    <tr>\n",
       "      <th>Y1989</th>\n",
       "      <td>0.311487</td>\n",
       "    </tr>\n",
       "    <tr>\n",
       "      <th>Y1990</th>\n",
       "      <td>0.279872</td>\n",
       "    </tr>\n",
       "    <tr>\n",
       "      <th>Y1991</th>\n",
       "      <td>0.274000</td>\n",
       "    </tr>\n",
       "    <tr>\n",
       "      <th>Y1992</th>\n",
       "      <td>0.194883</td>\n",
       "    </tr>\n",
       "    <tr>\n",
       "      <th>Y1993</th>\n",
       "      <td>0.188932</td>\n",
       "    </tr>\n",
       "    <tr>\n",
       "      <th>Y1994</th>\n",
       "      <td>0.181539</td>\n",
       "    </tr>\n",
       "    <tr>\n",
       "      <th>Y1995</th>\n",
       "      <td>0.176899</td>\n",
       "    </tr>\n",
       "    <tr>\n",
       "      <th>Y1996</th>\n",
       "      <td>0.174750</td>\n",
       "    </tr>\n",
       "    <tr>\n",
       "      <th>Y1997</th>\n",
       "      <td>0.170188</td>\n",
       "    </tr>\n",
       "    <tr>\n",
       "      <th>Y1998</th>\n",
       "      <td>0.166597</td>\n",
       "    </tr>\n",
       "    <tr>\n",
       "      <th>Y1999</th>\n",
       "      <td>0.160698</td>\n",
       "    </tr>\n",
       "    <tr>\n",
       "      <th>Y2000</th>\n",
       "      <td>0.151890</td>\n",
       "    </tr>\n",
       "    <tr>\n",
       "      <th>Y2001</th>\n",
       "      <td>0.149819</td>\n",
       "    </tr>\n",
       "    <tr>\n",
       "      <th>Y2002</th>\n",
       "      <td>0.148404</td>\n",
       "    </tr>\n",
       "    <tr>\n",
       "      <th>Y2007</th>\n",
       "      <td>0.142059</td>\n",
       "    </tr>\n",
       "    <tr>\n",
       "      <th>Y2008</th>\n",
       "      <td>0.141561</td>\n",
       "    </tr>\n",
       "    <tr>\n",
       "      <th>Y2003</th>\n",
       "      <td>0.141142</td>\n",
       "    </tr>\n",
       "    <tr>\n",
       "      <th>Y2009</th>\n",
       "      <td>0.140906</td>\n",
       "    </tr>\n",
       "    <tr>\n",
       "      <th>Y2010</th>\n",
       "      <td>0.139202</td>\n",
       "    </tr>\n",
       "    <tr>\n",
       "      <th>Y2011</th>\n",
       "      <td>0.138887</td>\n",
       "    </tr>\n",
       "    <tr>\n",
       "      <th>Y2012</th>\n",
       "      <td>0.136659</td>\n",
       "    </tr>\n",
       "    <tr>\n",
       "      <th>Y2013</th>\n",
       "      <td>0.136659</td>\n",
       "    </tr>\n",
       "  </tbody>\n",
       "</table>\n",
       "</div>"
      ],
      "text/plain": [
       "              0\n",
       "Y1961  0.406517\n",
       "Y1963  0.406071\n",
       "Y1962  0.406019\n",
       "Y1965  0.405364\n",
       "Y1964  0.405364\n",
       "Y1966  0.402821\n",
       "Y1967  0.401903\n",
       "Y1968  0.400252\n",
       "Y1969  0.399387\n",
       "Y1970  0.397132\n",
       "Y1971  0.395218\n",
       "Y1973  0.394484\n",
       "Y1972  0.394458\n",
       "Y1974  0.392938\n",
       "Y1975  0.389399\n",
       "Y1976  0.387800\n",
       "Y1977  0.383658\n",
       "Y1978  0.382688\n",
       "Y1979  0.378362\n",
       "Y1980  0.372700\n",
       "Y1981  0.370340\n",
       "Y1982  0.368374\n",
       "Y1983  0.366880\n",
       "Y1984  0.365255\n",
       "Y1985  0.326797\n",
       "Y1986  0.322498\n",
       "Y1987  0.319404\n",
       "Y1988  0.315446\n",
       "Y1989  0.311487\n",
       "Y1990  0.279872\n",
       "Y1991  0.274000\n",
       "Y1992  0.194883\n",
       "Y1993  0.188932\n",
       "Y1994  0.181539\n",
       "Y1995  0.176899\n",
       "Y1996  0.174750\n",
       "Y1997  0.170188\n",
       "Y1998  0.166597\n",
       "Y1999  0.160698\n",
       "Y2000  0.151890\n",
       "Y2001  0.149819\n",
       "Y2002  0.148404\n",
       "Y2007  0.142059\n",
       "Y2008  0.141561\n",
       "Y2003  0.141142\n",
       "Y2009  0.140906\n",
       "Y2010  0.139202\n",
       "Y2011  0.138887\n",
       "Y2012  0.136659\n",
       "Y2013  0.136659"
      ]
     },
     "execution_count": 53,
     "metadata": {},
     "output_type": "execute_result"
    }
   ],
   "source": [
    "df = pd.DataFrame(crops_all.isnull().sum().sort_index()/len(crops_all))\n",
    "df.sort_values(by=0,ascending=False).head(50)"
   ]
  },
  {
   "cell_type": "markdown",
   "id": "2489594a",
   "metadata": {},
   "source": [
    "We clearly see that the earlier the data came from, the less information we have, and it's **normal**."
   ]
  },
  {
   "cell_type": "markdown",
   "id": "43c8017a",
   "metadata": {},
   "source": [
    "**What is the rank per category & country ?**"
   ]
  },
  {
   "cell_type": "code",
   "execution_count": 94,
   "id": "1508937f",
   "metadata": {},
   "outputs": [
    {
     "data": {
      "text/plain": [
       "array(['Area harvested', 'Yield', 'Production'], dtype=object)"
      ]
     },
     "execution_count": 94,
     "metadata": {},
     "output_type": "execute_result"
    }
   ],
   "source": [
    "continents = crops_all['Continent'].unique()\n",
    "areas = crops_all['Area'].unique()\n",
    "items = crops_all['Item'].unique()\n",
    "elements = crops_all['Element'].unique()"
   ]
  },
  {
   "cell_type": "code",
   "execution_count": 272,
   "id": "25b37aec",
   "metadata": {},
   "outputs": [],
   "source": [
    "def show_data(df,continent, area, item, element,year):\n",
    "    year = \"Y\" + str(year)\n",
    "    \n",
    "    # ALL countries, 1 item, ALL element => 3 barplots ('Total Area Harvested, Yield & production of ITEM per country per YEAR with slider')\n",
    "    if (area == \"ALL\") & (element == \"ALL\"):\n",
    "        for el in elements:\n",
    "            to_plot = df[(df[\"Continent\"] == continent) & (df[\"Element\"] == el) & (df[\"Item\"] == item)][[year,\"Area\"]]\n",
    "            fig = px.bar(to_plot,x='Area',y=year,labels={\n",
    "                         year: 'Total '+ str(el) + ' (' + str(df[(df[\"Element\"] == el)][\"Unit\"].unique()[0]) + ')',\n",
    "                         \"Area\": \"Countries\",},\n",
    "                         title='Total '+ str(el) + ' of ' + str(item) + \" per country in \" + str(continent) + ' (' + str(year[1:]) + ')')\n",
    "            fig.show()\n",
    "        \n",
    "    #ALL countries, 1 item, 1 element => 1 barplot ('ELEMENT of ITEM per country per YEAR with slider')\n",
    "    elif (area == \"ALL\") & (element != \"ALL\") :\n",
    "        to_plot = df[(df[\"Continent\"] == continent) & (df[\"Element\"] == element) & (df[\"Item\"] == item)][[year,\"Area\"]]\n",
    "        fig = px.bar(to_plot,x='Area',y=year,labels={\n",
    "            year: \"Total \" + str(element) + \" \" + df[df[\"Element\"] == element][\"Unit\"].unique()[0],\n",
    "            \"Area\": \"Countries\",\n",
    "                 },title=\"Total \" + str(element)+ \" of \" + str(item) + \" per country in \" + str(year))\n",
    "        fig.show()\n",
    "        \n",
    "    # 1 country, 1 item, ALL elements => 3 lineplots ('Area harvested', 'Yield','Production') per YEAR (linegrah, no slider)\n",
    "    elif (area != \"ALL\"):\n",
    "        if (element == \"ALL\"):\n",
    "            for el in elements:\n",
    "                tmp_df = df[(df[\"Continent\"] == continent) & (df[\"Element\"] == el) & (df[\"Area\"] == area) & (df[\"Item\"] == item)].drop(columns=['Continent','Area Code','Area','Item Code','Item','Element Code','Element','Unit'])\n",
    "                to_plot = tmp_df.T.set_axis(['Value'], axis=1, inplace=False)\n",
    "                to_plot.index = to_plot.index.map(lambda x: x[1:])\n",
    "                to_plot.index = to_plot.index.map(lambda x: \"01/01/\" + str(x))\n",
    "                to_plot.index = pd.to_datetime(to_plot.index)\n",
    "                to_plot.index.names = ['Year']\n",
    "                fig = px.line(to_plot, x=to_plot.index, y='Value',labels={'Value':'Total '+str(el) + ' of ' + str(item) + ' (' + str(df[(df[\"Element\"] == el)][\"Unit\"].unique()[0]) + ')'},title='Evolution of the Total ' +str(el) + ' of ' + str(item) + ' in '+ str(area))\n",
    "                fig.show()\n",
    "        else:\n",
    "            tmp_df = df[(df[\"Continent\"] == continent) & (df[\"Element\"] == element) & (df[\"Area\"] == area) & (df[\"Item\"] == item)].drop(columns=['Continent','Area Code','Area','Item Code','Item','Element Code','Element','Unit'])\n",
    "            to_plot = tmp_df.T.set_axis(['Value'], axis=1, inplace=False)\n",
    "            to_plot.index = to_plot.index.map(lambda x: x[1:])\n",
    "            to_plot.index = to_plot.index.map(lambda x: \"01/01/\" + str(x))\n",
    "            to_plot.index = pd.to_datetime(to_plot.index)\n",
    "            to_plot.index.names = ['Year']\n",
    "            fig = px.line(to_plot, x=to_plot.index, y='Value',labels={'Value':'Total '+str(element) + ' of ' + str(item) + ' (' + str(df[(df[\"Element\"] == element)][\"Unit\"].unique()[0]) + ')'},title='Evolution of the Total ' +str(element) + ' of ' + str(item) + ' in '+ str(area))\n",
    "            fig.show()"
   ]
  },
  {
   "cell_type": "code",
   "execution_count": 299,
   "id": "8ce1d631",
   "metadata": {},
   "outputs": [
    {
     "data": {
      "application/vnd.plotly.v1+json": {
       "config": {
        "plotlyServerURL": "https://plot.ly"
       },
       "data": [
        {
         "hovertemplate": "Year=%{x}<br>Total Area harvested of Wheat (ha)=%{y}<extra></extra>",
         "legendgroup": "",
         "line": {
          "color": "#636efa",
          "dash": "solid"
         },
         "marker": {
          "symbol": "circle"
         },
         "mode": "lines",
         "name": "",
         "orientation": "v",
         "showlegend": false,
         "type": "scatter",
         "x": [
          "1961-01-01T00:00:00",
          "1962-01-01T00:00:00",
          "1963-01-01T00:00:00",
          "1964-01-01T00:00:00",
          "1965-01-01T00:00:00",
          "1966-01-01T00:00:00",
          "1967-01-01T00:00:00",
          "1968-01-01T00:00:00",
          "1969-01-01T00:00:00",
          "1970-01-01T00:00:00",
          "1971-01-01T00:00:00",
          "1972-01-01T00:00:00",
          "1973-01-01T00:00:00",
          "1974-01-01T00:00:00",
          "1975-01-01T00:00:00",
          "1976-01-01T00:00:00",
          "1977-01-01T00:00:00",
          "1978-01-01T00:00:00",
          "1979-01-01T00:00:00",
          "1980-01-01T00:00:00",
          "1981-01-01T00:00:00",
          "1982-01-01T00:00:00",
          "1983-01-01T00:00:00",
          "1984-01-01T00:00:00",
          "1985-01-01T00:00:00",
          "1986-01-01T00:00:00",
          "1987-01-01T00:00:00",
          "1988-01-01T00:00:00",
          "1989-01-01T00:00:00",
          "1990-01-01T00:00:00",
          "1991-01-01T00:00:00",
          "1992-01-01T00:00:00",
          "1993-01-01T00:00:00",
          "1994-01-01T00:00:00",
          "1995-01-01T00:00:00",
          "1996-01-01T00:00:00",
          "1997-01-01T00:00:00",
          "1998-01-01T00:00:00",
          "1999-01-01T00:00:00",
          "2000-01-01T00:00:00",
          "2001-01-01T00:00:00",
          "2002-01-01T00:00:00",
          "2003-01-01T00:00:00",
          "2004-01-01T00:00:00",
          "2005-01-01T00:00:00",
          "2006-01-01T00:00:00",
          "2007-01-01T00:00:00",
          "2008-01-01T00:00:00",
          "2009-01-01T00:00:00",
          "2010-01-01T00:00:00",
          "2011-01-01T00:00:00",
          "2012-01-01T00:00:00",
          "2013-01-01T00:00:00",
          "2014-01-01T00:00:00",
          "2015-01-01T00:00:00",
          "2016-01-01T00:00:00",
          "2017-01-01T00:00:00",
          "2018-01-01T00:00:00",
          "2019-01-01T00:00:00"
         ],
         "xaxis": "x",
         "y": [
          63000000,
          67411008,
          64609008,
          67887008,
          70205008,
          69958000,
          67026000,
          67231008,
          65230000,
          65230000,
          64035008,
          58492000,
          63155008,
          59676000,
          61985008,
          59500000,
          62030000,
          62898000,
          57662000,
          61450000,
          59204000,
          57278000,
          50823008,
          51061008,
          50265008,
          48728000,
          46684000,
          48058000,
          47675008,
          48178000,
          45874000,
          null,
          null,
          null,
          null,
          null,
          null,
          null,
          null,
          null,
          null,
          null,
          null,
          null,
          null,
          null,
          null,
          null,
          null,
          null,
          null,
          null,
          null,
          null,
          null,
          null,
          null,
          null,
          null
         ],
         "yaxis": "y"
        }
       ],
       "layout": {
        "legend": {
         "tracegroupgap": 0
        },
        "template": {
         "data": {
          "bar": [
           {
            "error_x": {
             "color": "#2a3f5f"
            },
            "error_y": {
             "color": "#2a3f5f"
            },
            "marker": {
             "line": {
              "color": "#E5ECF6",
              "width": 0.5
             },
             "pattern": {
              "fillmode": "overlay",
              "size": 10,
              "solidity": 0.2
             }
            },
            "type": "bar"
           }
          ],
          "barpolar": [
           {
            "marker": {
             "line": {
              "color": "#E5ECF6",
              "width": 0.5
             },
             "pattern": {
              "fillmode": "overlay",
              "size": 10,
              "solidity": 0.2
             }
            },
            "type": "barpolar"
           }
          ],
          "carpet": [
           {
            "aaxis": {
             "endlinecolor": "#2a3f5f",
             "gridcolor": "white",
             "linecolor": "white",
             "minorgridcolor": "white",
             "startlinecolor": "#2a3f5f"
            },
            "baxis": {
             "endlinecolor": "#2a3f5f",
             "gridcolor": "white",
             "linecolor": "white",
             "minorgridcolor": "white",
             "startlinecolor": "#2a3f5f"
            },
            "type": "carpet"
           }
          ],
          "choropleth": [
           {
            "colorbar": {
             "outlinewidth": 0,
             "ticks": ""
            },
            "type": "choropleth"
           }
          ],
          "contour": [
           {
            "colorbar": {
             "outlinewidth": 0,
             "ticks": ""
            },
            "colorscale": [
             [
              0,
              "#0d0887"
             ],
             [
              0.1111111111111111,
              "#46039f"
             ],
             [
              0.2222222222222222,
              "#7201a8"
             ],
             [
              0.3333333333333333,
              "#9c179e"
             ],
             [
              0.4444444444444444,
              "#bd3786"
             ],
             [
              0.5555555555555556,
              "#d8576b"
             ],
             [
              0.6666666666666666,
              "#ed7953"
             ],
             [
              0.7777777777777778,
              "#fb9f3a"
             ],
             [
              0.8888888888888888,
              "#fdca26"
             ],
             [
              1,
              "#f0f921"
             ]
            ],
            "type": "contour"
           }
          ],
          "contourcarpet": [
           {
            "colorbar": {
             "outlinewidth": 0,
             "ticks": ""
            },
            "type": "contourcarpet"
           }
          ],
          "heatmap": [
           {
            "colorbar": {
             "outlinewidth": 0,
             "ticks": ""
            },
            "colorscale": [
             [
              0,
              "#0d0887"
             ],
             [
              0.1111111111111111,
              "#46039f"
             ],
             [
              0.2222222222222222,
              "#7201a8"
             ],
             [
              0.3333333333333333,
              "#9c179e"
             ],
             [
              0.4444444444444444,
              "#bd3786"
             ],
             [
              0.5555555555555556,
              "#d8576b"
             ],
             [
              0.6666666666666666,
              "#ed7953"
             ],
             [
              0.7777777777777778,
              "#fb9f3a"
             ],
             [
              0.8888888888888888,
              "#fdca26"
             ],
             [
              1,
              "#f0f921"
             ]
            ],
            "type": "heatmap"
           }
          ],
          "heatmapgl": [
           {
            "colorbar": {
             "outlinewidth": 0,
             "ticks": ""
            },
            "colorscale": [
             [
              0,
              "#0d0887"
             ],
             [
              0.1111111111111111,
              "#46039f"
             ],
             [
              0.2222222222222222,
              "#7201a8"
             ],
             [
              0.3333333333333333,
              "#9c179e"
             ],
             [
              0.4444444444444444,
              "#bd3786"
             ],
             [
              0.5555555555555556,
              "#d8576b"
             ],
             [
              0.6666666666666666,
              "#ed7953"
             ],
             [
              0.7777777777777778,
              "#fb9f3a"
             ],
             [
              0.8888888888888888,
              "#fdca26"
             ],
             [
              1,
              "#f0f921"
             ]
            ],
            "type": "heatmapgl"
           }
          ],
          "histogram": [
           {
            "marker": {
             "pattern": {
              "fillmode": "overlay",
              "size": 10,
              "solidity": 0.2
             }
            },
            "type": "histogram"
           }
          ],
          "histogram2d": [
           {
            "colorbar": {
             "outlinewidth": 0,
             "ticks": ""
            },
            "colorscale": [
             [
              0,
              "#0d0887"
             ],
             [
              0.1111111111111111,
              "#46039f"
             ],
             [
              0.2222222222222222,
              "#7201a8"
             ],
             [
              0.3333333333333333,
              "#9c179e"
             ],
             [
              0.4444444444444444,
              "#bd3786"
             ],
             [
              0.5555555555555556,
              "#d8576b"
             ],
             [
              0.6666666666666666,
              "#ed7953"
             ],
             [
              0.7777777777777778,
              "#fb9f3a"
             ],
             [
              0.8888888888888888,
              "#fdca26"
             ],
             [
              1,
              "#f0f921"
             ]
            ],
            "type": "histogram2d"
           }
          ],
          "histogram2dcontour": [
           {
            "colorbar": {
             "outlinewidth": 0,
             "ticks": ""
            },
            "colorscale": [
             [
              0,
              "#0d0887"
             ],
             [
              0.1111111111111111,
              "#46039f"
             ],
             [
              0.2222222222222222,
              "#7201a8"
             ],
             [
              0.3333333333333333,
              "#9c179e"
             ],
             [
              0.4444444444444444,
              "#bd3786"
             ],
             [
              0.5555555555555556,
              "#d8576b"
             ],
             [
              0.6666666666666666,
              "#ed7953"
             ],
             [
              0.7777777777777778,
              "#fb9f3a"
             ],
             [
              0.8888888888888888,
              "#fdca26"
             ],
             [
              1,
              "#f0f921"
             ]
            ],
            "type": "histogram2dcontour"
           }
          ],
          "mesh3d": [
           {
            "colorbar": {
             "outlinewidth": 0,
             "ticks": ""
            },
            "type": "mesh3d"
           }
          ],
          "parcoords": [
           {
            "line": {
             "colorbar": {
              "outlinewidth": 0,
              "ticks": ""
             }
            },
            "type": "parcoords"
           }
          ],
          "pie": [
           {
            "automargin": true,
            "type": "pie"
           }
          ],
          "scatter": [
           {
            "marker": {
             "colorbar": {
              "outlinewidth": 0,
              "ticks": ""
             }
            },
            "type": "scatter"
           }
          ],
          "scatter3d": [
           {
            "line": {
             "colorbar": {
              "outlinewidth": 0,
              "ticks": ""
             }
            },
            "marker": {
             "colorbar": {
              "outlinewidth": 0,
              "ticks": ""
             }
            },
            "type": "scatter3d"
           }
          ],
          "scattercarpet": [
           {
            "marker": {
             "colorbar": {
              "outlinewidth": 0,
              "ticks": ""
             }
            },
            "type": "scattercarpet"
           }
          ],
          "scattergeo": [
           {
            "marker": {
             "colorbar": {
              "outlinewidth": 0,
              "ticks": ""
             }
            },
            "type": "scattergeo"
           }
          ],
          "scattergl": [
           {
            "marker": {
             "colorbar": {
              "outlinewidth": 0,
              "ticks": ""
             }
            },
            "type": "scattergl"
           }
          ],
          "scattermapbox": [
           {
            "marker": {
             "colorbar": {
              "outlinewidth": 0,
              "ticks": ""
             }
            },
            "type": "scattermapbox"
           }
          ],
          "scatterpolar": [
           {
            "marker": {
             "colorbar": {
              "outlinewidth": 0,
              "ticks": ""
             }
            },
            "type": "scatterpolar"
           }
          ],
          "scatterpolargl": [
           {
            "marker": {
             "colorbar": {
              "outlinewidth": 0,
              "ticks": ""
             }
            },
            "type": "scatterpolargl"
           }
          ],
          "scatterternary": [
           {
            "marker": {
             "colorbar": {
              "outlinewidth": 0,
              "ticks": ""
             }
            },
            "type": "scatterternary"
           }
          ],
          "surface": [
           {
            "colorbar": {
             "outlinewidth": 0,
             "ticks": ""
            },
            "colorscale": [
             [
              0,
              "#0d0887"
             ],
             [
              0.1111111111111111,
              "#46039f"
             ],
             [
              0.2222222222222222,
              "#7201a8"
             ],
             [
              0.3333333333333333,
              "#9c179e"
             ],
             [
              0.4444444444444444,
              "#bd3786"
             ],
             [
              0.5555555555555556,
              "#d8576b"
             ],
             [
              0.6666666666666666,
              "#ed7953"
             ],
             [
              0.7777777777777778,
              "#fb9f3a"
             ],
             [
              0.8888888888888888,
              "#fdca26"
             ],
             [
              1,
              "#f0f921"
             ]
            ],
            "type": "surface"
           }
          ],
          "table": [
           {
            "cells": {
             "fill": {
              "color": "#EBF0F8"
             },
             "line": {
              "color": "white"
             }
            },
            "header": {
             "fill": {
              "color": "#C8D4E3"
             },
             "line": {
              "color": "white"
             }
            },
            "type": "table"
           }
          ]
         },
         "layout": {
          "annotationdefaults": {
           "arrowcolor": "#2a3f5f",
           "arrowhead": 0,
           "arrowwidth": 1
          },
          "autotypenumbers": "strict",
          "coloraxis": {
           "colorbar": {
            "outlinewidth": 0,
            "ticks": ""
           }
          },
          "colorscale": {
           "diverging": [
            [
             0,
             "#8e0152"
            ],
            [
             0.1,
             "#c51b7d"
            ],
            [
             0.2,
             "#de77ae"
            ],
            [
             0.3,
             "#f1b6da"
            ],
            [
             0.4,
             "#fde0ef"
            ],
            [
             0.5,
             "#f7f7f7"
            ],
            [
             0.6,
             "#e6f5d0"
            ],
            [
             0.7,
             "#b8e186"
            ],
            [
             0.8,
             "#7fbc41"
            ],
            [
             0.9,
             "#4d9221"
            ],
            [
             1,
             "#276419"
            ]
           ],
           "sequential": [
            [
             0,
             "#0d0887"
            ],
            [
             0.1111111111111111,
             "#46039f"
            ],
            [
             0.2222222222222222,
             "#7201a8"
            ],
            [
             0.3333333333333333,
             "#9c179e"
            ],
            [
             0.4444444444444444,
             "#bd3786"
            ],
            [
             0.5555555555555556,
             "#d8576b"
            ],
            [
             0.6666666666666666,
             "#ed7953"
            ],
            [
             0.7777777777777778,
             "#fb9f3a"
            ],
            [
             0.8888888888888888,
             "#fdca26"
            ],
            [
             1,
             "#f0f921"
            ]
           ],
           "sequentialminus": [
            [
             0,
             "#0d0887"
            ],
            [
             0.1111111111111111,
             "#46039f"
            ],
            [
             0.2222222222222222,
             "#7201a8"
            ],
            [
             0.3333333333333333,
             "#9c179e"
            ],
            [
             0.4444444444444444,
             "#bd3786"
            ],
            [
             0.5555555555555556,
             "#d8576b"
            ],
            [
             0.6666666666666666,
             "#ed7953"
            ],
            [
             0.7777777777777778,
             "#fb9f3a"
            ],
            [
             0.8888888888888888,
             "#fdca26"
            ],
            [
             1,
             "#f0f921"
            ]
           ]
          },
          "colorway": [
           "#636efa",
           "#EF553B",
           "#00cc96",
           "#ab63fa",
           "#FFA15A",
           "#19d3f3",
           "#FF6692",
           "#B6E880",
           "#FF97FF",
           "#FECB52"
          ],
          "font": {
           "color": "#2a3f5f"
          },
          "geo": {
           "bgcolor": "white",
           "lakecolor": "white",
           "landcolor": "#E5ECF6",
           "showlakes": true,
           "showland": true,
           "subunitcolor": "white"
          },
          "hoverlabel": {
           "align": "left"
          },
          "hovermode": "closest",
          "mapbox": {
           "style": "light"
          },
          "paper_bgcolor": "white",
          "plot_bgcolor": "#E5ECF6",
          "polar": {
           "angularaxis": {
            "gridcolor": "white",
            "linecolor": "white",
            "ticks": ""
           },
           "bgcolor": "#E5ECF6",
           "radialaxis": {
            "gridcolor": "white",
            "linecolor": "white",
            "ticks": ""
           }
          },
          "scene": {
           "xaxis": {
            "backgroundcolor": "#E5ECF6",
            "gridcolor": "white",
            "gridwidth": 2,
            "linecolor": "white",
            "showbackground": true,
            "ticks": "",
            "zerolinecolor": "white"
           },
           "yaxis": {
            "backgroundcolor": "#E5ECF6",
            "gridcolor": "white",
            "gridwidth": 2,
            "linecolor": "white",
            "showbackground": true,
            "ticks": "",
            "zerolinecolor": "white"
           },
           "zaxis": {
            "backgroundcolor": "#E5ECF6",
            "gridcolor": "white",
            "gridwidth": 2,
            "linecolor": "white",
            "showbackground": true,
            "ticks": "",
            "zerolinecolor": "white"
           }
          },
          "shapedefaults": {
           "line": {
            "color": "#2a3f5f"
           }
          },
          "ternary": {
           "aaxis": {
            "gridcolor": "white",
            "linecolor": "white",
            "ticks": ""
           },
           "baxis": {
            "gridcolor": "white",
            "linecolor": "white",
            "ticks": ""
           },
           "bgcolor": "#E5ECF6",
           "caxis": {
            "gridcolor": "white",
            "linecolor": "white",
            "ticks": ""
           }
          },
          "title": {
           "x": 0.05
          },
          "xaxis": {
           "automargin": true,
           "gridcolor": "white",
           "linecolor": "white",
           "ticks": "",
           "title": {
            "standoff": 15
           },
           "zerolinecolor": "white",
           "zerolinewidth": 2
          },
          "yaxis": {
           "automargin": true,
           "gridcolor": "white",
           "linecolor": "white",
           "ticks": "",
           "title": {
            "standoff": 15
           },
           "zerolinecolor": "white",
           "zerolinewidth": 2
          }
         }
        },
        "title": {
         "text": "Evolution of the Total Area harvested of Wheat in USSR"
        },
        "xaxis": {
         "anchor": "y",
         "domain": [
          0,
          1
         ],
         "title": {
          "text": "Year"
         }
        },
        "yaxis": {
         "anchor": "x",
         "domain": [
          0,
          1
         ],
         "title": {
          "text": "Total Area harvested of Wheat (ha)"
         }
        }
       }
      },
      "text/html": [
       "<div>                            <div id=\"83ab103a-10c4-4fa1-b65f-0b7652fd516a\" class=\"plotly-graph-div\" style=\"height:525px; width:100%;\"></div>            <script type=\"text/javascript\">                require([\"plotly\"], function(Plotly) {                    window.PLOTLYENV=window.PLOTLYENV || {};                                    if (document.getElementById(\"83ab103a-10c4-4fa1-b65f-0b7652fd516a\")) {                    Plotly.newPlot(                        \"83ab103a-10c4-4fa1-b65f-0b7652fd516a\",                        [{\"hovertemplate\":\"Year=%{x}<br>Total Area harvested of Wheat (ha)=%{y}<extra></extra>\",\"legendgroup\":\"\",\"line\":{\"color\":\"#636efa\",\"dash\":\"solid\"},\"marker\":{\"symbol\":\"circle\"},\"mode\":\"lines\",\"name\":\"\",\"orientation\":\"v\",\"showlegend\":false,\"x\":[\"1961-01-01T00:00:00\",\"1962-01-01T00:00:00\",\"1963-01-01T00:00:00\",\"1964-01-01T00:00:00\",\"1965-01-01T00:00:00\",\"1966-01-01T00:00:00\",\"1967-01-01T00:00:00\",\"1968-01-01T00:00:00\",\"1969-01-01T00:00:00\",\"1970-01-01T00:00:00\",\"1971-01-01T00:00:00\",\"1972-01-01T00:00:00\",\"1973-01-01T00:00:00\",\"1974-01-01T00:00:00\",\"1975-01-01T00:00:00\",\"1976-01-01T00:00:00\",\"1977-01-01T00:00:00\",\"1978-01-01T00:00:00\",\"1979-01-01T00:00:00\",\"1980-01-01T00:00:00\",\"1981-01-01T00:00:00\",\"1982-01-01T00:00:00\",\"1983-01-01T00:00:00\",\"1984-01-01T00:00:00\",\"1985-01-01T00:00:00\",\"1986-01-01T00:00:00\",\"1987-01-01T00:00:00\",\"1988-01-01T00:00:00\",\"1989-01-01T00:00:00\",\"1990-01-01T00:00:00\",\"1991-01-01T00:00:00\",\"1992-01-01T00:00:00\",\"1993-01-01T00:00:00\",\"1994-01-01T00:00:00\",\"1995-01-01T00:00:00\",\"1996-01-01T00:00:00\",\"1997-01-01T00:00:00\",\"1998-01-01T00:00:00\",\"1999-01-01T00:00:00\",\"2000-01-01T00:00:00\",\"2001-01-01T00:00:00\",\"2002-01-01T00:00:00\",\"2003-01-01T00:00:00\",\"2004-01-01T00:00:00\",\"2005-01-01T00:00:00\",\"2006-01-01T00:00:00\",\"2007-01-01T00:00:00\",\"2008-01-01T00:00:00\",\"2009-01-01T00:00:00\",\"2010-01-01T00:00:00\",\"2011-01-01T00:00:00\",\"2012-01-01T00:00:00\",\"2013-01-01T00:00:00\",\"2014-01-01T00:00:00\",\"2015-01-01T00:00:00\",\"2016-01-01T00:00:00\",\"2017-01-01T00:00:00\",\"2018-01-01T00:00:00\",\"2019-01-01T00:00:00\"],\"xaxis\":\"x\",\"y\":[63000000.0,67411008.0,64609008.0,67887008.0,70205008.0,69958000.0,67026000.0,67231008.0,65230000.0,65230000.0,64035008.0,58492000.0,63155008.0,59676000.0,61985008.0,59500000.0,62030000.0,62898000.0,57662000.0,61450000.0,59204000.0,57278000.0,50823008.0,51061008.0,50265008.0,48728000.0,46684000.0,48058000.0,47675008.0,48178000.0,45874000.0,null,null,null,null,null,null,null,null,null,null,null,null,null,null,null,null,null,null,null,null,null,null,null,null,null,null,null,null],\"yaxis\":\"y\",\"type\":\"scatter\"}],                        {\"template\":{\"data\":{\"bar\":[{\"error_x\":{\"color\":\"#2a3f5f\"},\"error_y\":{\"color\":\"#2a3f5f\"},\"marker\":{\"line\":{\"color\":\"#E5ECF6\",\"width\":0.5},\"pattern\":{\"fillmode\":\"overlay\",\"size\":10,\"solidity\":0.2}},\"type\":\"bar\"}],\"barpolar\":[{\"marker\":{\"line\":{\"color\":\"#E5ECF6\",\"width\":0.5},\"pattern\":{\"fillmode\":\"overlay\",\"size\":10,\"solidity\":0.2}},\"type\":\"barpolar\"}],\"carpet\":[{\"aaxis\":{\"endlinecolor\":\"#2a3f5f\",\"gridcolor\":\"white\",\"linecolor\":\"white\",\"minorgridcolor\":\"white\",\"startlinecolor\":\"#2a3f5f\"},\"baxis\":{\"endlinecolor\":\"#2a3f5f\",\"gridcolor\":\"white\",\"linecolor\":\"white\",\"minorgridcolor\":\"white\",\"startlinecolor\":\"#2a3f5f\"},\"type\":\"carpet\"}],\"choropleth\":[{\"colorbar\":{\"outlinewidth\":0,\"ticks\":\"\"},\"type\":\"choropleth\"}],\"contour\":[{\"colorbar\":{\"outlinewidth\":0,\"ticks\":\"\"},\"colorscale\":[[0.0,\"#0d0887\"],[0.1111111111111111,\"#46039f\"],[0.2222222222222222,\"#7201a8\"],[0.3333333333333333,\"#9c179e\"],[0.4444444444444444,\"#bd3786\"],[0.5555555555555556,\"#d8576b\"],[0.6666666666666666,\"#ed7953\"],[0.7777777777777778,\"#fb9f3a\"],[0.8888888888888888,\"#fdca26\"],[1.0,\"#f0f921\"]],\"type\":\"contour\"}],\"contourcarpet\":[{\"colorbar\":{\"outlinewidth\":0,\"ticks\":\"\"},\"type\":\"contourcarpet\"}],\"heatmap\":[{\"colorbar\":{\"outlinewidth\":0,\"ticks\":\"\"},\"colorscale\":[[0.0,\"#0d0887\"],[0.1111111111111111,\"#46039f\"],[0.2222222222222222,\"#7201a8\"],[0.3333333333333333,\"#9c179e\"],[0.4444444444444444,\"#bd3786\"],[0.5555555555555556,\"#d8576b\"],[0.6666666666666666,\"#ed7953\"],[0.7777777777777778,\"#fb9f3a\"],[0.8888888888888888,\"#fdca26\"],[1.0,\"#f0f921\"]],\"type\":\"heatmap\"}],\"heatmapgl\":[{\"colorbar\":{\"outlinewidth\":0,\"ticks\":\"\"},\"colorscale\":[[0.0,\"#0d0887\"],[0.1111111111111111,\"#46039f\"],[0.2222222222222222,\"#7201a8\"],[0.3333333333333333,\"#9c179e\"],[0.4444444444444444,\"#bd3786\"],[0.5555555555555556,\"#d8576b\"],[0.6666666666666666,\"#ed7953\"],[0.7777777777777778,\"#fb9f3a\"],[0.8888888888888888,\"#fdca26\"],[1.0,\"#f0f921\"]],\"type\":\"heatmapgl\"}],\"histogram\":[{\"marker\":{\"pattern\":{\"fillmode\":\"overlay\",\"size\":10,\"solidity\":0.2}},\"type\":\"histogram\"}],\"histogram2d\":[{\"colorbar\":{\"outlinewidth\":0,\"ticks\":\"\"},\"colorscale\":[[0.0,\"#0d0887\"],[0.1111111111111111,\"#46039f\"],[0.2222222222222222,\"#7201a8\"],[0.3333333333333333,\"#9c179e\"],[0.4444444444444444,\"#bd3786\"],[0.5555555555555556,\"#d8576b\"],[0.6666666666666666,\"#ed7953\"],[0.7777777777777778,\"#fb9f3a\"],[0.8888888888888888,\"#fdca26\"],[1.0,\"#f0f921\"]],\"type\":\"histogram2d\"}],\"histogram2dcontour\":[{\"colorbar\":{\"outlinewidth\":0,\"ticks\":\"\"},\"colorscale\":[[0.0,\"#0d0887\"],[0.1111111111111111,\"#46039f\"],[0.2222222222222222,\"#7201a8\"],[0.3333333333333333,\"#9c179e\"],[0.4444444444444444,\"#bd3786\"],[0.5555555555555556,\"#d8576b\"],[0.6666666666666666,\"#ed7953\"],[0.7777777777777778,\"#fb9f3a\"],[0.8888888888888888,\"#fdca26\"],[1.0,\"#f0f921\"]],\"type\":\"histogram2dcontour\"}],\"mesh3d\":[{\"colorbar\":{\"outlinewidth\":0,\"ticks\":\"\"},\"type\":\"mesh3d\"}],\"parcoords\":[{\"line\":{\"colorbar\":{\"outlinewidth\":0,\"ticks\":\"\"}},\"type\":\"parcoords\"}],\"pie\":[{\"automargin\":true,\"type\":\"pie\"}],\"scatter\":[{\"marker\":{\"colorbar\":{\"outlinewidth\":0,\"ticks\":\"\"}},\"type\":\"scatter\"}],\"scatter3d\":[{\"line\":{\"colorbar\":{\"outlinewidth\":0,\"ticks\":\"\"}},\"marker\":{\"colorbar\":{\"outlinewidth\":0,\"ticks\":\"\"}},\"type\":\"scatter3d\"}],\"scattercarpet\":[{\"marker\":{\"colorbar\":{\"outlinewidth\":0,\"ticks\":\"\"}},\"type\":\"scattercarpet\"}],\"scattergeo\":[{\"marker\":{\"colorbar\":{\"outlinewidth\":0,\"ticks\":\"\"}},\"type\":\"scattergeo\"}],\"scattergl\":[{\"marker\":{\"colorbar\":{\"outlinewidth\":0,\"ticks\":\"\"}},\"type\":\"scattergl\"}],\"scattermapbox\":[{\"marker\":{\"colorbar\":{\"outlinewidth\":0,\"ticks\":\"\"}},\"type\":\"scattermapbox\"}],\"scatterpolar\":[{\"marker\":{\"colorbar\":{\"outlinewidth\":0,\"ticks\":\"\"}},\"type\":\"scatterpolar\"}],\"scatterpolargl\":[{\"marker\":{\"colorbar\":{\"outlinewidth\":0,\"ticks\":\"\"}},\"type\":\"scatterpolargl\"}],\"scatterternary\":[{\"marker\":{\"colorbar\":{\"outlinewidth\":0,\"ticks\":\"\"}},\"type\":\"scatterternary\"}],\"surface\":[{\"colorbar\":{\"outlinewidth\":0,\"ticks\":\"\"},\"colorscale\":[[0.0,\"#0d0887\"],[0.1111111111111111,\"#46039f\"],[0.2222222222222222,\"#7201a8\"],[0.3333333333333333,\"#9c179e\"],[0.4444444444444444,\"#bd3786\"],[0.5555555555555556,\"#d8576b\"],[0.6666666666666666,\"#ed7953\"],[0.7777777777777778,\"#fb9f3a\"],[0.8888888888888888,\"#fdca26\"],[1.0,\"#f0f921\"]],\"type\":\"surface\"}],\"table\":[{\"cells\":{\"fill\":{\"color\":\"#EBF0F8\"},\"line\":{\"color\":\"white\"}},\"header\":{\"fill\":{\"color\":\"#C8D4E3\"},\"line\":{\"color\":\"white\"}},\"type\":\"table\"}]},\"layout\":{\"annotationdefaults\":{\"arrowcolor\":\"#2a3f5f\",\"arrowhead\":0,\"arrowwidth\":1},\"autotypenumbers\":\"strict\",\"coloraxis\":{\"colorbar\":{\"outlinewidth\":0,\"ticks\":\"\"}},\"colorscale\":{\"diverging\":[[0,\"#8e0152\"],[0.1,\"#c51b7d\"],[0.2,\"#de77ae\"],[0.3,\"#f1b6da\"],[0.4,\"#fde0ef\"],[0.5,\"#f7f7f7\"],[0.6,\"#e6f5d0\"],[0.7,\"#b8e186\"],[0.8,\"#7fbc41\"],[0.9,\"#4d9221\"],[1,\"#276419\"]],\"sequential\":[[0.0,\"#0d0887\"],[0.1111111111111111,\"#46039f\"],[0.2222222222222222,\"#7201a8\"],[0.3333333333333333,\"#9c179e\"],[0.4444444444444444,\"#bd3786\"],[0.5555555555555556,\"#d8576b\"],[0.6666666666666666,\"#ed7953\"],[0.7777777777777778,\"#fb9f3a\"],[0.8888888888888888,\"#fdca26\"],[1.0,\"#f0f921\"]],\"sequentialminus\":[[0.0,\"#0d0887\"],[0.1111111111111111,\"#46039f\"],[0.2222222222222222,\"#7201a8\"],[0.3333333333333333,\"#9c179e\"],[0.4444444444444444,\"#bd3786\"],[0.5555555555555556,\"#d8576b\"],[0.6666666666666666,\"#ed7953\"],[0.7777777777777778,\"#fb9f3a\"],[0.8888888888888888,\"#fdca26\"],[1.0,\"#f0f921\"]]},\"colorway\":[\"#636efa\",\"#EF553B\",\"#00cc96\",\"#ab63fa\",\"#FFA15A\",\"#19d3f3\",\"#FF6692\",\"#B6E880\",\"#FF97FF\",\"#FECB52\"],\"font\":{\"color\":\"#2a3f5f\"},\"geo\":{\"bgcolor\":\"white\",\"lakecolor\":\"white\",\"landcolor\":\"#E5ECF6\",\"showlakes\":true,\"showland\":true,\"subunitcolor\":\"white\"},\"hoverlabel\":{\"align\":\"left\"},\"hovermode\":\"closest\",\"mapbox\":{\"style\":\"light\"},\"paper_bgcolor\":\"white\",\"plot_bgcolor\":\"#E5ECF6\",\"polar\":{\"angularaxis\":{\"gridcolor\":\"white\",\"linecolor\":\"white\",\"ticks\":\"\"},\"bgcolor\":\"#E5ECF6\",\"radialaxis\":{\"gridcolor\":\"white\",\"linecolor\":\"white\",\"ticks\":\"\"}},\"scene\":{\"xaxis\":{\"backgroundcolor\":\"#E5ECF6\",\"gridcolor\":\"white\",\"gridwidth\":2,\"linecolor\":\"white\",\"showbackground\":true,\"ticks\":\"\",\"zerolinecolor\":\"white\"},\"yaxis\":{\"backgroundcolor\":\"#E5ECF6\",\"gridcolor\":\"white\",\"gridwidth\":2,\"linecolor\":\"white\",\"showbackground\":true,\"ticks\":\"\",\"zerolinecolor\":\"white\"},\"zaxis\":{\"backgroundcolor\":\"#E5ECF6\",\"gridcolor\":\"white\",\"gridwidth\":2,\"linecolor\":\"white\",\"showbackground\":true,\"ticks\":\"\",\"zerolinecolor\":\"white\"}},\"shapedefaults\":{\"line\":{\"color\":\"#2a3f5f\"}},\"ternary\":{\"aaxis\":{\"gridcolor\":\"white\",\"linecolor\":\"white\",\"ticks\":\"\"},\"baxis\":{\"gridcolor\":\"white\",\"linecolor\":\"white\",\"ticks\":\"\"},\"bgcolor\":\"#E5ECF6\",\"caxis\":{\"gridcolor\":\"white\",\"linecolor\":\"white\",\"ticks\":\"\"}},\"title\":{\"x\":0.05},\"xaxis\":{\"automargin\":true,\"gridcolor\":\"white\",\"linecolor\":\"white\",\"ticks\":\"\",\"title\":{\"standoff\":15},\"zerolinecolor\":\"white\",\"zerolinewidth\":2},\"yaxis\":{\"automargin\":true,\"gridcolor\":\"white\",\"linecolor\":\"white\",\"ticks\":\"\",\"title\":{\"standoff\":15},\"zerolinecolor\":\"white\",\"zerolinewidth\":2}}},\"xaxis\":{\"anchor\":\"y\",\"domain\":[0.0,1.0],\"title\":{\"text\":\"Year\"}},\"yaxis\":{\"anchor\":\"x\",\"domain\":[0.0,1.0],\"title\":{\"text\":\"Total Area harvested of Wheat (ha)\"}},\"legend\":{\"tracegroupgap\":0},\"title\":{\"text\":\"Evolution of the Total Area harvested of Wheat in USSR\"}},                        {\"responsive\": true}                    ).then(function(){\n",
       "                            \n",
       "var gd = document.getElementById('83ab103a-10c4-4fa1-b65f-0b7652fd516a');\n",
       "var x = new MutationObserver(function (mutations, observer) {{\n",
       "        var display = window.getComputedStyle(gd).display;\n",
       "        if (!display || display === 'none') {{\n",
       "            console.log([gd, 'removed!']);\n",
       "            Plotly.purge(gd);\n",
       "            observer.disconnect();\n",
       "        }}\n",
       "}});\n",
       "\n",
       "// Listen for the removal of the full notebook cells\n",
       "var notebookContainer = gd.closest('#notebook-container');\n",
       "if (notebookContainer) {{\n",
       "    x.observe(notebookContainer, {childList: true});\n",
       "}}\n",
       "\n",
       "// Listen for the clearing of the current output cell\n",
       "var outputEl = gd.closest('.output');\n",
       "if (outputEl) {{\n",
       "    x.observe(outputEl, {childList: true});\n",
       "}}\n",
       "\n",
       "                        })                };                });            </script>        </div>"
      ]
     },
     "metadata": {},
     "output_type": "display_data"
    },
    {
     "data": {
      "application/vnd.plotly.v1+json": {
       "config": {
        "plotlyServerURL": "https://plot.ly"
       },
       "data": [
        {
         "hovertemplate": "Year=%{x}<br>Total Yield of Wheat (hg/ha)=%{y}<extra></extra>",
         "legendgroup": "",
         "line": {
          "color": "#636efa",
          "dash": "solid"
         },
         "marker": {
          "symbol": "circle"
         },
         "mode": "lines",
         "name": "",
         "orientation": "v",
         "showlegend": false,
         "type": "scatter",
         "x": [
          "1961-01-01T00:00:00",
          "1962-01-01T00:00:00",
          "1963-01-01T00:00:00",
          "1964-01-01T00:00:00",
          "1965-01-01T00:00:00",
          "1966-01-01T00:00:00",
          "1967-01-01T00:00:00",
          "1968-01-01T00:00:00",
          "1969-01-01T00:00:00",
          "1970-01-01T00:00:00",
          "1971-01-01T00:00:00",
          "1972-01-01T00:00:00",
          "1973-01-01T00:00:00",
          "1974-01-01T00:00:00",
          "1975-01-01T00:00:00",
          "1976-01-01T00:00:00",
          "1977-01-01T00:00:00",
          "1978-01-01T00:00:00",
          "1979-01-01T00:00:00",
          "1980-01-01T00:00:00",
          "1981-01-01T00:00:00",
          "1982-01-01T00:00:00",
          "1983-01-01T00:00:00",
          "1984-01-01T00:00:00",
          "1985-01-01T00:00:00",
          "1986-01-01T00:00:00",
          "1987-01-01T00:00:00",
          "1988-01-01T00:00:00",
          "1989-01-01T00:00:00",
          "1990-01-01T00:00:00",
          "1991-01-01T00:00:00",
          "1992-01-01T00:00:00",
          "1993-01-01T00:00:00",
          "1994-01-01T00:00:00",
          "1995-01-01T00:00:00",
          "1996-01-01T00:00:00",
          "1997-01-01T00:00:00",
          "1998-01-01T00:00:00",
          "1999-01-01T00:00:00",
          "2000-01-01T00:00:00",
          "2001-01-01T00:00:00",
          "2002-01-01T00:00:00",
          "2003-01-01T00:00:00",
          "2004-01-01T00:00:00",
          "2005-01-01T00:00:00",
          "2006-01-01T00:00:00",
          "2007-01-01T00:00:00",
          "2008-01-01T00:00:00",
          "2009-01-01T00:00:00",
          "2010-01-01T00:00:00",
          "2011-01-01T00:00:00",
          "2012-01-01T00:00:00",
          "2013-01-01T00:00:00",
          "2014-01-01T00:00:00",
          "2015-01-01T00:00:00",
          "2016-01-01T00:00:00",
          "2017-01-01T00:00:00",
          "2018-01-01T00:00:00",
          "2019-01-01T00:00:00"
         ],
         "xaxis": "x",
         "y": [
          9920,
          9869,
          7228,
          10302,
          7992,
          13504,
          10858,
          13058,
          11516,
          14372,
          14497,
          13819,
          16340,
          13218,
          10043,
          15309,
          13972,
          18053,
          14721,
          15053,
          12947,
          13925,
          14511,
          12722,
          14563,
          17767,
          16565,
          16402,
          18283,
          21148,
          15693,
          null,
          null,
          null,
          null,
          null,
          null,
          null,
          null,
          null,
          null,
          null,
          null,
          null,
          null,
          null,
          null,
          null,
          null,
          null,
          null,
          null,
          null,
          null,
          null,
          null,
          null,
          null,
          null
         ],
         "yaxis": "y"
        }
       ],
       "layout": {
        "legend": {
         "tracegroupgap": 0
        },
        "template": {
         "data": {
          "bar": [
           {
            "error_x": {
             "color": "#2a3f5f"
            },
            "error_y": {
             "color": "#2a3f5f"
            },
            "marker": {
             "line": {
              "color": "#E5ECF6",
              "width": 0.5
             },
             "pattern": {
              "fillmode": "overlay",
              "size": 10,
              "solidity": 0.2
             }
            },
            "type": "bar"
           }
          ],
          "barpolar": [
           {
            "marker": {
             "line": {
              "color": "#E5ECF6",
              "width": 0.5
             },
             "pattern": {
              "fillmode": "overlay",
              "size": 10,
              "solidity": 0.2
             }
            },
            "type": "barpolar"
           }
          ],
          "carpet": [
           {
            "aaxis": {
             "endlinecolor": "#2a3f5f",
             "gridcolor": "white",
             "linecolor": "white",
             "minorgridcolor": "white",
             "startlinecolor": "#2a3f5f"
            },
            "baxis": {
             "endlinecolor": "#2a3f5f",
             "gridcolor": "white",
             "linecolor": "white",
             "minorgridcolor": "white",
             "startlinecolor": "#2a3f5f"
            },
            "type": "carpet"
           }
          ],
          "choropleth": [
           {
            "colorbar": {
             "outlinewidth": 0,
             "ticks": ""
            },
            "type": "choropleth"
           }
          ],
          "contour": [
           {
            "colorbar": {
             "outlinewidth": 0,
             "ticks": ""
            },
            "colorscale": [
             [
              0,
              "#0d0887"
             ],
             [
              0.1111111111111111,
              "#46039f"
             ],
             [
              0.2222222222222222,
              "#7201a8"
             ],
             [
              0.3333333333333333,
              "#9c179e"
             ],
             [
              0.4444444444444444,
              "#bd3786"
             ],
             [
              0.5555555555555556,
              "#d8576b"
             ],
             [
              0.6666666666666666,
              "#ed7953"
             ],
             [
              0.7777777777777778,
              "#fb9f3a"
             ],
             [
              0.8888888888888888,
              "#fdca26"
             ],
             [
              1,
              "#f0f921"
             ]
            ],
            "type": "contour"
           }
          ],
          "contourcarpet": [
           {
            "colorbar": {
             "outlinewidth": 0,
             "ticks": ""
            },
            "type": "contourcarpet"
           }
          ],
          "heatmap": [
           {
            "colorbar": {
             "outlinewidth": 0,
             "ticks": ""
            },
            "colorscale": [
             [
              0,
              "#0d0887"
             ],
             [
              0.1111111111111111,
              "#46039f"
             ],
             [
              0.2222222222222222,
              "#7201a8"
             ],
             [
              0.3333333333333333,
              "#9c179e"
             ],
             [
              0.4444444444444444,
              "#bd3786"
             ],
             [
              0.5555555555555556,
              "#d8576b"
             ],
             [
              0.6666666666666666,
              "#ed7953"
             ],
             [
              0.7777777777777778,
              "#fb9f3a"
             ],
             [
              0.8888888888888888,
              "#fdca26"
             ],
             [
              1,
              "#f0f921"
             ]
            ],
            "type": "heatmap"
           }
          ],
          "heatmapgl": [
           {
            "colorbar": {
             "outlinewidth": 0,
             "ticks": ""
            },
            "colorscale": [
             [
              0,
              "#0d0887"
             ],
             [
              0.1111111111111111,
              "#46039f"
             ],
             [
              0.2222222222222222,
              "#7201a8"
             ],
             [
              0.3333333333333333,
              "#9c179e"
             ],
             [
              0.4444444444444444,
              "#bd3786"
             ],
             [
              0.5555555555555556,
              "#d8576b"
             ],
             [
              0.6666666666666666,
              "#ed7953"
             ],
             [
              0.7777777777777778,
              "#fb9f3a"
             ],
             [
              0.8888888888888888,
              "#fdca26"
             ],
             [
              1,
              "#f0f921"
             ]
            ],
            "type": "heatmapgl"
           }
          ],
          "histogram": [
           {
            "marker": {
             "pattern": {
              "fillmode": "overlay",
              "size": 10,
              "solidity": 0.2
             }
            },
            "type": "histogram"
           }
          ],
          "histogram2d": [
           {
            "colorbar": {
             "outlinewidth": 0,
             "ticks": ""
            },
            "colorscale": [
             [
              0,
              "#0d0887"
             ],
             [
              0.1111111111111111,
              "#46039f"
             ],
             [
              0.2222222222222222,
              "#7201a8"
             ],
             [
              0.3333333333333333,
              "#9c179e"
             ],
             [
              0.4444444444444444,
              "#bd3786"
             ],
             [
              0.5555555555555556,
              "#d8576b"
             ],
             [
              0.6666666666666666,
              "#ed7953"
             ],
             [
              0.7777777777777778,
              "#fb9f3a"
             ],
             [
              0.8888888888888888,
              "#fdca26"
             ],
             [
              1,
              "#f0f921"
             ]
            ],
            "type": "histogram2d"
           }
          ],
          "histogram2dcontour": [
           {
            "colorbar": {
             "outlinewidth": 0,
             "ticks": ""
            },
            "colorscale": [
             [
              0,
              "#0d0887"
             ],
             [
              0.1111111111111111,
              "#46039f"
             ],
             [
              0.2222222222222222,
              "#7201a8"
             ],
             [
              0.3333333333333333,
              "#9c179e"
             ],
             [
              0.4444444444444444,
              "#bd3786"
             ],
             [
              0.5555555555555556,
              "#d8576b"
             ],
             [
              0.6666666666666666,
              "#ed7953"
             ],
             [
              0.7777777777777778,
              "#fb9f3a"
             ],
             [
              0.8888888888888888,
              "#fdca26"
             ],
             [
              1,
              "#f0f921"
             ]
            ],
            "type": "histogram2dcontour"
           }
          ],
          "mesh3d": [
           {
            "colorbar": {
             "outlinewidth": 0,
             "ticks": ""
            },
            "type": "mesh3d"
           }
          ],
          "parcoords": [
           {
            "line": {
             "colorbar": {
              "outlinewidth": 0,
              "ticks": ""
             }
            },
            "type": "parcoords"
           }
          ],
          "pie": [
           {
            "automargin": true,
            "type": "pie"
           }
          ],
          "scatter": [
           {
            "marker": {
             "colorbar": {
              "outlinewidth": 0,
              "ticks": ""
             }
            },
            "type": "scatter"
           }
          ],
          "scatter3d": [
           {
            "line": {
             "colorbar": {
              "outlinewidth": 0,
              "ticks": ""
             }
            },
            "marker": {
             "colorbar": {
              "outlinewidth": 0,
              "ticks": ""
             }
            },
            "type": "scatter3d"
           }
          ],
          "scattercarpet": [
           {
            "marker": {
             "colorbar": {
              "outlinewidth": 0,
              "ticks": ""
             }
            },
            "type": "scattercarpet"
           }
          ],
          "scattergeo": [
           {
            "marker": {
             "colorbar": {
              "outlinewidth": 0,
              "ticks": ""
             }
            },
            "type": "scattergeo"
           }
          ],
          "scattergl": [
           {
            "marker": {
             "colorbar": {
              "outlinewidth": 0,
              "ticks": ""
             }
            },
            "type": "scattergl"
           }
          ],
          "scattermapbox": [
           {
            "marker": {
             "colorbar": {
              "outlinewidth": 0,
              "ticks": ""
             }
            },
            "type": "scattermapbox"
           }
          ],
          "scatterpolar": [
           {
            "marker": {
             "colorbar": {
              "outlinewidth": 0,
              "ticks": ""
             }
            },
            "type": "scatterpolar"
           }
          ],
          "scatterpolargl": [
           {
            "marker": {
             "colorbar": {
              "outlinewidth": 0,
              "ticks": ""
             }
            },
            "type": "scatterpolargl"
           }
          ],
          "scatterternary": [
           {
            "marker": {
             "colorbar": {
              "outlinewidth": 0,
              "ticks": ""
             }
            },
            "type": "scatterternary"
           }
          ],
          "surface": [
           {
            "colorbar": {
             "outlinewidth": 0,
             "ticks": ""
            },
            "colorscale": [
             [
              0,
              "#0d0887"
             ],
             [
              0.1111111111111111,
              "#46039f"
             ],
             [
              0.2222222222222222,
              "#7201a8"
             ],
             [
              0.3333333333333333,
              "#9c179e"
             ],
             [
              0.4444444444444444,
              "#bd3786"
             ],
             [
              0.5555555555555556,
              "#d8576b"
             ],
             [
              0.6666666666666666,
              "#ed7953"
             ],
             [
              0.7777777777777778,
              "#fb9f3a"
             ],
             [
              0.8888888888888888,
              "#fdca26"
             ],
             [
              1,
              "#f0f921"
             ]
            ],
            "type": "surface"
           }
          ],
          "table": [
           {
            "cells": {
             "fill": {
              "color": "#EBF0F8"
             },
             "line": {
              "color": "white"
             }
            },
            "header": {
             "fill": {
              "color": "#C8D4E3"
             },
             "line": {
              "color": "white"
             }
            },
            "type": "table"
           }
          ]
         },
         "layout": {
          "annotationdefaults": {
           "arrowcolor": "#2a3f5f",
           "arrowhead": 0,
           "arrowwidth": 1
          },
          "autotypenumbers": "strict",
          "coloraxis": {
           "colorbar": {
            "outlinewidth": 0,
            "ticks": ""
           }
          },
          "colorscale": {
           "diverging": [
            [
             0,
             "#8e0152"
            ],
            [
             0.1,
             "#c51b7d"
            ],
            [
             0.2,
             "#de77ae"
            ],
            [
             0.3,
             "#f1b6da"
            ],
            [
             0.4,
             "#fde0ef"
            ],
            [
             0.5,
             "#f7f7f7"
            ],
            [
             0.6,
             "#e6f5d0"
            ],
            [
             0.7,
             "#b8e186"
            ],
            [
             0.8,
             "#7fbc41"
            ],
            [
             0.9,
             "#4d9221"
            ],
            [
             1,
             "#276419"
            ]
           ],
           "sequential": [
            [
             0,
             "#0d0887"
            ],
            [
             0.1111111111111111,
             "#46039f"
            ],
            [
             0.2222222222222222,
             "#7201a8"
            ],
            [
             0.3333333333333333,
             "#9c179e"
            ],
            [
             0.4444444444444444,
             "#bd3786"
            ],
            [
             0.5555555555555556,
             "#d8576b"
            ],
            [
             0.6666666666666666,
             "#ed7953"
            ],
            [
             0.7777777777777778,
             "#fb9f3a"
            ],
            [
             0.8888888888888888,
             "#fdca26"
            ],
            [
             1,
             "#f0f921"
            ]
           ],
           "sequentialminus": [
            [
             0,
             "#0d0887"
            ],
            [
             0.1111111111111111,
             "#46039f"
            ],
            [
             0.2222222222222222,
             "#7201a8"
            ],
            [
             0.3333333333333333,
             "#9c179e"
            ],
            [
             0.4444444444444444,
             "#bd3786"
            ],
            [
             0.5555555555555556,
             "#d8576b"
            ],
            [
             0.6666666666666666,
             "#ed7953"
            ],
            [
             0.7777777777777778,
             "#fb9f3a"
            ],
            [
             0.8888888888888888,
             "#fdca26"
            ],
            [
             1,
             "#f0f921"
            ]
           ]
          },
          "colorway": [
           "#636efa",
           "#EF553B",
           "#00cc96",
           "#ab63fa",
           "#FFA15A",
           "#19d3f3",
           "#FF6692",
           "#B6E880",
           "#FF97FF",
           "#FECB52"
          ],
          "font": {
           "color": "#2a3f5f"
          },
          "geo": {
           "bgcolor": "white",
           "lakecolor": "white",
           "landcolor": "#E5ECF6",
           "showlakes": true,
           "showland": true,
           "subunitcolor": "white"
          },
          "hoverlabel": {
           "align": "left"
          },
          "hovermode": "closest",
          "mapbox": {
           "style": "light"
          },
          "paper_bgcolor": "white",
          "plot_bgcolor": "#E5ECF6",
          "polar": {
           "angularaxis": {
            "gridcolor": "white",
            "linecolor": "white",
            "ticks": ""
           },
           "bgcolor": "#E5ECF6",
           "radialaxis": {
            "gridcolor": "white",
            "linecolor": "white",
            "ticks": ""
           }
          },
          "scene": {
           "xaxis": {
            "backgroundcolor": "#E5ECF6",
            "gridcolor": "white",
            "gridwidth": 2,
            "linecolor": "white",
            "showbackground": true,
            "ticks": "",
            "zerolinecolor": "white"
           },
           "yaxis": {
            "backgroundcolor": "#E5ECF6",
            "gridcolor": "white",
            "gridwidth": 2,
            "linecolor": "white",
            "showbackground": true,
            "ticks": "",
            "zerolinecolor": "white"
           },
           "zaxis": {
            "backgroundcolor": "#E5ECF6",
            "gridcolor": "white",
            "gridwidth": 2,
            "linecolor": "white",
            "showbackground": true,
            "ticks": "",
            "zerolinecolor": "white"
           }
          },
          "shapedefaults": {
           "line": {
            "color": "#2a3f5f"
           }
          },
          "ternary": {
           "aaxis": {
            "gridcolor": "white",
            "linecolor": "white",
            "ticks": ""
           },
           "baxis": {
            "gridcolor": "white",
            "linecolor": "white",
            "ticks": ""
           },
           "bgcolor": "#E5ECF6",
           "caxis": {
            "gridcolor": "white",
            "linecolor": "white",
            "ticks": ""
           }
          },
          "title": {
           "x": 0.05
          },
          "xaxis": {
           "automargin": true,
           "gridcolor": "white",
           "linecolor": "white",
           "ticks": "",
           "title": {
            "standoff": 15
           },
           "zerolinecolor": "white",
           "zerolinewidth": 2
          },
          "yaxis": {
           "automargin": true,
           "gridcolor": "white",
           "linecolor": "white",
           "ticks": "",
           "title": {
            "standoff": 15
           },
           "zerolinecolor": "white",
           "zerolinewidth": 2
          }
         }
        },
        "title": {
         "text": "Evolution of the Total Yield of Wheat in USSR"
        },
        "xaxis": {
         "anchor": "y",
         "domain": [
          0,
          1
         ],
         "title": {
          "text": "Year"
         }
        },
        "yaxis": {
         "anchor": "x",
         "domain": [
          0,
          1
         ],
         "title": {
          "text": "Total Yield of Wheat (hg/ha)"
         }
        }
       }
      },
      "text/html": [
       "<div>                            <div id=\"a68c4a74-7b3f-4a93-ad86-a1ffd8eaf015\" class=\"plotly-graph-div\" style=\"height:525px; width:100%;\"></div>            <script type=\"text/javascript\">                require([\"plotly\"], function(Plotly) {                    window.PLOTLYENV=window.PLOTLYENV || {};                                    if (document.getElementById(\"a68c4a74-7b3f-4a93-ad86-a1ffd8eaf015\")) {                    Plotly.newPlot(                        \"a68c4a74-7b3f-4a93-ad86-a1ffd8eaf015\",                        [{\"hovertemplate\":\"Year=%{x}<br>Total Yield of Wheat (hg/ha)=%{y}<extra></extra>\",\"legendgroup\":\"\",\"line\":{\"color\":\"#636efa\",\"dash\":\"solid\"},\"marker\":{\"symbol\":\"circle\"},\"mode\":\"lines\",\"name\":\"\",\"orientation\":\"v\",\"showlegend\":false,\"x\":[\"1961-01-01T00:00:00\",\"1962-01-01T00:00:00\",\"1963-01-01T00:00:00\",\"1964-01-01T00:00:00\",\"1965-01-01T00:00:00\",\"1966-01-01T00:00:00\",\"1967-01-01T00:00:00\",\"1968-01-01T00:00:00\",\"1969-01-01T00:00:00\",\"1970-01-01T00:00:00\",\"1971-01-01T00:00:00\",\"1972-01-01T00:00:00\",\"1973-01-01T00:00:00\",\"1974-01-01T00:00:00\",\"1975-01-01T00:00:00\",\"1976-01-01T00:00:00\",\"1977-01-01T00:00:00\",\"1978-01-01T00:00:00\",\"1979-01-01T00:00:00\",\"1980-01-01T00:00:00\",\"1981-01-01T00:00:00\",\"1982-01-01T00:00:00\",\"1983-01-01T00:00:00\",\"1984-01-01T00:00:00\",\"1985-01-01T00:00:00\",\"1986-01-01T00:00:00\",\"1987-01-01T00:00:00\",\"1988-01-01T00:00:00\",\"1989-01-01T00:00:00\",\"1990-01-01T00:00:00\",\"1991-01-01T00:00:00\",\"1992-01-01T00:00:00\",\"1993-01-01T00:00:00\",\"1994-01-01T00:00:00\",\"1995-01-01T00:00:00\",\"1996-01-01T00:00:00\",\"1997-01-01T00:00:00\",\"1998-01-01T00:00:00\",\"1999-01-01T00:00:00\",\"2000-01-01T00:00:00\",\"2001-01-01T00:00:00\",\"2002-01-01T00:00:00\",\"2003-01-01T00:00:00\",\"2004-01-01T00:00:00\",\"2005-01-01T00:00:00\",\"2006-01-01T00:00:00\",\"2007-01-01T00:00:00\",\"2008-01-01T00:00:00\",\"2009-01-01T00:00:00\",\"2010-01-01T00:00:00\",\"2011-01-01T00:00:00\",\"2012-01-01T00:00:00\",\"2013-01-01T00:00:00\",\"2014-01-01T00:00:00\",\"2015-01-01T00:00:00\",\"2016-01-01T00:00:00\",\"2017-01-01T00:00:00\",\"2018-01-01T00:00:00\",\"2019-01-01T00:00:00\"],\"xaxis\":\"x\",\"y\":[9920.0,9869.0,7228.0,10302.0,7992.0,13504.0,10858.0,13058.0,11516.0,14372.0,14497.0,13819.0,16340.0,13218.0,10043.0,15309.0,13972.0,18053.0,14721.0,15053.0,12947.0,13925.0,14511.0,12722.0,14563.0,17767.0,16565.0,16402.0,18283.0,21148.0,15693.0,null,null,null,null,null,null,null,null,null,null,null,null,null,null,null,null,null,null,null,null,null,null,null,null,null,null,null,null],\"yaxis\":\"y\",\"type\":\"scatter\"}],                        {\"template\":{\"data\":{\"bar\":[{\"error_x\":{\"color\":\"#2a3f5f\"},\"error_y\":{\"color\":\"#2a3f5f\"},\"marker\":{\"line\":{\"color\":\"#E5ECF6\",\"width\":0.5},\"pattern\":{\"fillmode\":\"overlay\",\"size\":10,\"solidity\":0.2}},\"type\":\"bar\"}],\"barpolar\":[{\"marker\":{\"line\":{\"color\":\"#E5ECF6\",\"width\":0.5},\"pattern\":{\"fillmode\":\"overlay\",\"size\":10,\"solidity\":0.2}},\"type\":\"barpolar\"}],\"carpet\":[{\"aaxis\":{\"endlinecolor\":\"#2a3f5f\",\"gridcolor\":\"white\",\"linecolor\":\"white\",\"minorgridcolor\":\"white\",\"startlinecolor\":\"#2a3f5f\"},\"baxis\":{\"endlinecolor\":\"#2a3f5f\",\"gridcolor\":\"white\",\"linecolor\":\"white\",\"minorgridcolor\":\"white\",\"startlinecolor\":\"#2a3f5f\"},\"type\":\"carpet\"}],\"choropleth\":[{\"colorbar\":{\"outlinewidth\":0,\"ticks\":\"\"},\"type\":\"choropleth\"}],\"contour\":[{\"colorbar\":{\"outlinewidth\":0,\"ticks\":\"\"},\"colorscale\":[[0.0,\"#0d0887\"],[0.1111111111111111,\"#46039f\"],[0.2222222222222222,\"#7201a8\"],[0.3333333333333333,\"#9c179e\"],[0.4444444444444444,\"#bd3786\"],[0.5555555555555556,\"#d8576b\"],[0.6666666666666666,\"#ed7953\"],[0.7777777777777778,\"#fb9f3a\"],[0.8888888888888888,\"#fdca26\"],[1.0,\"#f0f921\"]],\"type\":\"contour\"}],\"contourcarpet\":[{\"colorbar\":{\"outlinewidth\":0,\"ticks\":\"\"},\"type\":\"contourcarpet\"}],\"heatmap\":[{\"colorbar\":{\"outlinewidth\":0,\"ticks\":\"\"},\"colorscale\":[[0.0,\"#0d0887\"],[0.1111111111111111,\"#46039f\"],[0.2222222222222222,\"#7201a8\"],[0.3333333333333333,\"#9c179e\"],[0.4444444444444444,\"#bd3786\"],[0.5555555555555556,\"#d8576b\"],[0.6666666666666666,\"#ed7953\"],[0.7777777777777778,\"#fb9f3a\"],[0.8888888888888888,\"#fdca26\"],[1.0,\"#f0f921\"]],\"type\":\"heatmap\"}],\"heatmapgl\":[{\"colorbar\":{\"outlinewidth\":0,\"ticks\":\"\"},\"colorscale\":[[0.0,\"#0d0887\"],[0.1111111111111111,\"#46039f\"],[0.2222222222222222,\"#7201a8\"],[0.3333333333333333,\"#9c179e\"],[0.4444444444444444,\"#bd3786\"],[0.5555555555555556,\"#d8576b\"],[0.6666666666666666,\"#ed7953\"],[0.7777777777777778,\"#fb9f3a\"],[0.8888888888888888,\"#fdca26\"],[1.0,\"#f0f921\"]],\"type\":\"heatmapgl\"}],\"histogram\":[{\"marker\":{\"pattern\":{\"fillmode\":\"overlay\",\"size\":10,\"solidity\":0.2}},\"type\":\"histogram\"}],\"histogram2d\":[{\"colorbar\":{\"outlinewidth\":0,\"ticks\":\"\"},\"colorscale\":[[0.0,\"#0d0887\"],[0.1111111111111111,\"#46039f\"],[0.2222222222222222,\"#7201a8\"],[0.3333333333333333,\"#9c179e\"],[0.4444444444444444,\"#bd3786\"],[0.5555555555555556,\"#d8576b\"],[0.6666666666666666,\"#ed7953\"],[0.7777777777777778,\"#fb9f3a\"],[0.8888888888888888,\"#fdca26\"],[1.0,\"#f0f921\"]],\"type\":\"histogram2d\"}],\"histogram2dcontour\":[{\"colorbar\":{\"outlinewidth\":0,\"ticks\":\"\"},\"colorscale\":[[0.0,\"#0d0887\"],[0.1111111111111111,\"#46039f\"],[0.2222222222222222,\"#7201a8\"],[0.3333333333333333,\"#9c179e\"],[0.4444444444444444,\"#bd3786\"],[0.5555555555555556,\"#d8576b\"],[0.6666666666666666,\"#ed7953\"],[0.7777777777777778,\"#fb9f3a\"],[0.8888888888888888,\"#fdca26\"],[1.0,\"#f0f921\"]],\"type\":\"histogram2dcontour\"}],\"mesh3d\":[{\"colorbar\":{\"outlinewidth\":0,\"ticks\":\"\"},\"type\":\"mesh3d\"}],\"parcoords\":[{\"line\":{\"colorbar\":{\"outlinewidth\":0,\"ticks\":\"\"}},\"type\":\"parcoords\"}],\"pie\":[{\"automargin\":true,\"type\":\"pie\"}],\"scatter\":[{\"marker\":{\"colorbar\":{\"outlinewidth\":0,\"ticks\":\"\"}},\"type\":\"scatter\"}],\"scatter3d\":[{\"line\":{\"colorbar\":{\"outlinewidth\":0,\"ticks\":\"\"}},\"marker\":{\"colorbar\":{\"outlinewidth\":0,\"ticks\":\"\"}},\"type\":\"scatter3d\"}],\"scattercarpet\":[{\"marker\":{\"colorbar\":{\"outlinewidth\":0,\"ticks\":\"\"}},\"type\":\"scattercarpet\"}],\"scattergeo\":[{\"marker\":{\"colorbar\":{\"outlinewidth\":0,\"ticks\":\"\"}},\"type\":\"scattergeo\"}],\"scattergl\":[{\"marker\":{\"colorbar\":{\"outlinewidth\":0,\"ticks\":\"\"}},\"type\":\"scattergl\"}],\"scattermapbox\":[{\"marker\":{\"colorbar\":{\"outlinewidth\":0,\"ticks\":\"\"}},\"type\":\"scattermapbox\"}],\"scatterpolar\":[{\"marker\":{\"colorbar\":{\"outlinewidth\":0,\"ticks\":\"\"}},\"type\":\"scatterpolar\"}],\"scatterpolargl\":[{\"marker\":{\"colorbar\":{\"outlinewidth\":0,\"ticks\":\"\"}},\"type\":\"scatterpolargl\"}],\"scatterternary\":[{\"marker\":{\"colorbar\":{\"outlinewidth\":0,\"ticks\":\"\"}},\"type\":\"scatterternary\"}],\"surface\":[{\"colorbar\":{\"outlinewidth\":0,\"ticks\":\"\"},\"colorscale\":[[0.0,\"#0d0887\"],[0.1111111111111111,\"#46039f\"],[0.2222222222222222,\"#7201a8\"],[0.3333333333333333,\"#9c179e\"],[0.4444444444444444,\"#bd3786\"],[0.5555555555555556,\"#d8576b\"],[0.6666666666666666,\"#ed7953\"],[0.7777777777777778,\"#fb9f3a\"],[0.8888888888888888,\"#fdca26\"],[1.0,\"#f0f921\"]],\"type\":\"surface\"}],\"table\":[{\"cells\":{\"fill\":{\"color\":\"#EBF0F8\"},\"line\":{\"color\":\"white\"}},\"header\":{\"fill\":{\"color\":\"#C8D4E3\"},\"line\":{\"color\":\"white\"}},\"type\":\"table\"}]},\"layout\":{\"annotationdefaults\":{\"arrowcolor\":\"#2a3f5f\",\"arrowhead\":0,\"arrowwidth\":1},\"autotypenumbers\":\"strict\",\"coloraxis\":{\"colorbar\":{\"outlinewidth\":0,\"ticks\":\"\"}},\"colorscale\":{\"diverging\":[[0,\"#8e0152\"],[0.1,\"#c51b7d\"],[0.2,\"#de77ae\"],[0.3,\"#f1b6da\"],[0.4,\"#fde0ef\"],[0.5,\"#f7f7f7\"],[0.6,\"#e6f5d0\"],[0.7,\"#b8e186\"],[0.8,\"#7fbc41\"],[0.9,\"#4d9221\"],[1,\"#276419\"]],\"sequential\":[[0.0,\"#0d0887\"],[0.1111111111111111,\"#46039f\"],[0.2222222222222222,\"#7201a8\"],[0.3333333333333333,\"#9c179e\"],[0.4444444444444444,\"#bd3786\"],[0.5555555555555556,\"#d8576b\"],[0.6666666666666666,\"#ed7953\"],[0.7777777777777778,\"#fb9f3a\"],[0.8888888888888888,\"#fdca26\"],[1.0,\"#f0f921\"]],\"sequentialminus\":[[0.0,\"#0d0887\"],[0.1111111111111111,\"#46039f\"],[0.2222222222222222,\"#7201a8\"],[0.3333333333333333,\"#9c179e\"],[0.4444444444444444,\"#bd3786\"],[0.5555555555555556,\"#d8576b\"],[0.6666666666666666,\"#ed7953\"],[0.7777777777777778,\"#fb9f3a\"],[0.8888888888888888,\"#fdca26\"],[1.0,\"#f0f921\"]]},\"colorway\":[\"#636efa\",\"#EF553B\",\"#00cc96\",\"#ab63fa\",\"#FFA15A\",\"#19d3f3\",\"#FF6692\",\"#B6E880\",\"#FF97FF\",\"#FECB52\"],\"font\":{\"color\":\"#2a3f5f\"},\"geo\":{\"bgcolor\":\"white\",\"lakecolor\":\"white\",\"landcolor\":\"#E5ECF6\",\"showlakes\":true,\"showland\":true,\"subunitcolor\":\"white\"},\"hoverlabel\":{\"align\":\"left\"},\"hovermode\":\"closest\",\"mapbox\":{\"style\":\"light\"},\"paper_bgcolor\":\"white\",\"plot_bgcolor\":\"#E5ECF6\",\"polar\":{\"angularaxis\":{\"gridcolor\":\"white\",\"linecolor\":\"white\",\"ticks\":\"\"},\"bgcolor\":\"#E5ECF6\",\"radialaxis\":{\"gridcolor\":\"white\",\"linecolor\":\"white\",\"ticks\":\"\"}},\"scene\":{\"xaxis\":{\"backgroundcolor\":\"#E5ECF6\",\"gridcolor\":\"white\",\"gridwidth\":2,\"linecolor\":\"white\",\"showbackground\":true,\"ticks\":\"\",\"zerolinecolor\":\"white\"},\"yaxis\":{\"backgroundcolor\":\"#E5ECF6\",\"gridcolor\":\"white\",\"gridwidth\":2,\"linecolor\":\"white\",\"showbackground\":true,\"ticks\":\"\",\"zerolinecolor\":\"white\"},\"zaxis\":{\"backgroundcolor\":\"#E5ECF6\",\"gridcolor\":\"white\",\"gridwidth\":2,\"linecolor\":\"white\",\"showbackground\":true,\"ticks\":\"\",\"zerolinecolor\":\"white\"}},\"shapedefaults\":{\"line\":{\"color\":\"#2a3f5f\"}},\"ternary\":{\"aaxis\":{\"gridcolor\":\"white\",\"linecolor\":\"white\",\"ticks\":\"\"},\"baxis\":{\"gridcolor\":\"white\",\"linecolor\":\"white\",\"ticks\":\"\"},\"bgcolor\":\"#E5ECF6\",\"caxis\":{\"gridcolor\":\"white\",\"linecolor\":\"white\",\"ticks\":\"\"}},\"title\":{\"x\":0.05},\"xaxis\":{\"automargin\":true,\"gridcolor\":\"white\",\"linecolor\":\"white\",\"ticks\":\"\",\"title\":{\"standoff\":15},\"zerolinecolor\":\"white\",\"zerolinewidth\":2},\"yaxis\":{\"automargin\":true,\"gridcolor\":\"white\",\"linecolor\":\"white\",\"ticks\":\"\",\"title\":{\"standoff\":15},\"zerolinecolor\":\"white\",\"zerolinewidth\":2}}},\"xaxis\":{\"anchor\":\"y\",\"domain\":[0.0,1.0],\"title\":{\"text\":\"Year\"}},\"yaxis\":{\"anchor\":\"x\",\"domain\":[0.0,1.0],\"title\":{\"text\":\"Total Yield of Wheat (hg/ha)\"}},\"legend\":{\"tracegroupgap\":0},\"title\":{\"text\":\"Evolution of the Total Yield of Wheat in USSR\"}},                        {\"responsive\": true}                    ).then(function(){\n",
       "                            \n",
       "var gd = document.getElementById('a68c4a74-7b3f-4a93-ad86-a1ffd8eaf015');\n",
       "var x = new MutationObserver(function (mutations, observer) {{\n",
       "        var display = window.getComputedStyle(gd).display;\n",
       "        if (!display || display === 'none') {{\n",
       "            console.log([gd, 'removed!']);\n",
       "            Plotly.purge(gd);\n",
       "            observer.disconnect();\n",
       "        }}\n",
       "}});\n",
       "\n",
       "// Listen for the removal of the full notebook cells\n",
       "var notebookContainer = gd.closest('#notebook-container');\n",
       "if (notebookContainer) {{\n",
       "    x.observe(notebookContainer, {childList: true});\n",
       "}}\n",
       "\n",
       "// Listen for the clearing of the current output cell\n",
       "var outputEl = gd.closest('.output');\n",
       "if (outputEl) {{\n",
       "    x.observe(outputEl, {childList: true});\n",
       "}}\n",
       "\n",
       "                        })                };                });            </script>        </div>"
      ]
     },
     "metadata": {},
     "output_type": "display_data"
    },
    {
     "data": {
      "application/vnd.plotly.v1+json": {
       "config": {
        "plotlyServerURL": "https://plot.ly"
       },
       "data": [
        {
         "hovertemplate": "Year=%{x}<br>Total Production of Wheat (tonnes)=%{y}<extra></extra>",
         "legendgroup": "",
         "line": {
          "color": "#636efa",
          "dash": "solid"
         },
         "marker": {
          "symbol": "circle"
         },
         "mode": "lines",
         "name": "",
         "orientation": "v",
         "showlegend": false,
         "type": "scatter",
         "x": [
          "1961-01-01T00:00:00",
          "1962-01-01T00:00:00",
          "1963-01-01T00:00:00",
          "1964-01-01T00:00:00",
          "1965-01-01T00:00:00",
          "1966-01-01T00:00:00",
          "1967-01-01T00:00:00",
          "1968-01-01T00:00:00",
          "1969-01-01T00:00:00",
          "1970-01-01T00:00:00",
          "1971-01-01T00:00:00",
          "1972-01-01T00:00:00",
          "1973-01-01T00:00:00",
          "1974-01-01T00:00:00",
          "1975-01-01T00:00:00",
          "1976-01-01T00:00:00",
          "1977-01-01T00:00:00",
          "1978-01-01T00:00:00",
          "1979-01-01T00:00:00",
          "1980-01-01T00:00:00",
          "1981-01-01T00:00:00",
          "1982-01-01T00:00:00",
          "1983-01-01T00:00:00",
          "1984-01-01T00:00:00",
          "1985-01-01T00:00:00",
          "1986-01-01T00:00:00",
          "1987-01-01T00:00:00",
          "1988-01-01T00:00:00",
          "1989-01-01T00:00:00",
          "1990-01-01T00:00:00",
          "1991-01-01T00:00:00",
          "1992-01-01T00:00:00",
          "1993-01-01T00:00:00",
          "1994-01-01T00:00:00",
          "1995-01-01T00:00:00",
          "1996-01-01T00:00:00",
          "1997-01-01T00:00:00",
          "1998-01-01T00:00:00",
          "1999-01-01T00:00:00",
          "2000-01-01T00:00:00",
          "2001-01-01T00:00:00",
          "2002-01-01T00:00:00",
          "2003-01-01T00:00:00",
          "2004-01-01T00:00:00",
          "2005-01-01T00:00:00",
          "2006-01-01T00:00:00",
          "2007-01-01T00:00:00",
          "2008-01-01T00:00:00",
          "2009-01-01T00:00:00",
          "2010-01-01T00:00:00",
          "2011-01-01T00:00:00",
          "2012-01-01T00:00:00",
          "2013-01-01T00:00:00",
          "2014-01-01T00:00:00",
          "2015-01-01T00:00:00",
          "2016-01-01T00:00:00",
          "2017-01-01T00:00:00",
          "2018-01-01T00:00:00",
          "2019-01-01T00:00:00"
         ],
         "xaxis": "x",
         "y": [
          62494000,
          66530000,
          46700000,
          69935008,
          56105008,
          94469008,
          72774000,
          87789008,
          75122000,
          93750000,
          92834000,
          80833008,
          103196000,
          78878000,
          62250000,
          91086000,
          86668000,
          113552000,
          84886000,
          92500000,
          76650000,
          79757008,
          73748000,
          64960000,
          73200000,
          86573008,
          77331008,
          78826000,
          87162000,
          101888496,
          71991008,
          null,
          null,
          null,
          null,
          null,
          null,
          null,
          null,
          null,
          null,
          null,
          null,
          null,
          null,
          null,
          null,
          null,
          null,
          null,
          null,
          null,
          null,
          null,
          null,
          null,
          null,
          null,
          null
         ],
         "yaxis": "y"
        }
       ],
       "layout": {
        "legend": {
         "tracegroupgap": 0
        },
        "template": {
         "data": {
          "bar": [
           {
            "error_x": {
             "color": "#2a3f5f"
            },
            "error_y": {
             "color": "#2a3f5f"
            },
            "marker": {
             "line": {
              "color": "#E5ECF6",
              "width": 0.5
             },
             "pattern": {
              "fillmode": "overlay",
              "size": 10,
              "solidity": 0.2
             }
            },
            "type": "bar"
           }
          ],
          "barpolar": [
           {
            "marker": {
             "line": {
              "color": "#E5ECF6",
              "width": 0.5
             },
             "pattern": {
              "fillmode": "overlay",
              "size": 10,
              "solidity": 0.2
             }
            },
            "type": "barpolar"
           }
          ],
          "carpet": [
           {
            "aaxis": {
             "endlinecolor": "#2a3f5f",
             "gridcolor": "white",
             "linecolor": "white",
             "minorgridcolor": "white",
             "startlinecolor": "#2a3f5f"
            },
            "baxis": {
             "endlinecolor": "#2a3f5f",
             "gridcolor": "white",
             "linecolor": "white",
             "minorgridcolor": "white",
             "startlinecolor": "#2a3f5f"
            },
            "type": "carpet"
           }
          ],
          "choropleth": [
           {
            "colorbar": {
             "outlinewidth": 0,
             "ticks": ""
            },
            "type": "choropleth"
           }
          ],
          "contour": [
           {
            "colorbar": {
             "outlinewidth": 0,
             "ticks": ""
            },
            "colorscale": [
             [
              0,
              "#0d0887"
             ],
             [
              0.1111111111111111,
              "#46039f"
             ],
             [
              0.2222222222222222,
              "#7201a8"
             ],
             [
              0.3333333333333333,
              "#9c179e"
             ],
             [
              0.4444444444444444,
              "#bd3786"
             ],
             [
              0.5555555555555556,
              "#d8576b"
             ],
             [
              0.6666666666666666,
              "#ed7953"
             ],
             [
              0.7777777777777778,
              "#fb9f3a"
             ],
             [
              0.8888888888888888,
              "#fdca26"
             ],
             [
              1,
              "#f0f921"
             ]
            ],
            "type": "contour"
           }
          ],
          "contourcarpet": [
           {
            "colorbar": {
             "outlinewidth": 0,
             "ticks": ""
            },
            "type": "contourcarpet"
           }
          ],
          "heatmap": [
           {
            "colorbar": {
             "outlinewidth": 0,
             "ticks": ""
            },
            "colorscale": [
             [
              0,
              "#0d0887"
             ],
             [
              0.1111111111111111,
              "#46039f"
             ],
             [
              0.2222222222222222,
              "#7201a8"
             ],
             [
              0.3333333333333333,
              "#9c179e"
             ],
             [
              0.4444444444444444,
              "#bd3786"
             ],
             [
              0.5555555555555556,
              "#d8576b"
             ],
             [
              0.6666666666666666,
              "#ed7953"
             ],
             [
              0.7777777777777778,
              "#fb9f3a"
             ],
             [
              0.8888888888888888,
              "#fdca26"
             ],
             [
              1,
              "#f0f921"
             ]
            ],
            "type": "heatmap"
           }
          ],
          "heatmapgl": [
           {
            "colorbar": {
             "outlinewidth": 0,
             "ticks": ""
            },
            "colorscale": [
             [
              0,
              "#0d0887"
             ],
             [
              0.1111111111111111,
              "#46039f"
             ],
             [
              0.2222222222222222,
              "#7201a8"
             ],
             [
              0.3333333333333333,
              "#9c179e"
             ],
             [
              0.4444444444444444,
              "#bd3786"
             ],
             [
              0.5555555555555556,
              "#d8576b"
             ],
             [
              0.6666666666666666,
              "#ed7953"
             ],
             [
              0.7777777777777778,
              "#fb9f3a"
             ],
             [
              0.8888888888888888,
              "#fdca26"
             ],
             [
              1,
              "#f0f921"
             ]
            ],
            "type": "heatmapgl"
           }
          ],
          "histogram": [
           {
            "marker": {
             "pattern": {
              "fillmode": "overlay",
              "size": 10,
              "solidity": 0.2
             }
            },
            "type": "histogram"
           }
          ],
          "histogram2d": [
           {
            "colorbar": {
             "outlinewidth": 0,
             "ticks": ""
            },
            "colorscale": [
             [
              0,
              "#0d0887"
             ],
             [
              0.1111111111111111,
              "#46039f"
             ],
             [
              0.2222222222222222,
              "#7201a8"
             ],
             [
              0.3333333333333333,
              "#9c179e"
             ],
             [
              0.4444444444444444,
              "#bd3786"
             ],
             [
              0.5555555555555556,
              "#d8576b"
             ],
             [
              0.6666666666666666,
              "#ed7953"
             ],
             [
              0.7777777777777778,
              "#fb9f3a"
             ],
             [
              0.8888888888888888,
              "#fdca26"
             ],
             [
              1,
              "#f0f921"
             ]
            ],
            "type": "histogram2d"
           }
          ],
          "histogram2dcontour": [
           {
            "colorbar": {
             "outlinewidth": 0,
             "ticks": ""
            },
            "colorscale": [
             [
              0,
              "#0d0887"
             ],
             [
              0.1111111111111111,
              "#46039f"
             ],
             [
              0.2222222222222222,
              "#7201a8"
             ],
             [
              0.3333333333333333,
              "#9c179e"
             ],
             [
              0.4444444444444444,
              "#bd3786"
             ],
             [
              0.5555555555555556,
              "#d8576b"
             ],
             [
              0.6666666666666666,
              "#ed7953"
             ],
             [
              0.7777777777777778,
              "#fb9f3a"
             ],
             [
              0.8888888888888888,
              "#fdca26"
             ],
             [
              1,
              "#f0f921"
             ]
            ],
            "type": "histogram2dcontour"
           }
          ],
          "mesh3d": [
           {
            "colorbar": {
             "outlinewidth": 0,
             "ticks": ""
            },
            "type": "mesh3d"
           }
          ],
          "parcoords": [
           {
            "line": {
             "colorbar": {
              "outlinewidth": 0,
              "ticks": ""
             }
            },
            "type": "parcoords"
           }
          ],
          "pie": [
           {
            "automargin": true,
            "type": "pie"
           }
          ],
          "scatter": [
           {
            "marker": {
             "colorbar": {
              "outlinewidth": 0,
              "ticks": ""
             }
            },
            "type": "scatter"
           }
          ],
          "scatter3d": [
           {
            "line": {
             "colorbar": {
              "outlinewidth": 0,
              "ticks": ""
             }
            },
            "marker": {
             "colorbar": {
              "outlinewidth": 0,
              "ticks": ""
             }
            },
            "type": "scatter3d"
           }
          ],
          "scattercarpet": [
           {
            "marker": {
             "colorbar": {
              "outlinewidth": 0,
              "ticks": ""
             }
            },
            "type": "scattercarpet"
           }
          ],
          "scattergeo": [
           {
            "marker": {
             "colorbar": {
              "outlinewidth": 0,
              "ticks": ""
             }
            },
            "type": "scattergeo"
           }
          ],
          "scattergl": [
           {
            "marker": {
             "colorbar": {
              "outlinewidth": 0,
              "ticks": ""
             }
            },
            "type": "scattergl"
           }
          ],
          "scattermapbox": [
           {
            "marker": {
             "colorbar": {
              "outlinewidth": 0,
              "ticks": ""
             }
            },
            "type": "scattermapbox"
           }
          ],
          "scatterpolar": [
           {
            "marker": {
             "colorbar": {
              "outlinewidth": 0,
              "ticks": ""
             }
            },
            "type": "scatterpolar"
           }
          ],
          "scatterpolargl": [
           {
            "marker": {
             "colorbar": {
              "outlinewidth": 0,
              "ticks": ""
             }
            },
            "type": "scatterpolargl"
           }
          ],
          "scatterternary": [
           {
            "marker": {
             "colorbar": {
              "outlinewidth": 0,
              "ticks": ""
             }
            },
            "type": "scatterternary"
           }
          ],
          "surface": [
           {
            "colorbar": {
             "outlinewidth": 0,
             "ticks": ""
            },
            "colorscale": [
             [
              0,
              "#0d0887"
             ],
             [
              0.1111111111111111,
              "#46039f"
             ],
             [
              0.2222222222222222,
              "#7201a8"
             ],
             [
              0.3333333333333333,
              "#9c179e"
             ],
             [
              0.4444444444444444,
              "#bd3786"
             ],
             [
              0.5555555555555556,
              "#d8576b"
             ],
             [
              0.6666666666666666,
              "#ed7953"
             ],
             [
              0.7777777777777778,
              "#fb9f3a"
             ],
             [
              0.8888888888888888,
              "#fdca26"
             ],
             [
              1,
              "#f0f921"
             ]
            ],
            "type": "surface"
           }
          ],
          "table": [
           {
            "cells": {
             "fill": {
              "color": "#EBF0F8"
             },
             "line": {
              "color": "white"
             }
            },
            "header": {
             "fill": {
              "color": "#C8D4E3"
             },
             "line": {
              "color": "white"
             }
            },
            "type": "table"
           }
          ]
         },
         "layout": {
          "annotationdefaults": {
           "arrowcolor": "#2a3f5f",
           "arrowhead": 0,
           "arrowwidth": 1
          },
          "autotypenumbers": "strict",
          "coloraxis": {
           "colorbar": {
            "outlinewidth": 0,
            "ticks": ""
           }
          },
          "colorscale": {
           "diverging": [
            [
             0,
             "#8e0152"
            ],
            [
             0.1,
             "#c51b7d"
            ],
            [
             0.2,
             "#de77ae"
            ],
            [
             0.3,
             "#f1b6da"
            ],
            [
             0.4,
             "#fde0ef"
            ],
            [
             0.5,
             "#f7f7f7"
            ],
            [
             0.6,
             "#e6f5d0"
            ],
            [
             0.7,
             "#b8e186"
            ],
            [
             0.8,
             "#7fbc41"
            ],
            [
             0.9,
             "#4d9221"
            ],
            [
             1,
             "#276419"
            ]
           ],
           "sequential": [
            [
             0,
             "#0d0887"
            ],
            [
             0.1111111111111111,
             "#46039f"
            ],
            [
             0.2222222222222222,
             "#7201a8"
            ],
            [
             0.3333333333333333,
             "#9c179e"
            ],
            [
             0.4444444444444444,
             "#bd3786"
            ],
            [
             0.5555555555555556,
             "#d8576b"
            ],
            [
             0.6666666666666666,
             "#ed7953"
            ],
            [
             0.7777777777777778,
             "#fb9f3a"
            ],
            [
             0.8888888888888888,
             "#fdca26"
            ],
            [
             1,
             "#f0f921"
            ]
           ],
           "sequentialminus": [
            [
             0,
             "#0d0887"
            ],
            [
             0.1111111111111111,
             "#46039f"
            ],
            [
             0.2222222222222222,
             "#7201a8"
            ],
            [
             0.3333333333333333,
             "#9c179e"
            ],
            [
             0.4444444444444444,
             "#bd3786"
            ],
            [
             0.5555555555555556,
             "#d8576b"
            ],
            [
             0.6666666666666666,
             "#ed7953"
            ],
            [
             0.7777777777777778,
             "#fb9f3a"
            ],
            [
             0.8888888888888888,
             "#fdca26"
            ],
            [
             1,
             "#f0f921"
            ]
           ]
          },
          "colorway": [
           "#636efa",
           "#EF553B",
           "#00cc96",
           "#ab63fa",
           "#FFA15A",
           "#19d3f3",
           "#FF6692",
           "#B6E880",
           "#FF97FF",
           "#FECB52"
          ],
          "font": {
           "color": "#2a3f5f"
          },
          "geo": {
           "bgcolor": "white",
           "lakecolor": "white",
           "landcolor": "#E5ECF6",
           "showlakes": true,
           "showland": true,
           "subunitcolor": "white"
          },
          "hoverlabel": {
           "align": "left"
          },
          "hovermode": "closest",
          "mapbox": {
           "style": "light"
          },
          "paper_bgcolor": "white",
          "plot_bgcolor": "#E5ECF6",
          "polar": {
           "angularaxis": {
            "gridcolor": "white",
            "linecolor": "white",
            "ticks": ""
           },
           "bgcolor": "#E5ECF6",
           "radialaxis": {
            "gridcolor": "white",
            "linecolor": "white",
            "ticks": ""
           }
          },
          "scene": {
           "xaxis": {
            "backgroundcolor": "#E5ECF6",
            "gridcolor": "white",
            "gridwidth": 2,
            "linecolor": "white",
            "showbackground": true,
            "ticks": "",
            "zerolinecolor": "white"
           },
           "yaxis": {
            "backgroundcolor": "#E5ECF6",
            "gridcolor": "white",
            "gridwidth": 2,
            "linecolor": "white",
            "showbackground": true,
            "ticks": "",
            "zerolinecolor": "white"
           },
           "zaxis": {
            "backgroundcolor": "#E5ECF6",
            "gridcolor": "white",
            "gridwidth": 2,
            "linecolor": "white",
            "showbackground": true,
            "ticks": "",
            "zerolinecolor": "white"
           }
          },
          "shapedefaults": {
           "line": {
            "color": "#2a3f5f"
           }
          },
          "ternary": {
           "aaxis": {
            "gridcolor": "white",
            "linecolor": "white",
            "ticks": ""
           },
           "baxis": {
            "gridcolor": "white",
            "linecolor": "white",
            "ticks": ""
           },
           "bgcolor": "#E5ECF6",
           "caxis": {
            "gridcolor": "white",
            "linecolor": "white",
            "ticks": ""
           }
          },
          "title": {
           "x": 0.05
          },
          "xaxis": {
           "automargin": true,
           "gridcolor": "white",
           "linecolor": "white",
           "ticks": "",
           "title": {
            "standoff": 15
           },
           "zerolinecolor": "white",
           "zerolinewidth": 2
          },
          "yaxis": {
           "automargin": true,
           "gridcolor": "white",
           "linecolor": "white",
           "ticks": "",
           "title": {
            "standoff": 15
           },
           "zerolinecolor": "white",
           "zerolinewidth": 2
          }
         }
        },
        "title": {
         "text": "Evolution of the Total Production of Wheat in USSR"
        },
        "xaxis": {
         "anchor": "y",
         "domain": [
          0,
          1
         ],
         "title": {
          "text": "Year"
         }
        },
        "yaxis": {
         "anchor": "x",
         "domain": [
          0,
          1
         ],
         "title": {
          "text": "Total Production of Wheat (tonnes)"
         }
        }
       }
      },
      "text/html": [
       "<div>                            <div id=\"7f7c2af4-823c-4678-99c8-ddb14bb8511f\" class=\"plotly-graph-div\" style=\"height:525px; width:100%;\"></div>            <script type=\"text/javascript\">                require([\"plotly\"], function(Plotly) {                    window.PLOTLYENV=window.PLOTLYENV || {};                                    if (document.getElementById(\"7f7c2af4-823c-4678-99c8-ddb14bb8511f\")) {                    Plotly.newPlot(                        \"7f7c2af4-823c-4678-99c8-ddb14bb8511f\",                        [{\"hovertemplate\":\"Year=%{x}<br>Total Production of Wheat (tonnes)=%{y}<extra></extra>\",\"legendgroup\":\"\",\"line\":{\"color\":\"#636efa\",\"dash\":\"solid\"},\"marker\":{\"symbol\":\"circle\"},\"mode\":\"lines\",\"name\":\"\",\"orientation\":\"v\",\"showlegend\":false,\"x\":[\"1961-01-01T00:00:00\",\"1962-01-01T00:00:00\",\"1963-01-01T00:00:00\",\"1964-01-01T00:00:00\",\"1965-01-01T00:00:00\",\"1966-01-01T00:00:00\",\"1967-01-01T00:00:00\",\"1968-01-01T00:00:00\",\"1969-01-01T00:00:00\",\"1970-01-01T00:00:00\",\"1971-01-01T00:00:00\",\"1972-01-01T00:00:00\",\"1973-01-01T00:00:00\",\"1974-01-01T00:00:00\",\"1975-01-01T00:00:00\",\"1976-01-01T00:00:00\",\"1977-01-01T00:00:00\",\"1978-01-01T00:00:00\",\"1979-01-01T00:00:00\",\"1980-01-01T00:00:00\",\"1981-01-01T00:00:00\",\"1982-01-01T00:00:00\",\"1983-01-01T00:00:00\",\"1984-01-01T00:00:00\",\"1985-01-01T00:00:00\",\"1986-01-01T00:00:00\",\"1987-01-01T00:00:00\",\"1988-01-01T00:00:00\",\"1989-01-01T00:00:00\",\"1990-01-01T00:00:00\",\"1991-01-01T00:00:00\",\"1992-01-01T00:00:00\",\"1993-01-01T00:00:00\",\"1994-01-01T00:00:00\",\"1995-01-01T00:00:00\",\"1996-01-01T00:00:00\",\"1997-01-01T00:00:00\",\"1998-01-01T00:00:00\",\"1999-01-01T00:00:00\",\"2000-01-01T00:00:00\",\"2001-01-01T00:00:00\",\"2002-01-01T00:00:00\",\"2003-01-01T00:00:00\",\"2004-01-01T00:00:00\",\"2005-01-01T00:00:00\",\"2006-01-01T00:00:00\",\"2007-01-01T00:00:00\",\"2008-01-01T00:00:00\",\"2009-01-01T00:00:00\",\"2010-01-01T00:00:00\",\"2011-01-01T00:00:00\",\"2012-01-01T00:00:00\",\"2013-01-01T00:00:00\",\"2014-01-01T00:00:00\",\"2015-01-01T00:00:00\",\"2016-01-01T00:00:00\",\"2017-01-01T00:00:00\",\"2018-01-01T00:00:00\",\"2019-01-01T00:00:00\"],\"xaxis\":\"x\",\"y\":[62494000.0,66530000.0,46700000.0,69935008.0,56105008.0,94469008.0,72774000.0,87789008.0,75122000.0,93750000.0,92834000.0,80833008.0,103196000.0,78878000.0,62250000.0,91086000.0,86668000.0,113552000.0,84886000.0,92500000.0,76650000.0,79757008.0,73748000.0,64960000.0,73200000.0,86573008.0,77331008.0,78826000.0,87162000.0,101888496.0,71991008.0,null,null,null,null,null,null,null,null,null,null,null,null,null,null,null,null,null,null,null,null,null,null,null,null,null,null,null,null],\"yaxis\":\"y\",\"type\":\"scatter\"}],                        {\"template\":{\"data\":{\"bar\":[{\"error_x\":{\"color\":\"#2a3f5f\"},\"error_y\":{\"color\":\"#2a3f5f\"},\"marker\":{\"line\":{\"color\":\"#E5ECF6\",\"width\":0.5},\"pattern\":{\"fillmode\":\"overlay\",\"size\":10,\"solidity\":0.2}},\"type\":\"bar\"}],\"barpolar\":[{\"marker\":{\"line\":{\"color\":\"#E5ECF6\",\"width\":0.5},\"pattern\":{\"fillmode\":\"overlay\",\"size\":10,\"solidity\":0.2}},\"type\":\"barpolar\"}],\"carpet\":[{\"aaxis\":{\"endlinecolor\":\"#2a3f5f\",\"gridcolor\":\"white\",\"linecolor\":\"white\",\"minorgridcolor\":\"white\",\"startlinecolor\":\"#2a3f5f\"},\"baxis\":{\"endlinecolor\":\"#2a3f5f\",\"gridcolor\":\"white\",\"linecolor\":\"white\",\"minorgridcolor\":\"white\",\"startlinecolor\":\"#2a3f5f\"},\"type\":\"carpet\"}],\"choropleth\":[{\"colorbar\":{\"outlinewidth\":0,\"ticks\":\"\"},\"type\":\"choropleth\"}],\"contour\":[{\"colorbar\":{\"outlinewidth\":0,\"ticks\":\"\"},\"colorscale\":[[0.0,\"#0d0887\"],[0.1111111111111111,\"#46039f\"],[0.2222222222222222,\"#7201a8\"],[0.3333333333333333,\"#9c179e\"],[0.4444444444444444,\"#bd3786\"],[0.5555555555555556,\"#d8576b\"],[0.6666666666666666,\"#ed7953\"],[0.7777777777777778,\"#fb9f3a\"],[0.8888888888888888,\"#fdca26\"],[1.0,\"#f0f921\"]],\"type\":\"contour\"}],\"contourcarpet\":[{\"colorbar\":{\"outlinewidth\":0,\"ticks\":\"\"},\"type\":\"contourcarpet\"}],\"heatmap\":[{\"colorbar\":{\"outlinewidth\":0,\"ticks\":\"\"},\"colorscale\":[[0.0,\"#0d0887\"],[0.1111111111111111,\"#46039f\"],[0.2222222222222222,\"#7201a8\"],[0.3333333333333333,\"#9c179e\"],[0.4444444444444444,\"#bd3786\"],[0.5555555555555556,\"#d8576b\"],[0.6666666666666666,\"#ed7953\"],[0.7777777777777778,\"#fb9f3a\"],[0.8888888888888888,\"#fdca26\"],[1.0,\"#f0f921\"]],\"type\":\"heatmap\"}],\"heatmapgl\":[{\"colorbar\":{\"outlinewidth\":0,\"ticks\":\"\"},\"colorscale\":[[0.0,\"#0d0887\"],[0.1111111111111111,\"#46039f\"],[0.2222222222222222,\"#7201a8\"],[0.3333333333333333,\"#9c179e\"],[0.4444444444444444,\"#bd3786\"],[0.5555555555555556,\"#d8576b\"],[0.6666666666666666,\"#ed7953\"],[0.7777777777777778,\"#fb9f3a\"],[0.8888888888888888,\"#fdca26\"],[1.0,\"#f0f921\"]],\"type\":\"heatmapgl\"}],\"histogram\":[{\"marker\":{\"pattern\":{\"fillmode\":\"overlay\",\"size\":10,\"solidity\":0.2}},\"type\":\"histogram\"}],\"histogram2d\":[{\"colorbar\":{\"outlinewidth\":0,\"ticks\":\"\"},\"colorscale\":[[0.0,\"#0d0887\"],[0.1111111111111111,\"#46039f\"],[0.2222222222222222,\"#7201a8\"],[0.3333333333333333,\"#9c179e\"],[0.4444444444444444,\"#bd3786\"],[0.5555555555555556,\"#d8576b\"],[0.6666666666666666,\"#ed7953\"],[0.7777777777777778,\"#fb9f3a\"],[0.8888888888888888,\"#fdca26\"],[1.0,\"#f0f921\"]],\"type\":\"histogram2d\"}],\"histogram2dcontour\":[{\"colorbar\":{\"outlinewidth\":0,\"ticks\":\"\"},\"colorscale\":[[0.0,\"#0d0887\"],[0.1111111111111111,\"#46039f\"],[0.2222222222222222,\"#7201a8\"],[0.3333333333333333,\"#9c179e\"],[0.4444444444444444,\"#bd3786\"],[0.5555555555555556,\"#d8576b\"],[0.6666666666666666,\"#ed7953\"],[0.7777777777777778,\"#fb9f3a\"],[0.8888888888888888,\"#fdca26\"],[1.0,\"#f0f921\"]],\"type\":\"histogram2dcontour\"}],\"mesh3d\":[{\"colorbar\":{\"outlinewidth\":0,\"ticks\":\"\"},\"type\":\"mesh3d\"}],\"parcoords\":[{\"line\":{\"colorbar\":{\"outlinewidth\":0,\"ticks\":\"\"}},\"type\":\"parcoords\"}],\"pie\":[{\"automargin\":true,\"type\":\"pie\"}],\"scatter\":[{\"marker\":{\"colorbar\":{\"outlinewidth\":0,\"ticks\":\"\"}},\"type\":\"scatter\"}],\"scatter3d\":[{\"line\":{\"colorbar\":{\"outlinewidth\":0,\"ticks\":\"\"}},\"marker\":{\"colorbar\":{\"outlinewidth\":0,\"ticks\":\"\"}},\"type\":\"scatter3d\"}],\"scattercarpet\":[{\"marker\":{\"colorbar\":{\"outlinewidth\":0,\"ticks\":\"\"}},\"type\":\"scattercarpet\"}],\"scattergeo\":[{\"marker\":{\"colorbar\":{\"outlinewidth\":0,\"ticks\":\"\"}},\"type\":\"scattergeo\"}],\"scattergl\":[{\"marker\":{\"colorbar\":{\"outlinewidth\":0,\"ticks\":\"\"}},\"type\":\"scattergl\"}],\"scattermapbox\":[{\"marker\":{\"colorbar\":{\"outlinewidth\":0,\"ticks\":\"\"}},\"type\":\"scattermapbox\"}],\"scatterpolar\":[{\"marker\":{\"colorbar\":{\"outlinewidth\":0,\"ticks\":\"\"}},\"type\":\"scatterpolar\"}],\"scatterpolargl\":[{\"marker\":{\"colorbar\":{\"outlinewidth\":0,\"ticks\":\"\"}},\"type\":\"scatterpolargl\"}],\"scatterternary\":[{\"marker\":{\"colorbar\":{\"outlinewidth\":0,\"ticks\":\"\"}},\"type\":\"scatterternary\"}],\"surface\":[{\"colorbar\":{\"outlinewidth\":0,\"ticks\":\"\"},\"colorscale\":[[0.0,\"#0d0887\"],[0.1111111111111111,\"#46039f\"],[0.2222222222222222,\"#7201a8\"],[0.3333333333333333,\"#9c179e\"],[0.4444444444444444,\"#bd3786\"],[0.5555555555555556,\"#d8576b\"],[0.6666666666666666,\"#ed7953\"],[0.7777777777777778,\"#fb9f3a\"],[0.8888888888888888,\"#fdca26\"],[1.0,\"#f0f921\"]],\"type\":\"surface\"}],\"table\":[{\"cells\":{\"fill\":{\"color\":\"#EBF0F8\"},\"line\":{\"color\":\"white\"}},\"header\":{\"fill\":{\"color\":\"#C8D4E3\"},\"line\":{\"color\":\"white\"}},\"type\":\"table\"}]},\"layout\":{\"annotationdefaults\":{\"arrowcolor\":\"#2a3f5f\",\"arrowhead\":0,\"arrowwidth\":1},\"autotypenumbers\":\"strict\",\"coloraxis\":{\"colorbar\":{\"outlinewidth\":0,\"ticks\":\"\"}},\"colorscale\":{\"diverging\":[[0,\"#8e0152\"],[0.1,\"#c51b7d\"],[0.2,\"#de77ae\"],[0.3,\"#f1b6da\"],[0.4,\"#fde0ef\"],[0.5,\"#f7f7f7\"],[0.6,\"#e6f5d0\"],[0.7,\"#b8e186\"],[0.8,\"#7fbc41\"],[0.9,\"#4d9221\"],[1,\"#276419\"]],\"sequential\":[[0.0,\"#0d0887\"],[0.1111111111111111,\"#46039f\"],[0.2222222222222222,\"#7201a8\"],[0.3333333333333333,\"#9c179e\"],[0.4444444444444444,\"#bd3786\"],[0.5555555555555556,\"#d8576b\"],[0.6666666666666666,\"#ed7953\"],[0.7777777777777778,\"#fb9f3a\"],[0.8888888888888888,\"#fdca26\"],[1.0,\"#f0f921\"]],\"sequentialminus\":[[0.0,\"#0d0887\"],[0.1111111111111111,\"#46039f\"],[0.2222222222222222,\"#7201a8\"],[0.3333333333333333,\"#9c179e\"],[0.4444444444444444,\"#bd3786\"],[0.5555555555555556,\"#d8576b\"],[0.6666666666666666,\"#ed7953\"],[0.7777777777777778,\"#fb9f3a\"],[0.8888888888888888,\"#fdca26\"],[1.0,\"#f0f921\"]]},\"colorway\":[\"#636efa\",\"#EF553B\",\"#00cc96\",\"#ab63fa\",\"#FFA15A\",\"#19d3f3\",\"#FF6692\",\"#B6E880\",\"#FF97FF\",\"#FECB52\"],\"font\":{\"color\":\"#2a3f5f\"},\"geo\":{\"bgcolor\":\"white\",\"lakecolor\":\"white\",\"landcolor\":\"#E5ECF6\",\"showlakes\":true,\"showland\":true,\"subunitcolor\":\"white\"},\"hoverlabel\":{\"align\":\"left\"},\"hovermode\":\"closest\",\"mapbox\":{\"style\":\"light\"},\"paper_bgcolor\":\"white\",\"plot_bgcolor\":\"#E5ECF6\",\"polar\":{\"angularaxis\":{\"gridcolor\":\"white\",\"linecolor\":\"white\",\"ticks\":\"\"},\"bgcolor\":\"#E5ECF6\",\"radialaxis\":{\"gridcolor\":\"white\",\"linecolor\":\"white\",\"ticks\":\"\"}},\"scene\":{\"xaxis\":{\"backgroundcolor\":\"#E5ECF6\",\"gridcolor\":\"white\",\"gridwidth\":2,\"linecolor\":\"white\",\"showbackground\":true,\"ticks\":\"\",\"zerolinecolor\":\"white\"},\"yaxis\":{\"backgroundcolor\":\"#E5ECF6\",\"gridcolor\":\"white\",\"gridwidth\":2,\"linecolor\":\"white\",\"showbackground\":true,\"ticks\":\"\",\"zerolinecolor\":\"white\"},\"zaxis\":{\"backgroundcolor\":\"#E5ECF6\",\"gridcolor\":\"white\",\"gridwidth\":2,\"linecolor\":\"white\",\"showbackground\":true,\"ticks\":\"\",\"zerolinecolor\":\"white\"}},\"shapedefaults\":{\"line\":{\"color\":\"#2a3f5f\"}},\"ternary\":{\"aaxis\":{\"gridcolor\":\"white\",\"linecolor\":\"white\",\"ticks\":\"\"},\"baxis\":{\"gridcolor\":\"white\",\"linecolor\":\"white\",\"ticks\":\"\"},\"bgcolor\":\"#E5ECF6\",\"caxis\":{\"gridcolor\":\"white\",\"linecolor\":\"white\",\"ticks\":\"\"}},\"title\":{\"x\":0.05},\"xaxis\":{\"automargin\":true,\"gridcolor\":\"white\",\"linecolor\":\"white\",\"ticks\":\"\",\"title\":{\"standoff\":15},\"zerolinecolor\":\"white\",\"zerolinewidth\":2},\"yaxis\":{\"automargin\":true,\"gridcolor\":\"white\",\"linecolor\":\"white\",\"ticks\":\"\",\"title\":{\"standoff\":15},\"zerolinecolor\":\"white\",\"zerolinewidth\":2}}},\"xaxis\":{\"anchor\":\"y\",\"domain\":[0.0,1.0],\"title\":{\"text\":\"Year\"}},\"yaxis\":{\"anchor\":\"x\",\"domain\":[0.0,1.0],\"title\":{\"text\":\"Total Production of Wheat (tonnes)\"}},\"legend\":{\"tracegroupgap\":0},\"title\":{\"text\":\"Evolution of the Total Production of Wheat in USSR\"}},                        {\"responsive\": true}                    ).then(function(){\n",
       "                            \n",
       "var gd = document.getElementById('7f7c2af4-823c-4678-99c8-ddb14bb8511f');\n",
       "var x = new MutationObserver(function (mutations, observer) {{\n",
       "        var display = window.getComputedStyle(gd).display;\n",
       "        if (!display || display === 'none') {{\n",
       "            console.log([gd, 'removed!']);\n",
       "            Plotly.purge(gd);\n",
       "            observer.disconnect();\n",
       "        }}\n",
       "}});\n",
       "\n",
       "// Listen for the removal of the full notebook cells\n",
       "var notebookContainer = gd.closest('#notebook-container');\n",
       "if (notebookContainer) {{\n",
       "    x.observe(notebookContainer, {childList: true});\n",
       "}}\n",
       "\n",
       "// Listen for the clearing of the current output cell\n",
       "var outputEl = gd.closest('.output');\n",
       "if (outputEl) {{\n",
       "    x.observe(outputEl, {childList: true});\n",
       "}}\n",
       "\n",
       "                        })                };                });            </script>        </div>"
      ]
     },
     "metadata": {},
     "output_type": "display_data"
    }
   ],
   "source": [
    "show_data(crops_all,\"Europe\",\"USSR\",\"Wheat\",\"ALL\",\"1986\")"
   ]
  },
  {
   "cell_type": "markdown",
   "id": "a52dfc95",
   "metadata": {},
   "source": [
    "**Let's have a lot at some first correlations**"
   ]
  },
  {
   "cell_type": "code",
   "execution_count": null,
   "id": "53536950",
   "metadata": {},
   "outputs": [],
   "source": [
    "# Let's have a look at some first correlations \n",
    "\n",
    "#corr_matrix = crops_main_num_var_df.corr()\n",
    "#corr_matrix"
   ]
  },
  {
   "cell_type": "code",
   "execution_count": null,
   "id": "1175346a",
   "metadata": {},
   "outputs": [],
   "source": [
    "#corr_matrix = players_22_stats.corr()\n",
    "#matrix = np.triu(corr_matrix)\n",
    "#sns.heatmap(corr_matrix, annot=True, vmin = -1, vmax = 1, mask=matrix)"
   ]
  },
  {
   "cell_type": "markdown",
   "id": "5e137516",
   "metadata": {},
   "source": [
    "First insights:"
   ]
  },
  {
   "cell_type": "markdown",
   "id": "391bbb98",
   "metadata": {},
   "source": [
    "**Let's now have a look at the scatter matrix, which is a statistic that is used to make estimates of the covariance matrix, for instance of the multivariate normal distribution.**"
   ]
  },
  {
   "cell_type": "code",
   "execution_count": null,
   "id": "99924530",
   "metadata": {},
   "outputs": [],
   "source": [
    "#from pandas.plotting import scatter_matrix\n",
    "\n",
    "#scatter_matrix(df, figsize=(12, 8))\n",
    "#plt.show()"
   ]
  },
  {
   "cell_type": "markdown",
   "id": "92336e54",
   "metadata": {},
   "source": [
    "**What are the most productive types of crops ? Wheat ? Barley ? Something else ? Let's see**"
   ]
  },
  {
   "cell_type": "code",
   "execution_count": null,
   "id": "90c4bd50",
   "metadata": {},
   "outputs": [],
   "source": [
    "## Somme des rendements pour l'année 2019 pour tous les pays, pour les 165 variétés"
   ]
  },
  {
   "cell_type": "markdown",
   "id": "763e3036",
   "metadata": {},
   "source": [
    "**What could be interesting is to see the share of production of Wheat per country**"
   ]
  },
  {
   "cell_type": "code",
   "execution_count": null,
   "id": "d288353e",
   "metadata": {},
   "outputs": [],
   "source": []
  },
  {
   "cell_type": "markdown",
   "id": "8f59e324",
   "metadata": {},
   "source": [
    "## 2. Exploring the Gas Emissions data"
   ]
  },
  {
   "cell_type": "markdown",
   "id": "98fe5f09",
   "metadata": {},
   "source": [
    "**Share of worldwide CO2 emissions per category**"
   ]
  },
  {
   "cell_type": "code",
   "execution_count": null,
   "id": "ef8e178b",
   "metadata": {},
   "outputs": [],
   "source": [
    "categories = "
   ]
  },
  {
   "cell_type": "markdown",
   "id": "e80550dc",
   "metadata": {},
   "source": [
    "**Let's try to consolidate the CO2 total emissions per year in a new df**"
   ]
  },
  {
   "cell_type": "code",
   "execution_count": null,
   "id": "a369d002",
   "metadata": {},
   "outputs": [],
   "source": [
    "### MEMO: calculer dans un nouveau df le total d'émissions de CO2 par année"
   ]
  },
  {
   "cell_type": "markdown",
   "id": "b9d81e8a",
   "metadata": {},
   "source": [
    "**What are the countries that emit most CO2 emissions ? Is is correlated to their total agricultural production ?**"
   ]
  },
  {
   "cell_type": "code",
   "execution_count": null,
   "id": "cf76bbe9",
   "metadata": {},
   "outputs": [],
   "source": [
    "## 1. Merge both datasets (total of production, total of emissions) to have a emissions_crops df\n",
    "## emissions_crops = pd.merge(total_crops_prod,total_emissions, on='',how='inner', suffixes=('_prod','_co2'))\n",
    "## 2. Plot the corr matrix\n",
    "## 3. Plot two bar plots: top 10 countries who emit the most // top 10 countries who produce the most"
   ]
  },
  {
   "cell_type": "markdown",
   "id": "eb903372",
   "metadata": {},
   "source": [
    "# Machine Learning"
   ]
  },
  {
   "cell_type": "markdown",
   "id": "19d81462",
   "metadata": {},
   "source": [
    "## Regression Model"
   ]
  },
  {
   "cell_type": "markdown",
   "id": "a1d6ad86",
   "metadata": {},
   "source": [
    "### Data Preprocessing"
   ]
  },
  {
   "cell_type": "markdown",
   "id": "0c94543b",
   "metadata": {},
   "source": [
    "We choose to preprocess the data according to the use we will make of it. Thus we will preprocess the data in order to have **numerical, approximately symmetrically distributed data** for our **regression** model."
   ]
  },
  {
   "cell_type": "markdown",
   "id": "8e2723f9",
   "metadata": {},
   "source": [
    "**Some outliers ? Let's make a non-linear re-expression of the dependent variables using the logarithm.**"
   ]
  },
  {
   "cell_type": "code",
   "execution_count": null,
   "id": "9e7dd0b2",
   "metadata": {},
   "outputs": [],
   "source": [
    "# Use of the log function\n",
    "\n",
    "#We first keep the values inside a list\n",
    "#list_to_build = df['column'].tolist()\n",
    "\n",
    "#We then apply the log function on it\n",
    "#df['column'] = np.log(df['column'])"
   ]
  },
  {
   "cell_type": "markdown",
   "id": "da7788e0",
   "metadata": {},
   "source": [
    "**Some categorical variables ? Let's encode them into numerical ones to be able to use them in our regression model, and also fill the missing values with the median for each corresponding feature**"
   ]
  },
  {
   "cell_type": "code",
   "execution_count": null,
   "id": "03445b8f",
   "metadata": {},
   "outputs": [],
   "source": [
    "#df['column'].astype('category').cat.codes\n",
    "#df, y, nas = proc_df(df_raw, 'target_variable') => Target Variable needs to be the CO2 emissions here !!!"
   ]
  },
  {
   "cell_type": "markdown",
   "id": "03e3c72a",
   "metadata": {},
   "source": [
    "**Save the pre-processed data into a *feather* file**"
   ]
  },
  {
   "cell_type": "code",
   "execution_count": null,
   "id": "7cea6d58",
   "metadata": {},
   "outputs": [],
   "source": [
    "path_to_tmp = os.path.join(path_to_repo, \"data\", \"tmp\")"
   ]
  },
  {
   "cell_type": "code",
   "execution_count": null,
   "id": "e582f115",
   "metadata": {},
   "outputs": [],
   "source": [
    "path_to_tmp"
   ]
  },
  {
   "cell_type": "code",
   "execution_count": null,
   "id": "34029379",
   "metadata": {},
   "outputs": [],
   "source": [
    "os.makedirs(path_to_tmp, exist_ok = True)"
   ]
  },
  {
   "cell_type": "code",
   "execution_count": null,
   "id": "1ce6118d",
   "metadata": {},
   "outputs": [],
   "source": [
    "path_to_bulldozers_raw = os.path.join(path_to_tmp, 'bulldozers-raw')"
   ]
  },
  {
   "cell_type": "code",
   "execution_count": null,
   "id": "865d8529",
   "metadata": {},
   "outputs": [],
   "source": [
    "df_raw.to_feather(path_to_bulldozers_raw)"
   ]
  },
  {
   "cell_type": "markdown",
   "id": "5599225f",
   "metadata": {},
   "source": [
    "### Model Building: predict the CO2 emissions of a country depending on its production"
   ]
  },
  {
   "cell_type": "code",
   "execution_count": null,
   "id": "7c1b4fe5",
   "metadata": {},
   "outputs": [],
   "source": []
  },
  {
   "cell_type": "markdown",
   "id": "6528cb10",
   "metadata": {},
   "source": [
    "**Cross-validation**"
   ]
  },
  {
   "cell_type": "code",
   "execution_count": null,
   "id": "1e107dde",
   "metadata": {},
   "outputs": [],
   "source": []
  },
  {
   "cell_type": "markdown",
   "id": "fa209315",
   "metadata": {},
   "source": [
    "**Let's plot the graph**"
   ]
  },
  {
   "cell_type": "code",
   "execution_count": null,
   "id": "faf7adbb",
   "metadata": {},
   "outputs": [],
   "source": [
    "#fig, axes = plt.subplots(nrows = 1, ncols = 1, figsize = (15, 10), dpi = 300)\n",
    "#plot_tree(model, filled = True)"
   ]
  },
  {
   "cell_type": "markdown",
   "id": "170cafc6",
   "metadata": {},
   "source": [
    "## Time-series Analysis #1: Worldwide Wheat Production"
   ]
  },
  {
   "cell_type": "markdown",
   "id": "68b52388",
   "metadata": {},
   "source": [
    "### Data Preprocessing"
   ]
  },
  {
   "cell_type": "markdown",
   "id": "e8c2b918",
   "metadata": {},
   "source": [
    "In order to be able to make any use of our data in a time series analysis purpose, we will transform our datasets so that we have **dates** as index."
   ]
  },
  {
   "cell_type": "code",
   "execution_count": 221,
   "id": "f83d97cd",
   "metadata": {},
   "outputs": [
    {
     "ename": "TypeError",
     "evalue": "'Series' object is not callable",
     "output_type": "error",
     "traceback": [
      "\u001b[0;31m---------------------------------------------------------------------------\u001b[0m",
      "\u001b[0;31mTypeError\u001b[0m                                 Traceback (most recent call last)",
      "Input \u001b[0;32mIn [221]\u001b[0m, in \u001b[0;36m<cell line: 1>\u001b[0;34m()\u001b[0m\n\u001b[0;32m----> 1\u001b[0m df \u001b[38;5;241m=\u001b[39m crops_all\u001b[38;5;241m.\u001b[39mset_index(\u001b[38;5;28;43mlist\u001b[39;49m\u001b[43m(\u001b[49m\u001b[43mcrops_all\u001b[49m\u001b[38;5;241;43m.\u001b[39;49m\u001b[43mcolumns\u001b[49m\u001b[43m[\u001b[49m\u001b[43m:\u001b[49m\u001b[38;5;241;43m7\u001b[39;49m\u001b[43m]\u001b[49m\u001b[43m)\u001b[49m)\n\u001b[1;32m      2\u001b[0m \u001b[38;5;66;03m#df = pd.MultiIndex.from_frame(df)\u001b[39;00m\n\u001b[1;32m      3\u001b[0m \u001b[38;5;66;03m#df = df.to_frame()\u001b[39;00m\n\u001b[1;32m      4\u001b[0m df\u001b[38;5;241m.\u001b[39mT\u001b[38;5;241m.\u001b[39mloc[[\u001b[38;5;124m'\u001b[39m\u001b[38;5;124mY1986\u001b[39m\u001b[38;5;124m'\u001b[39m]]\n",
      "\u001b[0;31mTypeError\u001b[0m: 'Series' object is not callable"
     ]
    }
   ],
   "source": [
    "df = crops_all.set_index(list(crops_all.columns[:7]))\n",
    "#df = pd.MultiIndex.from_frame(df)\n",
    "#df = df.to_frame()\n",
    "df.T.loc[['Y1986']]"
   ]
  },
  {
   "cell_type": "code",
   "execution_count": null,
   "id": "0c3e413f",
   "metadata": {},
   "outputs": [],
   "source": [
    "### MEMO: trop complexe, focus simplement sur le blé + enlever les codes"
   ]
  },
  {
   "cell_type": "markdown",
   "id": "a4a01eb8",
   "metadata": {},
   "source": [
    "### Analysis"
   ]
  },
  {
   "cell_type": "markdown",
   "id": "4d8a1527",
   "metadata": {},
   "source": [
    "**Resampling & Aggregation**"
   ]
  },
  {
   "cell_type": "markdown",
   "id": "b8d0e6e3",
   "metadata": {},
   "source": [
    "*Resample data by year using agg() function*"
   ]
  },
  {
   "cell_type": "code",
   "execution_count": null,
   "id": "057beb2c",
   "metadata": {},
   "outputs": [],
   "source": [
    "aggregated = df['Wheat'].resample('Y').agg(['mean','std','min','max'])\n",
    "aggregated['mean'].plot(label='Mean per Year')\n",
    "plt.fill_between(aggregated.index,aggregated['max'], aggregated['min'],alpha=0.2,label='min-max per year')\n",
    "plt.legend()\n",
    "plt.show()"
   ]
  },
  {
   "cell_type": "markdown",
   "id": "6483fc60",
   "metadata": {},
   "source": [
    "*Resample & get standard deviation per year to see how much wheat production is volatile*"
   ]
  },
  {
   "cell_type": "code",
   "execution_count": null,
   "id": "eabca856",
   "metadata": {},
   "outputs": [],
   "source": [
    "#df.loc['1961:2019','Wheat'].resample('Y').std().plot()\n",
    "#plt.show()"
   ]
  },
  {
   "cell_type": "markdown",
   "id": "87472a65",
   "metadata": {},
   "source": [
    "*Resample & plot multiple graphs*"
   ]
  },
  {
   "cell_type": "code",
   "execution_count": null,
   "id": "954a4079",
   "metadata": {},
   "outputs": [],
   "source": [
    "plt.figure(figsize=(13,9))\n",
    "df.loc['1961:2019','Wheat'].plot()\n",
    "df.loc['1961:2019','Wheat'].resample('Y').mean().plot(label=\"Mean per Year\",lw=3,ls=':',alpha=0.8)\n",
    "df.loc['1961:2019','Wheat'].resample('Decade ?????').mean().plot(label=\"Mean per Decade\",lw=2,ls='--',alpha=0.8)\n",
    "plt.legend()\n",
    "plt.show()"
   ]
  },
  {
   "cell_type": "markdown",
   "id": "52d48fda",
   "metadata": {},
   "source": [
    "**What do we seek to analyse?**<br/>\n",
    "Before applying any statistical model on a Time Series & forecast some predictions over it, our series has to be on a *stationary state*, which means that, over different time periods,\n",
    "- the mean should be a *constant* (visually parallel to the x-axis)\n",
    "- the standard deviation should be a *constant* (visually parallel to the x-axis)\n",
    "- auto-covariance should not depend on time.\n",
    "\n",
    "**Why does a time-series has to be stationary to be forecasted?**<br/>\n",
    "In case a time series has a particular behavior over a time interval, then there's a high probability that over a different interval, this behavior will be the same if the series is **stationary**. Thus it is very helpful to accurately forecast.\n",
    "\n",
    "**What elements infer on this stationarity?**\n",
    "Several elements play a role:\n",
    "- Trend: general direction of a time series over a certain period of time\n",
    "- Seasonality: seasonal variances (often explained by external factors)\n",
    "- Noise: irregularity in the data represented by spikes & downs at random\n",
    "- Cyclicity: cyclic behavior of data"
   ]
  },
  {
   "cell_type": "markdown",
   "id": "74b28b06",
   "metadata": {},
   "source": [
    "**Moving Average**"
   ]
  },
  {
   "cell_type": "markdown",
   "id": "bef38a11",
   "metadata": {},
   "source": [
    "In order to first analyse the mean, we could plot the overall average by taking each value & divide by *N*.<br/>But instead of averaging all the values at once, we will compute the mean of the values on a certain ***window*** that we will roll through our sample.<br/> By modifying the **window** parameter, we smooth more or less our mean since we add more or less values as the numerator, over the denominator which is the chosen number of periods to evaluate. <br/><br/>\n",
    "This allows to erase **transitory fluctuations** & keep the **long-term trend**, but it also gives us a **visual hint** that our time series **is** or **is not** ***stationary***. "
   ]
  },
  {
   "cell_type": "markdown",
   "id": "c36cc286",
   "metadata": {},
   "source": [
    "<img src=\"https://raw.githubusercontent.com/nicoboou/ml_eml/main/img/moving-averages.gif\" width=\"500\" align=\"center\">"
   ]
  },
  {
   "cell_type": "markdown",
   "id": "aee54504",
   "metadata": {},
   "source": [
    "The successive calculation of moving averages for the same sequence of numbers requires that all the values used by the previous averages be retained ${\\bar {x}}_{n}$, in order to replace the oldest term $x_{n-\\mathrm {N}}$ with the most recent term $x_{n}$."
   ]
  },
  {
   "cell_type": "markdown",
   "id": "84cb3583",
   "metadata": {},
   "source": [
    "$${\\displaystyle {\\bar {x}}_{n}={\\frac {1}{\\mathrm {N} }}\\ \\displaystyle {\\sum _{k=0}^{N-1}\\;{x_{n-k}}}{\\text{, or also }}{\\bar {x}}_{n}={\\bar {x}}_{n-1}+{\\frac {x_{n}-x_{n-\\mathrm {N} }}{\\mathrm {N} }}}$$"
   ]
  },
  {
   "cell_type": "code",
   "execution_count": null,
   "id": "3f2bea9f",
   "metadata": {},
   "outputs": [],
   "source": [
    "df.loc['1961:2019','Wheat'].plot()\n",
    "df.loc['1961:2019','Wheat'].rolling(window=1, freq='Y').mean().plot(label='moving average',lw=3,ls=':',alpha=0.8)\n",
    "df.loc['1961:2019','Wheat'].rolling(window=1, freq='Y',center=True).mean().plot(label='moving average',lw=3,ls=':',alpha=0.8)"
   ]
  },
  {
   "cell_type": "markdown",
   "id": "4f1b6272",
   "metadata": {},
   "source": [
    "**Exponential Weighted Moving Average (EWMA)**"
   ]
  },
  {
   "cell_type": "markdown",
   "id": "8e199238",
   "metadata": {},
   "source": [
    "Compared to simple moving averages, EMAs give greater weight to recent (more relevant) data. <br/>\n",
    "Indeed in a standard moving average, the oldest price in a fixed series is dropped. By contrast, all prices in a chart influence an exponential moving average: older prices gradually diminish in significance, this time **exponentially** (in contrast with Simple WMA)."
   ]
  },
  {
   "cell_type": "markdown",
   "id": "5304eb53",
   "metadata": {},
   "source": [
    "The EMA for a series ${\\displaystyle T}$ may be calculated recursively:"
   ]
  },
  {
   "cell_type": "markdown",
   "id": "a531e27e",
   "metadata": {},
   "source": [
    "$${\\displaystyle S_{t}={\\begin{cases}T_{0},&t=0\\\\\\alpha T_{t}+(1-\\alpha )\\cdot S_{t-1},&t>0\\end{cases}}}$$"
   ]
  },
  {
   "cell_type": "markdown",
   "id": "c5419235",
   "metadata": {},
   "source": [
    "Where:\n",
    "- The coefficient ${\\displaystyle \\alpha }$ represents the degree of weighting decrease, a constant smoothing factor between 0 and 1. A higher ${\\displaystyle \\alpha }$ discounts older observations faster.\n",
    "- ${\\displaystyle T_{t}}$ is the value at a time period ${\\displaystyle t}$.\n",
    "- ${\\displaystyle S_{t}}$ is the value of the EMA at any time period ${\\displaystyle t}$."
   ]
  },
  {
   "cell_type": "markdown",
   "id": "882bc579",
   "metadata": {},
   "source": [
    "More concise way to write it:"
   ]
  },
  {
   "cell_type": "markdown",
   "id": "dc98b951",
   "metadata": {},
   "source": [
    "$$\\bar {x}_{t} = \\sum_{n=0}^{+\\infty} \\alpha ({1-{\\alpha}})^n {\\bar {x}_{t-1}}$$"
   ]
  },
  {
   "cell_type": "code",
   "execution_count": null,
   "id": "7f27ba6e",
   "metadata": {},
   "outputs": [],
   "source": [
    "f.loc['1961:2019','Wheat'].plot()\n",
    "df.loc['1961:2019','Wheat'].rolling(window=1, freq='Y').mean().plot(label='simple moving average',lw=3,ls=':',alpha=0.8)\n",
    "df.loc['1961:2019','Wheat'].rolling(window=1, freq='Y',center=True).mean().plot(label='centered moving average',lw=3,ls=':',alpha=0.8)\n",
    "\n",
    "#Here is our new EWMA function\n",
    "df.loc['1961:2019','Wheat'].ewm(alpha=0.7).mean().plot(label='exponential weighted moving average',lw=3,ls='--')\n",
    "plt.legend()\n",
    "plt.show()"
   ]
  },
  {
   "cell_type": "markdown",
   "id": "6456a44a",
   "metadata": {},
   "source": [
    "Let's compare how the function behaves for different values of $\\alpha$"
   ]
  },
  {
   "cell_type": "code",
   "execution_count": null,
   "id": "01e9b1ad",
   "metadata": {},
   "outputs": [],
   "source": [
    "for x in np.arange(0.1,1,0.1):\n",
    "    df.loc['1961:2019','Wheat'].ewm(alpha=i).mean().plot(label=f'ewma {i}',lw=3,ls='--')\n",
    "plt.legend()\n",
    "plt.show()"
   ]
  },
  {
   "cell_type": "markdown",
   "id": "ee7a2018",
   "metadata": {},
   "source": [
    "***FIRST CONCLUSION: it appears that our time series IS NOT stationary since our rolling mean & rolling std aren't contstant over time***. We will confirm this hypothesis by using the *Augmented Dickey-Fuller statistical test*."
   ]
  },
  {
   "cell_type": "markdown",
   "id": "5b473ee3",
   "metadata": {},
   "source": [
    "**Augmented Dickey-Fuller Test**<br/>\n",
    "The *Augmented Dickey–Fuller test* is used in time serie analysis to gives us several values which will help in identifying *stationarity*. We first define the Null hypothesis has that *\"a time-series is non-stationary*. Then a  Statistics test & some critical values for some confidence levels are defined & performed. If the test is less than the certain critical values, we can reject the null hypothesis & say that the series is stationary. THE ADCF test also gives us a *p-value*. Acc to the null hypothesis, lower values of p is better."
   ]
  },
  {
   "cell_type": "code",
   "execution_count": null,
   "id": "5e21259a",
   "metadata": {},
   "outputs": [],
   "source": [
    "#Augmented Dickey–Fuller test:\n",
    "print('Results of Augmented Dickey Fuller test:')\n",
    "dick_full_test = adfuller(indexedDataset['#Passengers'], autolag='AIC')\n",
    "\n",
    "dick_full_output = pd.Series(dick_full_test[0:4], index=['Test Statistic','p-value','#Lags Used','Number of Observations Used'])\n",
    "for key,value in dick_full_test[4].items():\n",
    "    dick_full_output['Critical Value (%s)'%key] = value\n",
    "    \n",
    "print(dick_full_output)"
   ]
  },
  {
   "cell_type": "markdown",
   "id": "40e7e04d",
   "metadata": {},
   "source": [
    "To be stationary: we should have got:\n",
    "- the *p-value* as low as possible (0<p-value<1)\n",
    "- the *critical values* at the different confidence intervals should be as close as possible to the Test Statistic"
   ]
  },
  {
   "cell_type": "markdown",
   "id": "85ff4b32",
   "metadata": {},
   "source": [
    "CONCLUSION: we can see that our time-series is **NOT stationary**. Thus we need to perform some *data transformation* to it."
   ]
  },
  {
   "cell_type": "markdown",
   "id": "ef594a9e",
   "metadata": {},
   "source": [
    "### Data Transformation"
   ]
  },
  {
   "cell_type": "markdown",
   "id": "32495099",
   "metadata": {},
   "source": [
    "Goal: reach a ***stationary time-series***"
   ]
  },
  {
   "cell_type": "markdown",
   "id": "512d5c0e",
   "metadata": {},
   "source": [
    "**LogScale our data**"
   ]
  },
  {
   "cell_type": "markdown",
   "id": "e58ab098",
   "metadata": {},
   "source": [
    "We first ScaleTransform our data points using the log function to flatten our spikes."
   ]
  },
  {
   "cell_type": "code",
   "execution_count": null,
   "id": "53a57fe1",
   "metadata": {},
   "outputs": [],
   "source": [
    "#df_logscaled = np.log(df)\n",
    "#plt.plot(df_logscaled)"
   ]
  },
  {
   "cell_type": "markdown",
   "id": "ffcf1dbb",
   "metadata": {},
   "source": [
    "**Time Shift Transform**"
   ]
  },
  {
   "cell_type": "code",
   "execution_count": null,
   "id": "e8c509cd",
   "metadata": {},
   "outputs": [],
   "source": [
    "#df_logscaled_shifted = df_logscaled - df_logscaled.shift()\n",
    "#plt.plot(df_logscaled_shifted)"
   ]
  },
  {
   "cell_type": "code",
   "execution_count": null,
   "id": "48535a0d",
   "metadata": {},
   "outputs": [],
   "source": [
    "def stationarity_test(df,column):\n",
    "    \n",
    "    #Determine rolling statistics\n",
    "    movingAverage = df[column].rolling(window=12).mean()\n",
    "    movingSTD = df[column].rolling(window=12).std()\n",
    "    \n",
    "    #Plot rolling statistics\n",
    "    orig = plt.plot(df[column], color='blue', label='Original')\n",
    "    mean = plt.plot(movingAverage, color='red', label='Rolling Mean')\n",
    "    std = plt.plot(movingSTD, color='black', label='Rolling Std')\n",
    "    plt.legend(loc='best')\n",
    "    plt.title('Rolling Mean & Standard Deviation')\n",
    "    plt.show(block=False)\n",
    "    \n",
    "    #Augmented Dickey–Fuller test:\n",
    "    print('Results of Augmented Dickey Fuller test:')\n",
    "    dick_full_test = adfuller(df[column], autolag='AIC')\n",
    "    dick_full_output = pd.Series(dick_full_test[0:4], index=['Test Statistic','p-value','#Lags Used','Number of Observations Used'])\n",
    "    for key,value in dick_full_test[4].items():\n",
    "        dick_full_output['Critical Value (%s)'%key] = value\n",
    "\n",
    "    print(dick_full_output)"
   ]
  },
  {
   "cell_type": "code",
   "execution_count": null,
   "id": "e3c25b3f",
   "metadata": {},
   "outputs": [],
   "source": [
    "stationarity_test(df_logscaled_shifted,'#Passengers')"
   ]
  },
  {
   "cell_type": "markdown",
   "id": "8a96e33b",
   "metadata": {},
   "source": [
    "### Predictions/Forecasting"
   ]
  },
  {
   "cell_type": "markdown",
   "id": "295ef88b",
   "metadata": {},
   "source": [
    "**1. State-of-the-art statistical technic: ARIMA**"
   ]
  },
  {
   "cell_type": "markdown",
   "id": "3b227c9f",
   "metadata": {},
   "source": [
    "ARIMA(Auto Regressive Integrated Moving Average) is a combination of 2 models AR(Auto Regressive) & MA(Moving Average). It has 3 hyperparameters - P(auto regressive lags),d(order of differentiation),Q(moving avg.) which respectively comes from the AR, I & MA components. The AR part is correlation between prev & current time periods. To smooth out the noise, the MA part is used. The I part binds together the AR & MA parts."
   ]
  },
  {
   "cell_type": "markdown",
   "id": "db73c011",
   "metadata": {},
   "source": [
    "**How to find the best values P & Q ?**"
   ]
  },
  {
   "cell_type": "markdown",
   "id": "94238a7a",
   "metadata": {},
   "source": [
    "We need to take help of ACF(Auto Correlation Function) & PACF(Partial Auto Correlation Function) plots. ACF & PACF graphs are used to find value of P & Q for ARIMA. We need to check, for which value in x-axis, graph line drops to 0 in y-axis for 1st time.\n",
    "- From PACF(at y=0), get P\n",
    "- From ACF(at y=0), get Q"
   ]
  },
  {
   "cell_type": "markdown",
   "id": "e9678537",
   "metadata": {},
   "source": [
    "**Let's plot ACF & PACF functions**"
   ]
  },
  {
   "cell_type": "code",
   "execution_count": null,
   "id": "355ebe6b",
   "metadata": {},
   "outputs": [],
   "source": [
    "#ACF & PACF plots\n",
    "\n",
    "lag_acf = acf(datasetLogDiffShifting, nlags=20)\n",
    "lag_pacf = pacf(datasetLogDiffShifting, nlags=20, method='ols')\n",
    "\n",
    "#Plot ACF:\n",
    "plt.subplot(121)\n",
    "plt.plot(lag_acf)\n",
    "plt.axhline(y=0, linestyle='--', color='gray')\n",
    "plt.axhline(y=-1.96/np.sqrt(len(datasetLogDiffShifting)), linestyle='--', color='gray')\n",
    "plt.axhline(y=1.96/np.sqrt(len(datasetLogDiffShifting)), linestyle='--', color='gray')\n",
    "plt.title('Autocorrelation Function')            \n",
    "\n",
    "#Plot PACF\n",
    "plt.subplot(122)\n",
    "plt.plot(lag_pacf)\n",
    "plt.axhline(y=0, linestyle='--', color='gray')\n",
    "plt.axhline(y=-1.96/np.sqrt(len(datasetLogDiffShifting)), linestyle='--', color='gray')\n",
    "plt.axhline(y=1.96/np.sqrt(len(datasetLogDiffShifting)), linestyle='--', color='gray')\n",
    "plt.title('Partial Autocorrelation Function')\n",
    "            \n",
    "plt.tight_layout()"
   ]
  },
  {
   "cell_type": "markdown",
   "id": "a5b82ba7",
   "metadata": {},
   "source": [
    "**AR Model**"
   ]
  },
  {
   "cell_type": "code",
   "execution_count": null,
   "id": "79ac694c",
   "metadata": {},
   "outputs": [],
   "source": [
    "#AR Model\n",
    "#making order=(2,1,0) gives RSS=1.5023\n",
    "model = ARIMA(indexedDataset_logScale, order=(2,1,0))\n",
    "results_AR = model.fit(disp=-1)\n",
    "plt.plot(datasetLogDiffShifting)\n",
    "plt.plot(results_AR.fittedvalues, color='red')\n",
    "plt.title('RSS: %.4f'%sum((results_AR.fittedvalues - datasetLogDiffShifting['#Passengers'])**2))\n",
    "print('Plotting AR model')"
   ]
  },
  {
   "cell_type": "markdown",
   "id": "376ca599",
   "metadata": {},
   "source": [
    "**MA Model**"
   ]
  },
  {
   "cell_type": "code",
   "execution_count": null,
   "id": "73368198",
   "metadata": {},
   "outputs": [],
   "source": [
    "#MA Model\n",
    "model = ARIMA(indexedDataset_logScale, order=(0,1,2))\n",
    "results_MA = model.fit(disp=-1)\n",
    "plt.plot(datasetLogDiffShifting)\n",
    "plt.plot(results_MA.fittedvalues, color='red')\n",
    "plt.title('RSS: %.4f'%sum((results_MA.fittedvalues - datasetLogDiffShifting['#Passengers'])**2))\n",
    "print('Plotting MA model')"
   ]
  },
  {
   "cell_type": "markdown",
   "id": "04dff447",
   "metadata": {},
   "source": [
    "**ARIMA: AR & MA Models Integrated**"
   ]
  },
  {
   "cell_type": "code",
   "execution_count": null,
   "id": "8004e285",
   "metadata": {},
   "outputs": [],
   "source": [
    "# AR+I+MA = ARIMA model\n",
    "model = ARIMA(indexedDataset_logScale, order=(2,1,2))\n",
    "results_ARIMA = model.fit(disp=-1)\n",
    "plt.plot(datasetLogDiffShifting)\n",
    "plt.plot(results_ARIMA.fittedvalues, color='red')\n",
    "plt.title('RSS: %.4f'%sum((results_ARIMA.fittedvalues - datasetLogDiffShifting['#Passengers'])**2))\n",
    "print('Plotting ARIMA model')"
   ]
  },
  {
   "cell_type": "markdown",
   "id": "a5b30661",
   "metadata": {},
   "source": [
    "**2. LSTM Model**"
   ]
  },
  {
   "cell_type": "code",
   "execution_count": null,
   "id": "20ad0d66",
   "metadata": {},
   "outputs": [],
   "source": [
    "## EXPLAIN HOW A LSTM NETWORK FUNCTIONS STEP BY STEP"
   ]
  },
  {
   "cell_type": "markdown",
   "id": "2df665ed",
   "metadata": {},
   "source": [
    "## Time Series Analysis #2: Correlation with Pop Growth Forecast "
   ]
  },
  {
   "cell_type": "markdown",
   "id": "b462005d",
   "metadata": {},
   "source": [
    "1. En fonction de l'augmentation de la population, plotter la courbe d'augmentation de la pop -vs- augmentation de la production, et trouver le point de croisement entre les deux"
   ]
  },
  {
   "cell_type": "markdown",
   "id": "347193f9",
   "metadata": {},
   "source": [
    "**Let's consolidate the data to get only the total worldwide population per year since 1950**"
   ]
  },
  {
   "cell_type": "code",
   "execution_count": 222,
   "id": "700d9c64",
   "metadata": {},
   "outputs": [
    {
     "data": {
      "text/html": [
       "<div>\n",
       "<style scoped>\n",
       "    .dataframe tbody tr th:only-of-type {\n",
       "        vertical-align: middle;\n",
       "    }\n",
       "\n",
       "    .dataframe tbody tr th {\n",
       "        vertical-align: top;\n",
       "    }\n",
       "\n",
       "    .dataframe thead th {\n",
       "        text-align: right;\n",
       "    }\n",
       "</style>\n",
       "<table border=\"1\" class=\"dataframe\">\n",
       "  <thead>\n",
       "    <tr style=\"text-align: right;\">\n",
       "      <th></th>\n",
       "      <th>LocID</th>\n",
       "      <th>Location</th>\n",
       "      <th>VarID</th>\n",
       "      <th>Variant</th>\n",
       "      <th>Time</th>\n",
       "      <th>MidPeriod</th>\n",
       "      <th>PopMale</th>\n",
       "      <th>PopFemale</th>\n",
       "      <th>PopTotal</th>\n",
       "      <th>PopDensity</th>\n",
       "    </tr>\n",
       "  </thead>\n",
       "  <tbody>\n",
       "    <tr>\n",
       "      <th>277245</th>\n",
       "      <td>900</td>\n",
       "      <td>World</td>\n",
       "      <td>2</td>\n",
       "      <td>Medium</td>\n",
       "      <td>1950</td>\n",
       "      <td>1950.5</td>\n",
       "      <td>1266259.556</td>\n",
       "      <td>1270171.462</td>\n",
       "      <td>2536431.018</td>\n",
       "      <td>19.497</td>\n",
       "    </tr>\n",
       "    <tr>\n",
       "      <th>277246</th>\n",
       "      <td>900</td>\n",
       "      <td>World</td>\n",
       "      <td>2</td>\n",
       "      <td>Medium</td>\n",
       "      <td>1951</td>\n",
       "      <td>1951.5</td>\n",
       "      <td>1290237.638</td>\n",
       "      <td>1293796.589</td>\n",
       "      <td>2584034.227</td>\n",
       "      <td>19.863</td>\n",
       "    </tr>\n",
       "    <tr>\n",
       "      <th>277247</th>\n",
       "      <td>900</td>\n",
       "      <td>World</td>\n",
       "      <td>2</td>\n",
       "      <td>Medium</td>\n",
       "      <td>1952</td>\n",
       "      <td>1952.5</td>\n",
       "      <td>1313854.565</td>\n",
       "      <td>1317007.125</td>\n",
       "      <td>2630861.690</td>\n",
       "      <td>20.223</td>\n",
       "    </tr>\n",
       "    <tr>\n",
       "      <th>277248</th>\n",
       "      <td>900</td>\n",
       "      <td>World</td>\n",
       "      <td>2</td>\n",
       "      <td>Medium</td>\n",
       "      <td>1953</td>\n",
       "      <td>1953.5</td>\n",
       "      <td>1337452.786</td>\n",
       "      <td>1340156.275</td>\n",
       "      <td>2677609.061</td>\n",
       "      <td>20.582</td>\n",
       "    </tr>\n",
       "    <tr>\n",
       "      <th>277249</th>\n",
       "      <td>900</td>\n",
       "      <td>World</td>\n",
       "      <td>2</td>\n",
       "      <td>Medium</td>\n",
       "      <td>1954</td>\n",
       "      <td>1954.5</td>\n",
       "      <td>1361313.834</td>\n",
       "      <td>1363532.920</td>\n",
       "      <td>2724846.754</td>\n",
       "      <td>20.945</td>\n",
       "    </tr>\n",
       "    <tr>\n",
       "      <th>...</th>\n",
       "      <td>...</td>\n",
       "      <td>...</td>\n",
       "      <td>...</td>\n",
       "      <td>...</td>\n",
       "      <td>...</td>\n",
       "      <td>...</td>\n",
       "      <td>...</td>\n",
       "      <td>...</td>\n",
       "      <td>...</td>\n",
       "      <td>...</td>\n",
       "    </tr>\n",
       "    <tr>\n",
       "      <th>278124</th>\n",
       "      <td>900</td>\n",
       "      <td>World</td>\n",
       "      <td>207</td>\n",
       "      <td>Lower 95 PI</td>\n",
       "      <td>2080</td>\n",
       "      <td>2080.5</td>\n",
       "      <td>4866986.122</td>\n",
       "      <td>4859354.518</td>\n",
       "      <td>9726521.507</td>\n",
       "      <td>74.765</td>\n",
       "    </tr>\n",
       "    <tr>\n",
       "      <th>278125</th>\n",
       "      <td>900</td>\n",
       "      <td>World</td>\n",
       "      <td>207</td>\n",
       "      <td>Lower 95 PI</td>\n",
       "      <td>2085</td>\n",
       "      <td>2085.5</td>\n",
       "      <td>4840589.018</td>\n",
       "      <td>4839249.900</td>\n",
       "      <td>9677886.785</td>\n",
       "      <td>74.391</td>\n",
       "    </tr>\n",
       "    <tr>\n",
       "      <th>278126</th>\n",
       "      <td>900</td>\n",
       "      <td>World</td>\n",
       "      <td>207</td>\n",
       "      <td>Lower 95 PI</td>\n",
       "      <td>2090</td>\n",
       "      <td>2090.5</td>\n",
       "      <td>4807244.871</td>\n",
       "      <td>4810689.690</td>\n",
       "      <td>9618845.868</td>\n",
       "      <td>73.938</td>\n",
       "    </tr>\n",
       "    <tr>\n",
       "      <th>278127</th>\n",
       "      <td>900</td>\n",
       "      <td>World</td>\n",
       "      <td>207</td>\n",
       "      <td>Lower 95 PI</td>\n",
       "      <td>2095</td>\n",
       "      <td>2095.5</td>\n",
       "      <td>4756074.116</td>\n",
       "      <td>4770707.097</td>\n",
       "      <td>9529601.180</td>\n",
       "      <td>73.252</td>\n",
       "    </tr>\n",
       "    <tr>\n",
       "      <th>278128</th>\n",
       "      <td>900</td>\n",
       "      <td>World</td>\n",
       "      <td>207</td>\n",
       "      <td>Lower 95 PI</td>\n",
       "      <td>2100</td>\n",
       "      <td>2100.5</td>\n",
       "      <td>4701223.363</td>\n",
       "      <td>4722648.161</td>\n",
       "      <td>9424390.594</td>\n",
       "      <td>72.443</td>\n",
       "    </tr>\n",
       "  </tbody>\n",
       "</table>\n",
       "<p>884 rows × 10 columns</p>\n",
       "</div>"
      ],
      "text/plain": [
       "        LocID Location  VarID      Variant  Time  MidPeriod      PopMale  \\\n",
       "277245    900    World      2       Medium  1950     1950.5  1266259.556   \n",
       "277246    900    World      2       Medium  1951     1951.5  1290237.638   \n",
       "277247    900    World      2       Medium  1952     1952.5  1313854.565   \n",
       "277248    900    World      2       Medium  1953     1953.5  1337452.786   \n",
       "277249    900    World      2       Medium  1954     1954.5  1361313.834   \n",
       "...       ...      ...    ...          ...   ...        ...          ...   \n",
       "278124    900    World    207  Lower 95 PI  2080     2080.5  4866986.122   \n",
       "278125    900    World    207  Lower 95 PI  2085     2085.5  4840589.018   \n",
       "278126    900    World    207  Lower 95 PI  2090     2090.5  4807244.871   \n",
       "278127    900    World    207  Lower 95 PI  2095     2095.5  4756074.116   \n",
       "278128    900    World    207  Lower 95 PI  2100     2100.5  4701223.363   \n",
       "\n",
       "          PopFemale     PopTotal  PopDensity  \n",
       "277245  1270171.462  2536431.018      19.497  \n",
       "277246  1293796.589  2584034.227      19.863  \n",
       "277247  1317007.125  2630861.690      20.223  \n",
       "277248  1340156.275  2677609.061      20.582  \n",
       "277249  1363532.920  2724846.754      20.945  \n",
       "...             ...          ...         ...  \n",
       "278124  4859354.518  9726521.507      74.765  \n",
       "278125  4839249.900  9677886.785      74.391  \n",
       "278126  4810689.690  9618845.868      73.938  \n",
       "278127  4770707.097  9529601.180      73.252  \n",
       "278128  4722648.161  9424390.594      72.443  \n",
       "\n",
       "[884 rows x 10 columns]"
      ]
     },
     "execution_count": 222,
     "metadata": {},
     "output_type": "execute_result"
    }
   ],
   "source": [
    "world_pop = pop_df_raw[pop_df_raw['Location'] == 'World']\n",
    "world_pop"
   ]
  },
  {
   "cell_type": "markdown",
   "id": "4df778f8",
   "metadata": {},
   "source": [
    "**In order to manipulate dates in a simpler manner, let's first tweak our 'Time' column in order to be able to put it in a DateTimeIndex format**"
   ]
  },
  {
   "cell_type": "code",
   "execution_count": 223,
   "id": "07c445d6",
   "metadata": {},
   "outputs": [
    {
     "data": {
      "text/html": [
       "<div>\n",
       "<style scoped>\n",
       "    .dataframe tbody tr th:only-of-type {\n",
       "        vertical-align: middle;\n",
       "    }\n",
       "\n",
       "    .dataframe tbody tr th {\n",
       "        vertical-align: top;\n",
       "    }\n",
       "\n",
       "    .dataframe thead th {\n",
       "        text-align: right;\n",
       "    }\n",
       "</style>\n",
       "<table border=\"1\" class=\"dataframe\">\n",
       "  <thead>\n",
       "    <tr style=\"text-align: right;\">\n",
       "      <th></th>\n",
       "      <th>LocID</th>\n",
       "      <th>Location</th>\n",
       "      <th>VarID</th>\n",
       "      <th>Variant</th>\n",
       "      <th>MidPeriod</th>\n",
       "      <th>PopMale</th>\n",
       "      <th>PopFemale</th>\n",
       "      <th>PopTotal</th>\n",
       "      <th>PopDensity</th>\n",
       "    </tr>\n",
       "    <tr>\n",
       "      <th>Time</th>\n",
       "      <th></th>\n",
       "      <th></th>\n",
       "      <th></th>\n",
       "      <th></th>\n",
       "      <th></th>\n",
       "      <th></th>\n",
       "      <th></th>\n",
       "      <th></th>\n",
       "      <th></th>\n",
       "    </tr>\n",
       "  </thead>\n",
       "  <tbody>\n",
       "    <tr>\n",
       "      <th>1950-01-01</th>\n",
       "      <td>900</td>\n",
       "      <td>World</td>\n",
       "      <td>2</td>\n",
       "      <td>Medium</td>\n",
       "      <td>1950.5</td>\n",
       "      <td>1266259.556</td>\n",
       "      <td>1270171.462</td>\n",
       "      <td>2536431.018</td>\n",
       "      <td>19.497</td>\n",
       "    </tr>\n",
       "    <tr>\n",
       "      <th>1951-01-01</th>\n",
       "      <td>900</td>\n",
       "      <td>World</td>\n",
       "      <td>2</td>\n",
       "      <td>Medium</td>\n",
       "      <td>1951.5</td>\n",
       "      <td>1290237.638</td>\n",
       "      <td>1293796.589</td>\n",
       "      <td>2584034.227</td>\n",
       "      <td>19.863</td>\n",
       "    </tr>\n",
       "    <tr>\n",
       "      <th>1952-01-01</th>\n",
       "      <td>900</td>\n",
       "      <td>World</td>\n",
       "      <td>2</td>\n",
       "      <td>Medium</td>\n",
       "      <td>1952.5</td>\n",
       "      <td>1313854.565</td>\n",
       "      <td>1317007.125</td>\n",
       "      <td>2630861.690</td>\n",
       "      <td>20.223</td>\n",
       "    </tr>\n",
       "    <tr>\n",
       "      <th>1953-01-01</th>\n",
       "      <td>900</td>\n",
       "      <td>World</td>\n",
       "      <td>2</td>\n",
       "      <td>Medium</td>\n",
       "      <td>1953.5</td>\n",
       "      <td>1337452.786</td>\n",
       "      <td>1340156.275</td>\n",
       "      <td>2677609.061</td>\n",
       "      <td>20.582</td>\n",
       "    </tr>\n",
       "    <tr>\n",
       "      <th>1954-01-01</th>\n",
       "      <td>900</td>\n",
       "      <td>World</td>\n",
       "      <td>2</td>\n",
       "      <td>Medium</td>\n",
       "      <td>1954.5</td>\n",
       "      <td>1361313.834</td>\n",
       "      <td>1363532.920</td>\n",
       "      <td>2724846.754</td>\n",
       "      <td>20.945</td>\n",
       "    </tr>\n",
       "    <tr>\n",
       "      <th>...</th>\n",
       "      <td>...</td>\n",
       "      <td>...</td>\n",
       "      <td>...</td>\n",
       "      <td>...</td>\n",
       "      <td>...</td>\n",
       "      <td>...</td>\n",
       "      <td>...</td>\n",
       "      <td>...</td>\n",
       "      <td>...</td>\n",
       "    </tr>\n",
       "    <tr>\n",
       "      <th>2080-01-01</th>\n",
       "      <td>900</td>\n",
       "      <td>World</td>\n",
       "      <td>207</td>\n",
       "      <td>Lower 95 PI</td>\n",
       "      <td>2080.5</td>\n",
       "      <td>4866986.122</td>\n",
       "      <td>4859354.518</td>\n",
       "      <td>9726521.507</td>\n",
       "      <td>74.765</td>\n",
       "    </tr>\n",
       "    <tr>\n",
       "      <th>2085-01-01</th>\n",
       "      <td>900</td>\n",
       "      <td>World</td>\n",
       "      <td>207</td>\n",
       "      <td>Lower 95 PI</td>\n",
       "      <td>2085.5</td>\n",
       "      <td>4840589.018</td>\n",
       "      <td>4839249.900</td>\n",
       "      <td>9677886.785</td>\n",
       "      <td>74.391</td>\n",
       "    </tr>\n",
       "    <tr>\n",
       "      <th>2090-01-01</th>\n",
       "      <td>900</td>\n",
       "      <td>World</td>\n",
       "      <td>207</td>\n",
       "      <td>Lower 95 PI</td>\n",
       "      <td>2090.5</td>\n",
       "      <td>4807244.871</td>\n",
       "      <td>4810689.690</td>\n",
       "      <td>9618845.868</td>\n",
       "      <td>73.938</td>\n",
       "    </tr>\n",
       "    <tr>\n",
       "      <th>2095-01-01</th>\n",
       "      <td>900</td>\n",
       "      <td>World</td>\n",
       "      <td>207</td>\n",
       "      <td>Lower 95 PI</td>\n",
       "      <td>2095.5</td>\n",
       "      <td>4756074.116</td>\n",
       "      <td>4770707.097</td>\n",
       "      <td>9529601.180</td>\n",
       "      <td>73.252</td>\n",
       "    </tr>\n",
       "    <tr>\n",
       "      <th>2100-01-01</th>\n",
       "      <td>900</td>\n",
       "      <td>World</td>\n",
       "      <td>207</td>\n",
       "      <td>Lower 95 PI</td>\n",
       "      <td>2100.5</td>\n",
       "      <td>4701223.363</td>\n",
       "      <td>4722648.161</td>\n",
       "      <td>9424390.594</td>\n",
       "      <td>72.443</td>\n",
       "    </tr>\n",
       "  </tbody>\n",
       "</table>\n",
       "<p>884 rows × 9 columns</p>\n",
       "</div>"
      ],
      "text/plain": [
       "            LocID Location  VarID      Variant  MidPeriod      PopMale  \\\n",
       "Time                                                                     \n",
       "1950-01-01    900    World      2       Medium     1950.5  1266259.556   \n",
       "1951-01-01    900    World      2       Medium     1951.5  1290237.638   \n",
       "1952-01-01    900    World      2       Medium     1952.5  1313854.565   \n",
       "1953-01-01    900    World      2       Medium     1953.5  1337452.786   \n",
       "1954-01-01    900    World      2       Medium     1954.5  1361313.834   \n",
       "...           ...      ...    ...          ...        ...          ...   \n",
       "2080-01-01    900    World    207  Lower 95 PI     2080.5  4866986.122   \n",
       "2085-01-01    900    World    207  Lower 95 PI     2085.5  4840589.018   \n",
       "2090-01-01    900    World    207  Lower 95 PI     2090.5  4807244.871   \n",
       "2095-01-01    900    World    207  Lower 95 PI     2095.5  4756074.116   \n",
       "2100-01-01    900    World    207  Lower 95 PI     2100.5  4701223.363   \n",
       "\n",
       "              PopFemale     PopTotal  PopDensity  \n",
       "Time                                              \n",
       "1950-01-01  1270171.462  2536431.018      19.497  \n",
       "1951-01-01  1293796.589  2584034.227      19.863  \n",
       "1952-01-01  1317007.125  2630861.690      20.223  \n",
       "1953-01-01  1340156.275  2677609.061      20.582  \n",
       "1954-01-01  1363532.920  2724846.754      20.945  \n",
       "...                 ...          ...         ...  \n",
       "2080-01-01  4859354.518  9726521.507      74.765  \n",
       "2085-01-01  4839249.900  9677886.785      74.391  \n",
       "2090-01-01  4810689.690  9618845.868      73.938  \n",
       "2095-01-01  4770707.097  9529601.180      73.252  \n",
       "2100-01-01  4722648.161  9424390.594      72.443  \n",
       "\n",
       "[884 rows x 9 columns]"
      ]
     },
     "execution_count": 223,
     "metadata": {},
     "output_type": "execute_result"
    }
   ],
   "source": [
    "world_pop['Time'] = world_pop['Time'].apply(lambda x: \"01/01/\" + str(x))\n",
    "world_pop = world_pop.set_index('Time')\n",
    "world_pop.index = pd.to_datetime(world_pop.index)\n",
    "world_pop"
   ]
  },
  {
   "cell_type": "code",
   "execution_count": null,
   "id": "5ec16d2d",
   "metadata": {},
   "outputs": [],
   "source": [
    "#Divide estimations & constant/historical data\n",
    "world_pop_estimations = world_pop['2020':]\n",
    "world_pop_const = world_pop[:'2019']\n",
    "world_pop_const"
   ]
  },
  {
   "cell_type": "code",
   "execution_count": null,
   "id": "90d5b4db",
   "metadata": {},
   "outputs": [],
   "source": [
    "plt.figure(figsize=(18,10))\n",
    "world_pop_const['PopTotal'].plot()\n",
    "plt.show()"
   ]
  },
  {
   "cell_type": "code",
   "execution_count": null,
   "id": "8db09139",
   "metadata": {},
   "outputs": [],
   "source": [
    "stationarity_test(world_pop_const,'PopTotal')"
   ]
  },
  {
   "cell_type": "markdown",
   "id": "08518260",
   "metadata": {},
   "source": [
    "## Time Series Analysis #3: CO2 Emissions Trend"
   ]
  },
  {
   "cell_type": "markdown",
   "id": "03336f81",
   "metadata": {},
   "source": [
    "**Using RandomForests**"
   ]
  },
  {
   "cell_type": "markdown",
   "id": "06e7058d",
   "metadata": {},
   "source": [
    "1. Analyse des *feature_importances_* d'une regression linéraire sur les prédictions établies par la FAO sur les émissions de CO2"
   ]
  },
  {
   "cell_type": "markdown",
   "id": "c8da6b3d",
   "metadata": {},
   "source": [
    "2. Utilisation de ces informations pour construire une time-series analysis et prédire une trend à horizon 2050"
   ]
  },
  {
   "cell_type": "markdown",
   "id": "8f026270",
   "metadata": {},
   "source": [
    "3. Comparer ces résultats avec les estimations de la FAO"
   ]
  },
  {
   "cell_type": "markdown",
   "id": "9af26b6b",
   "metadata": {},
   "source": [
    "# Conclusion"
   ]
  },
  {
   "cell_type": "markdown",
   "id": "cdaf06bf",
   "metadata": {},
   "source": [
    "Of course these predictions are to be put into perspective and context. Climate change, and more recently Ukrainian war dismantle such algorithms. Such hazards, natural and man-made disasters lead to huge changes in food production. And it is undermining our ability to predict crop yields. Even the best models break down in this context."
   ]
  }
 ],
 "metadata": {
  "kernelspec": {
   "display_name": "Python 3 (ipykernel)",
   "language": "python",
   "name": "python3"
  },
  "language_info": {
   "codemirror_mode": {
    "name": "ipython",
    "version": 3
   },
   "file_extension": ".py",
   "mimetype": "text/x-python",
   "name": "python",
   "nbconvert_exporter": "python",
   "pygments_lexer": "ipython3",
   "version": "3.9.10"
  }
 },
 "nbformat": 4,
 "nbformat_minor": 5
}
